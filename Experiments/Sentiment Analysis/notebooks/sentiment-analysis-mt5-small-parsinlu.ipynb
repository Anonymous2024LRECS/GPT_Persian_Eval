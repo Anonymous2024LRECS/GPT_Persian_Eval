{
 "cells": [
  {
   "cell_type": "markdown",
   "id": "f765c57a",
   "metadata": {
    "id": "miBB9WTsPJ8D",
    "papermill": {
     "duration": 0.038977,
     "end_time": "2023-08-06T10:02:41.176362",
     "exception": false,
     "start_time": "2023-08-06T10:02:41.137385",
     "status": "completed"
    },
    "tags": []
   },
   "source": [
    "## Installing Requirements"
   ]
  },
  {
   "cell_type": "code",
   "execution_count": 1,
   "id": "0fd3fad5",
   "metadata": {
    "execution": {
     "iopub.execute_input": "2023-08-06T10:02:41.257026Z",
     "iopub.status.busy": "2023-08-06T10:02:41.255468Z",
     "iopub.status.idle": "2023-08-06T10:03:39.391253Z",
     "shell.execute_reply": "2023-08-06T10:03:39.389659Z"
    },
    "id": "1oaI35ooOkzx",
    "outputId": "5cb6bf63-aa63-4395-c859-a7131f7f5f07",
    "papermill": {
     "duration": 58.178958,
     "end_time": "2023-08-06T10:03:39.394180",
     "exception": false,
     "start_time": "2023-08-06T10:02:41.215222",
     "status": "completed"
    },
    "tags": []
   },
   "outputs": [
    {
     "name": "stdout",
     "output_type": "stream",
     "text": [
      "Requirement already satisfied: torch in /opt/conda/lib/python3.10/site-packages (2.0.0+cpu)\r\n",
      "Requirement already satisfied: filelock in /opt/conda/lib/python3.10/site-packages (from torch) (3.12.2)\r\n",
      "Requirement already satisfied: typing-extensions in /opt/conda/lib/python3.10/site-packages (from torch) (4.6.3)\r\n",
      "Requirement already satisfied: sympy in /opt/conda/lib/python3.10/site-packages (from torch) (1.12)\r\n",
      "Requirement already satisfied: networkx in /opt/conda/lib/python3.10/site-packages (from torch) (3.1)\r\n",
      "Requirement already satisfied: jinja2 in /opt/conda/lib/python3.10/site-packages (from torch) (3.1.2)\r\n",
      "Requirement already satisfied: MarkupSafe>=2.0 in /opt/conda/lib/python3.10/site-packages (from jinja2->torch) (2.1.3)\r\n",
      "Requirement already satisfied: mpmath>=0.19 in /opt/conda/lib/python3.10/site-packages (from sympy->torch) (1.3.0)\r\n",
      "Requirement already satisfied: transformers in /opt/conda/lib/python3.10/site-packages (4.30.2)\r\n",
      "Requirement already satisfied: filelock in /opt/conda/lib/python3.10/site-packages (from transformers) (3.12.2)\r\n",
      "Requirement already satisfied: huggingface-hub<1.0,>=0.14.1 in /opt/conda/lib/python3.10/site-packages (from transformers) (0.16.4)\r\n",
      "Requirement already satisfied: numpy>=1.17 in /opt/conda/lib/python3.10/site-packages (from transformers) (1.23.5)\r\n",
      "Requirement already satisfied: packaging>=20.0 in /opt/conda/lib/python3.10/site-packages (from transformers) (21.3)\r\n",
      "Requirement already satisfied: pyyaml>=5.1 in /opt/conda/lib/python3.10/site-packages (from transformers) (6.0)\r\n",
      "Requirement already satisfied: regex!=2019.12.17 in /opt/conda/lib/python3.10/site-packages (from transformers) (2023.6.3)\r\n",
      "Requirement already satisfied: requests in /opt/conda/lib/python3.10/site-packages (from transformers) (2.31.0)\r\n",
      "Requirement already satisfied: tokenizers!=0.11.3,<0.14,>=0.11.1 in /opt/conda/lib/python3.10/site-packages (from transformers) (0.13.3)\r\n",
      "Requirement already satisfied: safetensors>=0.3.1 in /opt/conda/lib/python3.10/site-packages (from transformers) (0.3.1)\r\n",
      "Requirement already satisfied: tqdm>=4.27 in /opt/conda/lib/python3.10/site-packages (from transformers) (4.65.0)\r\n",
      "Requirement already satisfied: fsspec in /opt/conda/lib/python3.10/site-packages (from huggingface-hub<1.0,>=0.14.1->transformers) (2023.6.0)\r\n",
      "Requirement already satisfied: typing-extensions>=3.7.4.3 in /opt/conda/lib/python3.10/site-packages (from huggingface-hub<1.0,>=0.14.1->transformers) (4.6.3)\r\n",
      "Requirement already satisfied: pyparsing!=3.0.5,>=2.0.2 in /opt/conda/lib/python3.10/site-packages (from packaging>=20.0->transformers) (3.0.9)\r\n",
      "Requirement already satisfied: charset-normalizer<4,>=2 in /opt/conda/lib/python3.10/site-packages (from requests->transformers) (3.1.0)\r\n",
      "Requirement already satisfied: idna<4,>=2.5 in /opt/conda/lib/python3.10/site-packages (from requests->transformers) (3.4)\r\n",
      "Requirement already satisfied: urllib3<3,>=1.21.1 in /opt/conda/lib/python3.10/site-packages (from requests->transformers) (1.26.15)\r\n",
      "Requirement already satisfied: certifi>=2017.4.17 in /opt/conda/lib/python3.10/site-packages (from requests->transformers) (2023.5.7)\r\n",
      "Requirement already satisfied: sentencepiece in /opt/conda/lib/python3.10/site-packages (0.1.99)\r\n",
      "Collecting alive-progress\r\n",
      "  Downloading alive_progress-3.1.4-py3-none-any.whl (75 kB)\r\n",
      "\u001b[2K     \u001b[90m━━━━━━━━━━━━━━━━━━━━━━━━━━━━━━━━━━━━━━━━\u001b[0m \u001b[32m75.9/75.9 kB\u001b[0m \u001b[31m3.1 MB/s\u001b[0m eta \u001b[36m0:00:00\u001b[0m\r\n",
      "\u001b[?25hCollecting about-time==4.2.1 (from alive-progress)\r\n",
      "  Downloading about_time-4.2.1-py3-none-any.whl (13 kB)\r\n",
      "Collecting grapheme==0.6.0 (from alive-progress)\r\n",
      "  Downloading grapheme-0.6.0.tar.gz (207 kB)\r\n",
      "\u001b[2K     \u001b[90m━━━━━━━━━━━━━━━━━━━━━━━━━━━━━━━━━━━━━━\u001b[0m \u001b[32m207.3/207.3 kB\u001b[0m \u001b[31m14.2 MB/s\u001b[0m eta \u001b[36m0:00:00\u001b[0m\r\n",
      "\u001b[?25h  Preparing metadata (setup.py) ... \u001b[?25l-\b \b\\\b \bdone\r\n",
      "\u001b[?25hBuilding wheels for collected packages: grapheme\r\n",
      "  Building wheel for grapheme (setup.py) ... \u001b[?25l-\b \b\\\b \b|\b \bdone\r\n",
      "\u001b[?25h  Created wheel for grapheme: filename=grapheme-0.6.0-py3-none-any.whl size=210095 sha256=fde6c214df06608f0f35394a5e213851d5ecb432b2a2dbb002c39b331724f56d\r\n",
      "  Stored in directory: /root/.cache/pip/wheels/01/e1/49/37e6bde9886439057450c494a79b0bef8bbe897a54aebfc757\r\n",
      "Successfully built grapheme\r\n",
      "Installing collected packages: grapheme, about-time, alive-progress\r\n",
      "Successfully installed about-time-4.2.1 alive-progress-3.1.4 grapheme-0.6.0\r\n"
     ]
    }
   ],
   "source": [
    "! pip install torch\n",
    "! pip install transformers\n",
    "! pip install sentencepiece\n",
    "! pip install alive-progress"
   ]
  },
  {
   "cell_type": "markdown",
   "id": "f17283f3",
   "metadata": {
    "id": "mI-t5o8GP-wY",
    "papermill": {
     "duration": 0.040247,
     "end_time": "2023-08-06T10:03:39.474804",
     "exception": false,
     "start_time": "2023-08-06T10:03:39.434557",
     "status": "completed"
    },
    "tags": []
   },
   "source": [
    "## Loading The Model"
   ]
  },
  {
   "cell_type": "code",
   "execution_count": 2,
   "id": "a858f95f",
   "metadata": {
    "execution": {
     "iopub.execute_input": "2023-08-06T10:03:39.557720Z",
     "iopub.status.busy": "2023-08-06T10:03:39.557120Z",
     "iopub.status.idle": "2023-08-06T10:03:54.972219Z",
     "shell.execute_reply": "2023-08-06T10:03:54.970936Z"
    },
    "id": "bkQIvgayNs_N",
    "papermill": {
     "duration": 15.459968,
     "end_time": "2023-08-06T10:03:54.974977",
     "exception": false,
     "start_time": "2023-08-06T10:03:39.515009",
     "status": "completed"
    },
    "tags": []
   },
   "outputs": [
    {
     "name": "stderr",
     "output_type": "stream",
     "text": [
      "/opt/conda/lib/python3.10/site-packages/scipy/__init__.py:146: UserWarning: A NumPy version >=1.16.5 and <1.23.0 is required for this version of SciPy (detected version 1.23.5\n",
      "  warnings.warn(f\"A NumPy version >={np_minversion} and <{np_maxversion}\"\n",
      "/opt/conda/lib/python3.10/site-packages/tensorflow_io/python/ops/__init__.py:98: UserWarning: unable to load libtensorflow_io_plugins.so: unable to open file: libtensorflow_io_plugins.so, from paths: ['/opt/conda/lib/python3.10/site-packages/tensorflow_io/python/ops/libtensorflow_io_plugins.so']\n",
      "caused by: ['/opt/conda/lib/python3.10/site-packages/tensorflow_io/python/ops/libtensorflow_io_plugins.so: undefined symbol: _ZN3tsl6StatusC1EN10tensorflow5error4CodeESt17basic_string_viewIcSt11char_traitsIcEENS_14SourceLocationE']\n",
      "  warnings.warn(f\"unable to load libtensorflow_io_plugins.so: {e}\")\n",
      "/opt/conda/lib/python3.10/site-packages/tensorflow_io/python/ops/__init__.py:104: UserWarning: file system plugins are not loaded: unable to open file: libtensorflow_io.so, from paths: ['/opt/conda/lib/python3.10/site-packages/tensorflow_io/python/ops/libtensorflow_io.so']\n",
      "caused by: ['/opt/conda/lib/python3.10/site-packages/tensorflow_io/python/ops/libtensorflow_io.so: undefined symbol: _ZTVN10tensorflow13GcsFileSystemE']\n",
      "  warnings.warn(f\"file system plugins are not loaded: {e}\")\n"
     ]
    }
   ],
   "source": [
    "import torch\n",
    "from transformers import MT5ForConditionalGeneration, MT5Tokenizer\n",
    "import numpy as np"
   ]
  },
  {
   "cell_type": "code",
   "execution_count": 3,
   "id": "7bfd23ee",
   "metadata": {
    "execution": {
     "iopub.execute_input": "2023-08-06T10:03:55.057372Z",
     "iopub.status.busy": "2023-08-06T10:03:55.056967Z",
     "iopub.status.idle": "2023-08-06T10:04:10.032449Z",
     "shell.execute_reply": "2023-08-06T10:04:10.030927Z"
    },
    "id": "PBQkACJRNvFW",
    "outputId": "ae19f497-b193-44fa-ee1e-2f9fd3eb309b",
    "papermill": {
     "duration": 15.019892,
     "end_time": "2023-08-06T10:04:10.035225",
     "exception": false,
     "start_time": "2023-08-06T10:03:55.015333",
     "status": "completed"
    },
    "tags": []
   },
   "outputs": [
    {
     "data": {
      "application/vnd.jupyter.widget-view+json": {
       "model_id": "04153ddff82c4f79ad49d677a8797683",
       "version_major": 2,
       "version_minor": 0
      },
      "text/plain": [
       "Downloading spiece.model:   0%|          | 0.00/4.31M [00:00<?, ?B/s]"
      ]
     },
     "metadata": {},
     "output_type": "display_data"
    },
    {
     "data": {
      "application/vnd.jupyter.widget-view+json": {
       "model_id": "76f0a73c52d14e8dbea3c30d2fae4e50",
       "version_major": 2,
       "version_minor": 0
      },
      "text/plain": [
       "Downloading (…)cial_tokens_map.json:   0%|          | 0.00/65.0 [00:00<?, ?B/s]"
      ]
     },
     "metadata": {},
     "output_type": "display_data"
    },
    {
     "data": {
      "application/vnd.jupyter.widget-view+json": {
       "model_id": "b1ccaaea437f4e35bbc35a5421de3948",
       "version_major": 2,
       "version_minor": 0
      },
      "text/plain": [
       "Downloading (…)okenizer_config.json:   0%|          | 0.00/383 [00:00<?, ?B/s]"
      ]
     },
     "metadata": {},
     "output_type": "display_data"
    },
    {
     "data": {
      "application/vnd.jupyter.widget-view+json": {
       "model_id": "b2ff080f1c2844a5a4aa4790dca9f059",
       "version_major": 2,
       "version_minor": 0
      },
      "text/plain": [
       "Downloading (…)lve/main/config.json:   0%|          | 0.00/609 [00:00<?, ?B/s]"
      ]
     },
     "metadata": {},
     "output_type": "display_data"
    },
    {
     "data": {
      "application/vnd.jupyter.widget-view+json": {
       "model_id": "91f404e58de14f6080bd8278c7dc64f8",
       "version_major": 2,
       "version_minor": 0
      },
      "text/plain": [
       "Downloading pytorch_model.bin:   0%|          | 0.00/1.20G [00:00<?, ?B/s]"
      ]
     },
     "metadata": {},
     "output_type": "display_data"
    }
   ],
   "source": [
    "model_name = \"persiannlp/mt5-small-parsinlu-sentiment-analysis\"\n",
    "tokenizer = MT5Tokenizer.from_pretrained(model_name)\n",
    "model = MT5ForConditionalGeneration.from_pretrained(model_name)"
   ]
  },
  {
   "cell_type": "code",
   "execution_count": 4,
   "id": "d17079a0",
   "metadata": {
    "execution": {
     "iopub.execute_input": "2023-08-06T10:04:10.121214Z",
     "iopub.status.busy": "2023-08-06T10:04:10.120788Z",
     "iopub.status.idle": "2023-08-06T10:04:10.127475Z",
     "shell.execute_reply": "2023-08-06T10:04:10.126368Z"
    },
    "id": "o_loLz9RNwz1",
    "papermill": {
     "duration": 0.052374,
     "end_time": "2023-08-06T10:04:10.129917",
     "exception": false,
     "start_time": "2023-08-06T10:04:10.077543",
     "status": "completed"
    },
    "tags": []
   },
   "outputs": [],
   "source": [
    "def model_predict(text_a, text_b):\n",
    "    features = tokenizer( [(text_a, text_b)], padding=\"max_length\", truncation=True, return_tensors='pt')\n",
    "    output = model(**features)\n",
    "    logits = output[0]\n",
    "    probs = torch.nn.functional.softmax(logits, dim=1).tolist()\n",
    "    idx = np.argmax(np.array(probs))\n",
    "    print(labels[idx], probs)"
   ]
  },
  {
   "cell_type": "code",
   "execution_count": 5,
   "id": "45e9d051",
   "metadata": {
    "execution": {
     "iopub.execute_input": "2023-08-06T10:04:10.215232Z",
     "iopub.status.busy": "2023-08-06T10:04:10.214786Z",
     "iopub.status.idle": "2023-08-06T10:04:10.221017Z",
     "shell.execute_reply": "2023-08-06T10:04:10.219642Z"
    },
    "id": "mLflxLBTNy5I",
    "papermill": {
     "duration": 0.052258,
     "end_time": "2023-08-06T10:04:10.223795",
     "exception": false,
     "start_time": "2023-08-06T10:04:10.171537",
     "status": "completed"
    },
    "tags": []
   },
   "outputs": [],
   "source": [
    "def run_model(context, query, **generator_args):\n",
    "    input_ids = tokenizer.encode(context + \"<sep>\" + query, return_tensors=\"pt\")\n",
    "    res = model.generate(input_ids, **generator_args)\n",
    "    output = tokenizer.batch_decode(res, skip_special_tokens=True)\n",
    "#     print(output)\n",
    "    return output"
   ]
  },
  {
   "cell_type": "markdown",
   "id": "5f883a91",
   "metadata": {
    "id": "0YkZFFStQN7l",
    "papermill": {
     "duration": 0.043938,
     "end_time": "2023-08-06T10:04:10.309261",
     "exception": false,
     "start_time": "2023-08-06T10:04:10.265323",
     "status": "completed"
    },
    "tags": []
   },
   "source": [
    "## Creating Dataset"
   ]
  },
  {
   "cell_type": "code",
   "execution_count": 6,
   "id": "043ca3c1",
   "metadata": {
    "execution": {
     "iopub.execute_input": "2023-08-06T10:04:10.399753Z",
     "iopub.status.busy": "2023-08-06T10:04:10.399309Z",
     "iopub.status.idle": "2023-08-06T10:04:10.403992Z",
     "shell.execute_reply": "2023-08-06T10:04:10.402963Z"
    },
    "id": "qLbAVPMFQTfd",
    "outputId": "8217d748-bee3-455b-b4d1-9daa89ab26b3",
    "papermill": {
     "duration": 0.063649,
     "end_time": "2023-08-06T10:04:10.415710",
     "exception": false,
     "start_time": "2023-08-06T10:04:10.352061",
     "status": "completed"
    },
    "tags": []
   },
   "outputs": [],
   "source": [
    "input_file = \"/kaggle/input/parsinlu-foods-dataset/food.jsonl\""
   ]
  },
  {
   "cell_type": "markdown",
   "id": "2ab0dccf",
   "metadata": {
    "papermill": {
     "duration": 0.052411,
     "end_time": "2023-08-06T10:04:10.516982",
     "exception": false,
     "start_time": "2023-08-06T10:04:10.464571",
     "status": "completed"
    },
    "tags": []
   },
   "source": [
    "### Creating Dataframe"
   ]
  },
  {
   "cell_type": "code",
   "execution_count": 7,
   "id": "28a1c79f",
   "metadata": {
    "execution": {
     "iopub.execute_input": "2023-08-06T10:04:10.602833Z",
     "iopub.status.busy": "2023-08-06T10:04:10.602381Z",
     "iopub.status.idle": "2023-08-06T10:04:10.625656Z",
     "shell.execute_reply": "2023-08-06T10:04:10.624229Z"
    },
    "id": "qLbAVPMFQTfd",
    "outputId": "8217d748-bee3-455b-b4d1-9daa89ab26b3",
    "papermill": {
     "duration": 0.069448,
     "end_time": "2023-08-06T10:04:10.628461",
     "exception": false,
     "start_time": "2023-08-06T10:04:10.559013",
     "status": "completed"
    },
    "tags": []
   },
   "outputs": [],
   "source": [
    "with open(input_file) as f:\n",
    "    lines = f.read().splitlines()"
   ]
  },
  {
   "cell_type": "code",
   "execution_count": 8,
   "id": "01801c22",
   "metadata": {
    "execution": {
     "iopub.execute_input": "2023-08-06T10:04:10.715168Z",
     "iopub.status.busy": "2023-08-06T10:04:10.714029Z",
     "iopub.status.idle": "2023-08-06T10:04:10.727868Z",
     "shell.execute_reply": "2023-08-06T10:04:10.726522Z"
    },
    "id": "qLbAVPMFQTfd",
    "outputId": "8217d748-bee3-455b-b4d1-9daa89ab26b3",
    "papermill": {
     "duration": 0.06069,
     "end_time": "2023-08-06T10:04:10.730724",
     "exception": false,
     "start_time": "2023-08-06T10:04:10.670034",
     "status": "completed"
    },
    "tags": []
   },
   "outputs": [],
   "source": [
    "import pandas as pd\n",
    "\n",
    "df_inter = pd.DataFrame(lines)\n",
    "df_inter.columns = ['json_element']"
   ]
  },
  {
   "cell_type": "code",
   "execution_count": 9,
   "id": "8ea9ff37",
   "metadata": {
    "execution": {
     "iopub.execute_input": "2023-08-06T10:04:10.826315Z",
     "iopub.status.busy": "2023-08-06T10:04:10.825522Z",
     "iopub.status.idle": "2023-08-06T10:04:10.906431Z",
     "shell.execute_reply": "2023-08-06T10:04:10.905544Z"
    },
    "id": "qLbAVPMFQTfd",
    "outputId": "8217d748-bee3-455b-b4d1-9daa89ab26b3",
    "papermill": {
     "duration": 0.135068,
     "end_time": "2023-08-06T10:04:10.909460",
     "exception": false,
     "start_time": "2023-08-06T10:04:10.774392",
     "status": "completed"
    },
    "tags": []
   },
   "outputs": [
    {
     "data": {
      "text/html": [
       "<div>\n",
       "<style scoped>\n",
       "    .dataframe tbody tr th:only-of-type {\n",
       "        vertical-align: middle;\n",
       "    }\n",
       "\n",
       "    .dataframe tbody tr th {\n",
       "        vertical-align: top;\n",
       "    }\n",
       "\n",
       "    .dataframe thead th {\n",
       "        text-align: right;\n",
       "    }\n",
       "</style>\n",
       "<table border=\"1\" class=\"dataframe\">\n",
       "  <thead>\n",
       "    <tr style=\"text-align: right;\">\n",
       "      <th></th>\n",
       "      <th>review</th>\n",
       "      <th>sentiment</th>\n",
       "      <th>category</th>\n",
       "      <th>aspects.طعم</th>\n",
       "      <th>aspects.کیفیت</th>\n",
       "      <th>aspects.ارزش غذایی</th>\n",
       "      <th>aspects.ارزش خرید</th>\n",
       "      <th>aspects.بسته بندی</th>\n",
       "      <th>aspects.ارسال</th>\n",
       "    </tr>\n",
       "  </thead>\n",
       "  <tbody>\n",
       "    <tr>\n",
       "      <th>0</th>\n",
       "      <td>من یه مدته فقط از این محصول استفاده میکنم اما ...</td>\n",
       "      <td>3</td>\n",
       "      <td>حبوبات و سویا</td>\n",
       "      <td>NaN</td>\n",
       "      <td>NaN</td>\n",
       "      <td>NaN</td>\n",
       "      <td>NaN</td>\n",
       "      <td>NaN</td>\n",
       "      <td>NaN</td>\n",
       "    </tr>\n",
       "    <tr>\n",
       "      <th>1</th>\n",
       "      <td>اگه بخوای به صورت مکمل استفاده اش کنی خوبه وار...</td>\n",
       "      <td>1</td>\n",
       "      <td>شربت و آبمیوه</td>\n",
       "      <td>NaN</td>\n",
       "      <td>NaN</td>\n",
       "      <td>NaN</td>\n",
       "      <td>NaN</td>\n",
       "      <td>NaN</td>\n",
       "      <td>NaN</td>\n",
       "    </tr>\n",
       "    <tr>\n",
       "      <th>2</th>\n",
       "      <td>طعم خیلی خوبی داره و توضیحات کالا کاملا با خود...</td>\n",
       "      <td>2</td>\n",
       "      <td>تن ماهی</td>\n",
       "      <td>2</td>\n",
       "      <td>NaN</td>\n",
       "      <td>NaN</td>\n",
       "      <td>NaN</td>\n",
       "      <td>NaN</td>\n",
       "      <td>NaN</td>\n",
       "    </tr>\n",
       "    <tr>\n",
       "      <th>3</th>\n",
       "      <td>من این رو که گرفتم خیلی به نظر مونده بود و بشد...</td>\n",
       "      <td>-2</td>\n",
       "      <td>گوشت مرغ</td>\n",
       "      <td>-2</td>\n",
       "      <td>-2</td>\n",
       "      <td>NaN</td>\n",
       "      <td>NaN</td>\n",
       "      <td>NaN</td>\n",
       "      <td>NaN</td>\n",
       "    </tr>\n",
       "    <tr>\n",
       "      <th>4</th>\n",
       "      <td>کلا که نوشابه محصول مفیدی نیست. اما اونایی که ...</td>\n",
       "      <td>1</td>\n",
       "      <td>نوشابه</td>\n",
       "      <td>NaN</td>\n",
       "      <td>NaN</td>\n",
       "      <td>-1</td>\n",
       "      <td>1</td>\n",
       "      <td>NaN</td>\n",
       "      <td>NaN</td>\n",
       "    </tr>\n",
       "  </tbody>\n",
       "</table>\n",
       "</div>"
      ],
      "text/plain": [
       "                                              review sentiment       category  \\\n",
       "0  من یه مدته فقط از این محصول استفاده میکنم اما ...         3  حبوبات و سویا   \n",
       "1  اگه بخوای به صورت مکمل استفاده اش کنی خوبه وار...         1  شربت و آبمیوه   \n",
       "2  طعم خیلی خوبی داره و توضیحات کالا کاملا با خود...         2        تن ماهی   \n",
       "3  من این رو که گرفتم خیلی به نظر مونده بود و بشد...        -2       گوشت مرغ   \n",
       "4  کلا که نوشابه محصول مفیدی نیست. اما اونایی که ...         1         نوشابه   \n",
       "\n",
       "  aspects.طعم aspects.کیفیت aspects.ارزش غذایی aspects.ارزش خرید  \\\n",
       "0         NaN           NaN                NaN               NaN   \n",
       "1         NaN           NaN                NaN               NaN   \n",
       "2           2           NaN                NaN               NaN   \n",
       "3          -2            -2                NaN               NaN   \n",
       "4         NaN           NaN                 -1                 1   \n",
       "\n",
       "  aspects.بسته بندی aspects.ارسال  \n",
       "0               NaN           NaN  \n",
       "1               NaN           NaN  \n",
       "2               NaN           NaN  \n",
       "3               NaN           NaN  \n",
       "4               NaN           NaN  "
      ]
     },
     "execution_count": 9,
     "metadata": {},
     "output_type": "execute_result"
    }
   ],
   "source": [
    "import json\n",
    "\n",
    "df_inter['json_element'].apply(json.loads)\n",
    "\n",
    "df_final = pd.json_normalize(df_inter['json_element'].apply(json.loads))\n",
    "\n",
    "df_final.head(n=5)"
   ]
  },
  {
   "cell_type": "code",
   "execution_count": 10,
   "id": "87d66139",
   "metadata": {
    "execution": {
     "iopub.execute_input": "2023-08-06T10:04:11.004623Z",
     "iopub.status.busy": "2023-08-06T10:04:11.003575Z",
     "iopub.status.idle": "2023-08-06T10:04:11.021965Z",
     "shell.execute_reply": "2023-08-06T10:04:11.021092Z"
    },
    "id": "EZ2aFU46R4Uq",
    "outputId": "08bd8479-0c93-43d3-e69c-fb7569e74ede",
    "papermill": {
     "duration": 0.066343,
     "end_time": "2023-08-06T10:04:11.024268",
     "exception": false,
     "start_time": "2023-08-06T10:04:10.957925",
     "status": "completed"
    },
    "tags": []
   },
   "outputs": [
    {
     "data": {
      "text/plain": [
       "-2    462\n",
       "2     440\n",
       "1     420\n",
       "-1    381\n",
       "3     184\n",
       "0      30\n",
       "Name: sentiment, dtype: int64"
      ]
     },
     "execution_count": 10,
     "metadata": {},
     "output_type": "execute_result"
    }
   ],
   "source": [
    "df_final['sentiment'].value_counts()"
   ]
  },
  {
   "cell_type": "code",
   "execution_count": 11,
   "id": "12ac6923",
   "metadata": {
    "execution": {
     "iopub.execute_input": "2023-08-06T10:04:11.111563Z",
     "iopub.status.busy": "2023-08-06T10:04:11.110813Z",
     "iopub.status.idle": "2023-08-06T10:04:11.142071Z",
     "shell.execute_reply": "2023-08-06T10:04:11.140997Z"
    },
    "id": "n8vR8keDUzjp",
    "outputId": "2a670df3-fe26-4469-a23b-663c510eb6f4",
    "papermill": {
     "duration": 0.079175,
     "end_time": "2023-08-06T10:04:11.145967",
     "exception": false,
     "start_time": "2023-08-06T10:04:11.066792",
     "status": "completed"
    },
    "tags": []
   },
   "outputs": [
    {
     "name": "stdout",
     "output_type": "stream",
     "text": [
      "<class 'pandas.core.frame.DataFrame'>\n",
      "RangeIndex: 1917 entries, 0 to 1916\n",
      "Data columns (total 9 columns):\n",
      " #   Column              Non-Null Count  Dtype \n",
      "---  ------              --------------  ----- \n",
      " 0   review              1917 non-null   object\n",
      " 1   sentiment           1917 non-null   object\n",
      " 2   category            1917 non-null   object\n",
      " 3   aspects.طعم         886 non-null    object\n",
      " 4   aspects.کیفیت       553 non-null    object\n",
      " 5   aspects.ارزش غذایی  89 non-null     object\n",
      " 6   aspects.ارزش خرید   414 non-null    object\n",
      " 7   aspects.بسته بندی   156 non-null    object\n",
      " 8   aspects.ارسال       64 non-null     object\n",
      "dtypes: object(9)\n",
      "memory usage: 134.9+ KB\n"
     ]
    }
   ],
   "source": [
    "df_final.info()"
   ]
  },
  {
   "cell_type": "code",
   "execution_count": 12,
   "id": "f73031c8",
   "metadata": {
    "execution": {
     "iopub.execute_input": "2023-08-06T10:04:11.245107Z",
     "iopub.status.busy": "2023-08-06T10:04:11.244696Z",
     "iopub.status.idle": "2023-08-06T10:04:11.281161Z",
     "shell.execute_reply": "2023-08-06T10:04:11.280004Z"
    },
    "id": "HypiGXTeUzgy",
    "outputId": "82295841-842f-40cb-a22e-d6f31f2e7bbf",
    "papermill": {
     "duration": 0.085273,
     "end_time": "2023-08-06T10:04:11.283745",
     "exception": false,
     "start_time": "2023-08-06T10:04:11.198472",
     "status": "completed"
    },
    "tags": []
   },
   "outputs": [
    {
     "data": {
      "text/html": [
       "<div>\n",
       "<style scoped>\n",
       "    .dataframe tbody tr th:only-of-type {\n",
       "        vertical-align: middle;\n",
       "    }\n",
       "\n",
       "    .dataframe tbody tr th {\n",
       "        vertical-align: top;\n",
       "    }\n",
       "\n",
       "    .dataframe thead th {\n",
       "        text-align: right;\n",
       "    }\n",
       "</style>\n",
       "<table border=\"1\" class=\"dataframe\">\n",
       "  <thead>\n",
       "    <tr style=\"text-align: right;\">\n",
       "      <th></th>\n",
       "      <th>review</th>\n",
       "      <th>sentiment</th>\n",
       "      <th>category</th>\n",
       "      <th>aspects.طعم</th>\n",
       "      <th>aspects.کیفیت</th>\n",
       "      <th>aspects.ارزش غذایی</th>\n",
       "      <th>aspects.ارزش خرید</th>\n",
       "      <th>aspects.بسته بندی</th>\n",
       "      <th>aspects.ارسال</th>\n",
       "    </tr>\n",
       "  </thead>\n",
       "  <tbody>\n",
       "    <tr>\n",
       "      <th>count</th>\n",
       "      <td>1917</td>\n",
       "      <td>1917</td>\n",
       "      <td>1917</td>\n",
       "      <td>886</td>\n",
       "      <td>553</td>\n",
       "      <td>89</td>\n",
       "      <td>414</td>\n",
       "      <td>156</td>\n",
       "      <td>64</td>\n",
       "    </tr>\n",
       "    <tr>\n",
       "      <th>unique</th>\n",
       "      <td>1917</td>\n",
       "      <td>6</td>\n",
       "      <td>20</td>\n",
       "      <td>6</td>\n",
       "      <td>6</td>\n",
       "      <td>6</td>\n",
       "      <td>6</td>\n",
       "      <td>5</td>\n",
       "      <td>4</td>\n",
       "    </tr>\n",
       "    <tr>\n",
       "      <th>top</th>\n",
       "      <td>من یه مدته فقط از این محصول استفاده میکنم اما ...</td>\n",
       "      <td>-2</td>\n",
       "      <td>تن ماهی</td>\n",
       "      <td>1</td>\n",
       "      <td>1</td>\n",
       "      <td>1</td>\n",
       "      <td>1</td>\n",
       "      <td>1</td>\n",
       "      <td>-1</td>\n",
       "    </tr>\n",
       "    <tr>\n",
       "      <th>freq</th>\n",
       "      <td>1</td>\n",
       "      <td>462</td>\n",
       "      <td>106</td>\n",
       "      <td>269</td>\n",
       "      <td>179</td>\n",
       "      <td>39</td>\n",
       "      <td>176</td>\n",
       "      <td>62</td>\n",
       "      <td>24</td>\n",
       "    </tr>\n",
       "  </tbody>\n",
       "</table>\n",
       "</div>"
      ],
      "text/plain": [
       "                                                   review sentiment category  \\\n",
       "count                                                1917      1917     1917   \n",
       "unique                                               1917         6       20   \n",
       "top     من یه مدته فقط از این محصول استفاده میکنم اما ...        -2  تن ماهی   \n",
       "freq                                                    1       462      106   \n",
       "\n",
       "       aspects.طعم aspects.کیفیت aspects.ارزش غذایی aspects.ارزش خرید  \\\n",
       "count          886           553                 89               414   \n",
       "unique           6             6                  6                 6   \n",
       "top              1             1                  1                 1   \n",
       "freq           269           179                 39               176   \n",
       "\n",
       "       aspects.بسته بندی aspects.ارسال  \n",
       "count                156            64  \n",
       "unique                 5             4  \n",
       "top                    1            -1  \n",
       "freq                  62            24  "
      ]
     },
     "execution_count": 12,
     "metadata": {},
     "output_type": "execute_result"
    }
   ],
   "source": [
    "df_final.describe()"
   ]
  },
  {
   "cell_type": "code",
   "execution_count": 13,
   "id": "bd6c52b3",
   "metadata": {
    "execution": {
     "iopub.execute_input": "2023-08-06T10:04:11.389511Z",
     "iopub.status.busy": "2023-08-06T10:04:11.387679Z",
     "iopub.status.idle": "2023-08-06T10:04:11.407837Z",
     "shell.execute_reply": "2023-08-06T10:04:11.406389Z"
    },
    "id": "SwiYAbQhUzXN",
    "outputId": "948a1a8f-6416-4522-80e8-56d2cd3e6634",
    "papermill": {
     "duration": 0.082739,
     "end_time": "2023-08-06T10:04:11.410742",
     "exception": false,
     "start_time": "2023-08-06T10:04:11.328003",
     "status": "completed"
    },
    "tags": []
   },
   "outputs": [
    {
     "data": {
      "text/html": [
       "<div>\n",
       "<style scoped>\n",
       "    .dataframe tbody tr th:only-of-type {\n",
       "        vertical-align: middle;\n",
       "    }\n",
       "\n",
       "    .dataframe tbody tr th {\n",
       "        vertical-align: top;\n",
       "    }\n",
       "\n",
       "    .dataframe thead th {\n",
       "        text-align: right;\n",
       "    }\n",
       "</style>\n",
       "<table border=\"1\" class=\"dataframe\">\n",
       "  <thead>\n",
       "    <tr style=\"text-align: right;\">\n",
       "      <th></th>\n",
       "      <th>review</th>\n",
       "      <th>sentiment</th>\n",
       "    </tr>\n",
       "  </thead>\n",
       "  <tbody>\n",
       "    <tr>\n",
       "      <th>0</th>\n",
       "      <td>من یه مدته فقط از این محصول استفاده میکنم اما ...</td>\n",
       "      <td>3</td>\n",
       "    </tr>\n",
       "    <tr>\n",
       "      <th>1</th>\n",
       "      <td>اگه بخوای به صورت مکمل استفاده اش کنی خوبه وار...</td>\n",
       "      <td>1</td>\n",
       "    </tr>\n",
       "    <tr>\n",
       "      <th>2</th>\n",
       "      <td>طعم خیلی خوبی داره و توضیحات کالا کاملا با خود...</td>\n",
       "      <td>2</td>\n",
       "    </tr>\n",
       "    <tr>\n",
       "      <th>3</th>\n",
       "      <td>من این رو که گرفتم خیلی به نظر مونده بود و بشد...</td>\n",
       "      <td>-2</td>\n",
       "    </tr>\n",
       "    <tr>\n",
       "      <th>4</th>\n",
       "      <td>کلا که نوشابه محصول مفیدی نیست. اما اونایی که ...</td>\n",
       "      <td>1</td>\n",
       "    </tr>\n",
       "  </tbody>\n",
       "</table>\n",
       "</div>"
      ],
      "text/plain": [
       "                                              review sentiment\n",
       "0  من یه مدته فقط از این محصول استفاده میکنم اما ...         3\n",
       "1  اگه بخوای به صورت مکمل استفاده اش کنی خوبه وار...         1\n",
       "2  طعم خیلی خوبی داره و توضیحات کالا کاملا با خود...         2\n",
       "3  من این رو که گرفتم خیلی به نظر مونده بود و بشد...        -2\n",
       "4  کلا که نوشابه محصول مفیدی نیست. اما اونایی که ...         1"
      ]
     },
     "execution_count": 13,
     "metadata": {},
     "output_type": "execute_result"
    }
   ],
   "source": [
    "df_final = df_final[['review', 'sentiment']]\n",
    "df_final.head(n=5)"
   ]
  },
  {
   "cell_type": "code",
   "execution_count": 14,
   "id": "8de93400",
   "metadata": {
    "execution": {
     "iopub.execute_input": "2023-08-06T10:04:11.501972Z",
     "iopub.status.busy": "2023-08-06T10:04:11.501120Z",
     "iopub.status.idle": "2023-08-06T10:04:11.507050Z",
     "shell.execute_reply": "2023-08-06T10:04:11.505724Z"
    },
    "papermill": {
     "duration": 0.054393,
     "end_time": "2023-08-06T10:04:11.510019",
     "exception": false,
     "start_time": "2023-08-06T10:04:11.455626",
     "status": "completed"
    },
    "tags": []
   },
   "outputs": [],
   "source": [
    "random_state = 18"
   ]
  },
  {
   "cell_type": "markdown",
   "id": "e4b3ff6b",
   "metadata": {
    "papermill": {
     "duration": 0.050328,
     "end_time": "2023-08-06T10:04:11.612116",
     "exception": false,
     "start_time": "2023-08-06T10:04:11.561788",
     "status": "completed"
    },
    "tags": []
   },
   "source": [
    "### Samples"
   ]
  },
  {
   "cell_type": "code",
   "execution_count": 15,
   "id": "1236c7ec",
   "metadata": {
    "execution": {
     "iopub.execute_input": "2023-08-06T10:04:11.704629Z",
     "iopub.status.busy": "2023-08-06T10:04:11.703521Z",
     "iopub.status.idle": "2023-08-06T10:04:11.728732Z",
     "shell.execute_reply": "2023-08-06T10:04:11.727449Z"
    },
    "id": "1zbUnvTwVWLe",
    "outputId": "b6d6dba5-a361-4068-a43b-4ba730754bc8",
    "papermill": {
     "duration": 0.073214,
     "end_time": "2023-08-06T10:04:11.731252",
     "exception": false,
     "start_time": "2023-08-06T10:04:11.658038",
     "status": "completed"
    },
    "tags": []
   },
   "outputs": [
    {
     "data": {
      "text/html": [
       "<div>\n",
       "<style scoped>\n",
       "    .dataframe tbody tr th:only-of-type {\n",
       "        vertical-align: middle;\n",
       "    }\n",
       "\n",
       "    .dataframe tbody tr th {\n",
       "        vertical-align: top;\n",
       "    }\n",
       "\n",
       "    .dataframe thead th {\n",
       "        text-align: right;\n",
       "    }\n",
       "</style>\n",
       "<table border=\"1\" class=\"dataframe\">\n",
       "  <thead>\n",
       "    <tr style=\"text-align: right;\">\n",
       "      <th></th>\n",
       "      <th></th>\n",
       "      <th>review</th>\n",
       "      <th>sentiment</th>\n",
       "    </tr>\n",
       "    <tr>\n",
       "      <th>sentiment</th>\n",
       "      <th></th>\n",
       "      <th></th>\n",
       "      <th></th>\n",
       "    </tr>\n",
       "  </thead>\n",
       "  <tbody>\n",
       "    <tr>\n",
       "      <th>-1</th>\n",
       "      <th>17</th>\n",
       "      <td>پودر قهوه دارای کیفیت مطلوب نبود وعطر و بوی در...</td>\n",
       "      <td>-1</td>\n",
       "    </tr>\n",
       "    <tr>\n",
       "      <th>-2</th>\n",
       "      <th>836</th>\n",
       "      <td>از این برند انتظار بیشتری داشتم خیلی خشک و بی ...</td>\n",
       "      <td>-2</td>\n",
       "    </tr>\n",
       "    <tr>\n",
       "      <th>0</th>\n",
       "      <th>1015</th>\n",
       "      <td>تعداد شیر های پرچرب کمتر از کم چرب بود ۴ تا کم...</td>\n",
       "      <td>0</td>\n",
       "    </tr>\n",
       "    <tr>\n",
       "      <th>1</th>\n",
       "      <th>238</th>\n",
       "      <td>دفعه های قبل که سفارش دادم بو میداد ولی ایندفع...</td>\n",
       "      <td>1</td>\n",
       "    </tr>\n",
       "    <tr>\n",
       "      <th>2</th>\n",
       "      <th>499</th>\n",
       "      <td>به نظرم خیلی خوشمزه بود طعم شکلات با قهوه عالی...</td>\n",
       "      <td>2</td>\n",
       "    </tr>\n",
       "    <tr>\n",
       "      <th>3</th>\n",
       "      <th>916</th>\n",
       "      <td>از نظر کیفیت خوبه ولی از نظر قیمت فقط تو پیشنه...</td>\n",
       "      <td>3</td>\n",
       "    </tr>\n",
       "  </tbody>\n",
       "</table>\n",
       "</div>"
      ],
      "text/plain": [
       "                                                           review sentiment\n",
       "sentiment                                                                  \n",
       "-1        17    پودر قهوه دارای کیفیت مطلوب نبود وعطر و بوی در...        -1\n",
       "-2        836   از این برند انتظار بیشتری داشتم خیلی خشک و بی ...        -2\n",
       "0         1015  تعداد شیر های پرچرب کمتر از کم چرب بود ۴ تا کم...         0\n",
       "1         238   دفعه های قبل که سفارش دادم بو میداد ولی ایندفع...         1\n",
       "2         499   به نظرم خیلی خوشمزه بود طعم شکلات با قهوه عالی...         2\n",
       "3         916   از نظر کیفیت خوبه ولی از نظر قیمت فقط تو پیشنه...         3"
      ]
     },
     "execution_count": 15,
     "metadata": {},
     "output_type": "execute_result"
    }
   ],
   "source": [
    "samples_count = 1\n",
    "sample_prompts = df_final.groupby('sentiment').apply(lambda x: x.sample(n=samples_count, random_state=random_state))\n",
    "sample_prompts"
   ]
  },
  {
   "cell_type": "markdown",
   "id": "98f85b8b",
   "metadata": {
    "id": "Yp2bVHIqBc7d",
    "papermill": {
     "duration": 0.043067,
     "end_time": "2023-08-06T10:04:11.817644",
     "exception": false,
     "start_time": "2023-08-06T10:04:11.774577",
     "status": "completed"
    },
    "tags": []
   },
   "source": [
    "## Prompts"
   ]
  },
  {
   "cell_type": "code",
   "execution_count": 16,
   "id": "c436deba",
   "metadata": {
    "execution": {
     "iopub.execute_input": "2023-08-06T10:04:11.907971Z",
     "iopub.status.busy": "2023-08-06T10:04:11.907131Z",
     "iopub.status.idle": "2023-08-06T10:04:11.912276Z",
     "shell.execute_reply": "2023-08-06T10:04:11.911392Z"
    },
    "id": "JSNee6KnBcEp",
    "papermill": {
     "duration": 0.05358,
     "end_time": "2023-08-06T10:04:11.914930",
     "exception": false,
     "start_time": "2023-08-06T10:04:11.861350",
     "status": "completed"
    },
    "tags": []
   },
   "outputs": [],
   "source": [
    "import time\n",
    "\n",
    "max_retries = 5"
   ]
  },
  {
   "cell_type": "code",
   "execution_count": 17,
   "id": "6731390f",
   "metadata": {
    "execution": {
     "iopub.execute_input": "2023-08-06T10:04:12.012070Z",
     "iopub.status.busy": "2023-08-06T10:04:12.011620Z",
     "iopub.status.idle": "2023-08-06T10:04:12.017344Z",
     "shell.execute_reply": "2023-08-06T10:04:12.016104Z"
    },
    "id": "edGFvZCbR4Us",
    "papermill": {
     "duration": 0.053577,
     "end_time": "2023-08-06T10:04:12.019781",
     "exception": false,
     "start_time": "2023-08-06T10:04:11.966204",
     "status": "completed"
    },
    "tags": []
   },
   "outputs": [],
   "source": [
    "label_dict = {\n",
    "    \"-2\" : \"NEGATIVE\",\n",
    "    \"-1\" : \"NEGATIVE\",\n",
    "    \"0\"  : \"NEUTRAL\",\n",
    "    \"1\"  : \"POSITIVE\",\n",
    "    \"2\"  : \"POSITIVE\",\n",
    "    \"3\"  : \"OTHER\",\n",
    "}"
   ]
  },
  {
   "cell_type": "code",
   "execution_count": 18,
   "id": "7b792323",
   "metadata": {
    "execution": {
     "iopub.execute_input": "2023-08-06T10:04:12.109315Z",
     "iopub.status.busy": "2023-08-06T10:04:12.108452Z",
     "iopub.status.idle": "2023-08-06T10:04:12.113976Z",
     "shell.execute_reply": "2023-08-06T10:04:12.113094Z"
    },
    "papermill": {
     "duration": 0.052973,
     "end_time": "2023-08-06T10:04:12.116451",
     "exception": false,
     "start_time": "2023-08-06T10:04:12.063478",
     "status": "completed"
    },
    "tags": []
   },
   "outputs": [],
   "source": [
    "per_to_eng_dict = {\n",
    "    \"مثبت\" : \"POSITIVE\",\n",
    "    \"خنثی\" : \"NEUTRAL\",\n",
    "    \"منفی\" : \"NEGATIVE\",\n",
    "    \"سایر\" : \"OTHER\",\n",
    "}"
   ]
  },
  {
   "cell_type": "code",
   "execution_count": 19,
   "id": "69d98b96",
   "metadata": {
    "execution": {
     "iopub.execute_input": "2023-08-06T10:04:12.218391Z",
     "iopub.status.busy": "2023-08-06T10:04:12.217556Z",
     "iopub.status.idle": "2023-08-06T10:04:12.222952Z",
     "shell.execute_reply": "2023-08-06T10:04:12.222116Z"
    },
    "papermill": {
     "duration": 0.065538,
     "end_time": "2023-08-06T10:04:12.225375",
     "exception": false,
     "start_time": "2023-08-06T10:04:12.159837",
     "status": "completed"
    },
    "tags": []
   },
   "outputs": [],
   "source": [
    "eng_to_per_dict = {\n",
    "    \"POSITIVE\"  : \"مثبت\",\n",
    "    \"NEUTRAL\"   : \"خنثی\",\n",
    "    \"NEGATIVE\"  : \"منفی\",\n",
    "    \"OTHER\"     : \"سایر\",\n",
    "}"
   ]
  },
  {
   "cell_type": "code",
   "execution_count": 20,
   "id": "f8b656fc",
   "metadata": {
    "execution": {
     "iopub.execute_input": "2023-08-06T10:04:12.317857Z",
     "iopub.status.busy": "2023-08-06T10:04:12.317074Z",
     "iopub.status.idle": "2023-08-06T10:04:12.322148Z",
     "shell.execute_reply": "2023-08-06T10:04:12.321304Z"
    },
    "papermill": {
     "duration": 0.054704,
     "end_time": "2023-08-06T10:04:12.324500",
     "exception": false,
     "start_time": "2023-08-06T10:04:12.269796",
     "status": "completed"
    },
    "tags": []
   },
   "outputs": [],
   "source": [
    "acceptable_classes = [\n",
    "    \"NEGATIVE\",\n",
    "    \"NEUTRAL\",\n",
    "    \"POSITIVE\",\n",
    "    \"OTHER\",\n",
    "]"
   ]
  },
  {
   "cell_type": "code",
   "execution_count": 21,
   "id": "0219dfea",
   "metadata": {
    "execution": {
     "iopub.execute_input": "2023-08-06T10:04:12.414293Z",
     "iopub.status.busy": "2023-08-06T10:04:12.413694Z",
     "iopub.status.idle": "2023-08-06T10:04:12.420553Z",
     "shell.execute_reply": "2023-08-06T10:04:12.419387Z"
    },
    "id": "C8RjXWOwgHx3",
    "papermill": {
     "duration": 0.055424,
     "end_time": "2023-08-06T10:04:12.423054",
     "exception": false,
     "start_time": "2023-08-06T10:04:12.367630",
     "status": "completed"
    },
    "tags": []
   },
   "outputs": [],
   "source": [
    "context_01 = f\"\"\"\n",
    "The below sentence is a person's review. The review is in Persian. Identify the sentiment or polarity associated with it. \\\n",
    "Possible answers are: POSITIVE, NEUTRAL, NEGATIVE, OTHER. \\\n",
    "Use OTHER when the sentence does not include any specific sense, or has mixed or borderline senses. \\\n",
    "\"\"\""
   ]
  },
  {
   "cell_type": "code",
   "execution_count": 22,
   "id": "0d02870e",
   "metadata": {
    "execution": {
     "iopub.execute_input": "2023-08-06T10:04:12.512441Z",
     "iopub.status.busy": "2023-08-06T10:04:12.511604Z",
     "iopub.status.idle": "2023-08-06T10:04:12.516631Z",
     "shell.execute_reply": "2023-08-06T10:04:12.515775Z"
    },
    "id": "PQcYiPbsde4f",
    "papermill": {
     "duration": 0.052042,
     "end_time": "2023-08-06T10:04:12.519157",
     "exception": false,
     "start_time": "2023-08-06T10:04:12.467115",
     "status": "completed"
    },
    "tags": []
   },
   "outputs": [],
   "source": [
    "query_01 = f\"\"\"\n",
    "Review: SAMPLE_REVIEW\n",
    "Sentiment:\n",
    "\"\"\""
   ]
  },
  {
   "cell_type": "code",
   "execution_count": 23,
   "id": "24ed0625",
   "metadata": {
    "execution": {
     "iopub.execute_input": "2023-08-06T10:04:12.607648Z",
     "iopub.status.busy": "2023-08-06T10:04:12.606861Z",
     "iopub.status.idle": "2023-08-06T10:04:12.612448Z",
     "shell.execute_reply": "2023-08-06T10:04:12.611652Z"
    },
    "id": "g9zTyOPOgIsq",
    "papermill": {
     "duration": 0.052259,
     "end_time": "2023-08-06T10:04:12.614663",
     "exception": false,
     "start_time": "2023-08-06T10:04:12.562404",
     "status": "completed"
    },
    "tags": []
   },
   "outputs": [],
   "source": [
    "context_02 = f\"\"\"\n",
    "جمله زیر نظر یک شخص است. این جمله به زبان فارسی است. بار یا احساس موجود در این جمله را شناسایی کن. \\\n",
    "پاسخ‌ های ممکن کلمات روبرو هستند: POSITIVE, NEUTRAL, NEGATIVE, OTHER. \\\n",
    "زمانی که جمله دارای احساس خاصی نیست یا شامل احساسات مختلف است از OTHER استفاده کن \\\n",
    "\"\"\""
   ]
  },
  {
   "cell_type": "code",
   "execution_count": 24,
   "id": "2d6ef860",
   "metadata": {
    "execution": {
     "iopub.execute_input": "2023-08-06T10:04:12.702885Z",
     "iopub.status.busy": "2023-08-06T10:04:12.702410Z",
     "iopub.status.idle": "2023-08-06T10:04:12.707046Z",
     "shell.execute_reply": "2023-08-06T10:04:12.705872Z"
    },
    "id": "6qCDbYJmd-yb",
    "papermill": {
     "duration": 0.051792,
     "end_time": "2023-08-06T10:04:12.709412",
     "exception": false,
     "start_time": "2023-08-06T10:04:12.657620",
     "status": "completed"
    },
    "tags": []
   },
   "outputs": [],
   "source": [
    "query_02 = f\"\"\"\n",
    "Review: SAMPLE_REVIEW\n",
    "Sentiment:\n",
    "\"\"\""
   ]
  },
  {
   "cell_type": "code",
   "execution_count": 25,
   "id": "d0bfb15d",
   "metadata": {
    "execution": {
     "iopub.execute_input": "2023-08-06T10:04:12.797247Z",
     "iopub.status.busy": "2023-08-06T10:04:12.796568Z",
     "iopub.status.idle": "2023-08-06T10:04:12.801783Z",
     "shell.execute_reply": "2023-08-06T10:04:12.801004Z"
    },
    "id": "2KOZQgBDgImW",
    "papermill": {
     "duration": 0.051836,
     "end_time": "2023-08-06T10:04:12.803982",
     "exception": false,
     "start_time": "2023-08-06T10:04:12.752146",
     "status": "completed"
    },
    "tags": []
   },
   "outputs": [],
   "source": [
    "context_03 = f\"\"\"\n",
    "جمله زیر نظر یک شخص است. این جمله به زبان فارسی است. بار یا احساس موجود در این جمله را شناسایی کن. \\\n",
    "پاسخ‌ های ممکن کلمات روبرو هستند: POSITIVE, NEUTRAL, NEGATIVE, OTHER. \\\n",
    "زمانی که جمله دارای احساس خاصی نیست یا شامل احساسات مختلف است از OTHER استفاده کن \\\n",
    "\"\"\""
   ]
  },
  {
   "cell_type": "code",
   "execution_count": 26,
   "id": "8b3c3ed2",
   "metadata": {
    "execution": {
     "iopub.execute_input": "2023-08-06T10:04:12.892377Z",
     "iopub.status.busy": "2023-08-06T10:04:12.891697Z",
     "iopub.status.idle": "2023-08-06T10:04:12.896421Z",
     "shell.execute_reply": "2023-08-06T10:04:12.895631Z"
    },
    "id": "aySzNxfWeDMS",
    "papermill": {
     "duration": 0.051466,
     "end_time": "2023-08-06T10:04:12.898701",
     "exception": false,
     "start_time": "2023-08-06T10:04:12.847235",
     "status": "completed"
    },
    "tags": []
   },
   "outputs": [],
   "source": [
    "query_03 = f\"\"\"\n",
    "نظر: SAMPLE_REVIEW\n",
    "احساس:\n",
    "\"\"\""
   ]
  },
  {
   "cell_type": "code",
   "execution_count": 27,
   "id": "3454d945",
   "metadata": {
    "execution": {
     "iopub.execute_input": "2023-08-06T10:04:12.988787Z",
     "iopub.status.busy": "2023-08-06T10:04:12.987458Z",
     "iopub.status.idle": "2023-08-06T10:04:12.992952Z",
     "shell.execute_reply": "2023-08-06T10:04:12.992011Z"
    },
    "id": "R5cBGA1XgIZR",
    "papermill": {
     "duration": 0.053047,
     "end_time": "2023-08-06T10:04:12.995342",
     "exception": false,
     "start_time": "2023-08-06T10:04:12.942295",
     "status": "completed"
    },
    "tags": []
   },
   "outputs": [],
   "source": [
    "context_04 = f\"\"\"\n",
    "جمله زیر نظر یک شخص است. این جمله به زبان فارسی است. بار یا احساس موجود در این جمله را شناسایی کن. \\\n",
    "پاسخ‌ های ممکن کلمات روبرو هستند: مثبت، خنثی، منفی، سایر. \\\n",
    "زمانی که جمله دارای احساس خاصی نیست یا شامل احساسات مختلف است از خنثی استفاده کن \\\n",
    "\"\"\""
   ]
  },
  {
   "cell_type": "code",
   "execution_count": 28,
   "id": "f0300625",
   "metadata": {
    "execution": {
     "iopub.execute_input": "2023-08-06T10:04:13.084867Z",
     "iopub.status.busy": "2023-08-06T10:04:13.084384Z",
     "iopub.status.idle": "2023-08-06T10:04:13.089232Z",
     "shell.execute_reply": "2023-08-06T10:04:13.087933Z"
    },
    "id": "9kGACuO0eRCQ",
    "papermill": {
     "duration": 0.052487,
     "end_time": "2023-08-06T10:04:13.091652",
     "exception": false,
     "start_time": "2023-08-06T10:04:13.039165",
     "status": "completed"
    },
    "tags": []
   },
   "outputs": [],
   "source": [
    "query_04 = f\"\"\"\n",
    "نظر: SAMPLE_REVIEW\n",
    "احساس:\n",
    "\"\"\""
   ]
  },
  {
   "cell_type": "code",
   "execution_count": 29,
   "id": "c8ba3f4f",
   "metadata": {
    "execution": {
     "iopub.execute_input": "2023-08-06T10:04:13.179862Z",
     "iopub.status.busy": "2023-08-06T10:04:13.179447Z",
     "iopub.status.idle": "2023-08-06T10:04:13.184236Z",
     "shell.execute_reply": "2023-08-06T10:04:13.183037Z"
    },
    "id": "KPK1iMulpX2A",
    "papermill": {
     "duration": 0.051356,
     "end_time": "2023-08-06T10:04:13.186460",
     "exception": false,
     "start_time": "2023-08-06T10:04:13.135104",
     "status": "completed"
    },
    "tags": []
   },
   "outputs": [],
   "source": [
    "query_05 = \"نظر شما به طور کلی راجع به این خوراکی چیست؟\""
   ]
  },
  {
   "cell_type": "markdown",
   "id": "fe1456ab",
   "metadata": {
    "id": "s_nGJqO-QRuO",
    "papermill": {
     "duration": 0.043024,
     "end_time": "2023-08-06T10:04:13.273275",
     "exception": false,
     "start_time": "2023-08-06T10:04:13.230251",
     "status": "completed"
    },
    "tags": []
   },
   "source": [
    "## Zero-Shot Sample Test\n"
   ]
  },
  {
   "cell_type": "markdown",
   "id": "0e52f705",
   "metadata": {
    "id": "OKp0OgESgdDV",
    "papermill": {
     "duration": 0.042815,
     "end_time": "2023-08-06T10:04:13.362311",
     "exception": false,
     "start_time": "2023-08-06T10:04:13.319496",
     "status": "completed"
    },
    "tags": []
   },
   "source": [
    "### Prompt #01"
   ]
  },
  {
   "cell_type": "code",
   "execution_count": 30,
   "id": "3f1c2f11",
   "metadata": {
    "execution": {
     "iopub.execute_input": "2023-08-06T10:04:13.451400Z",
     "iopub.status.busy": "2023-08-06T10:04:13.450290Z",
     "iopub.status.idle": "2023-08-06T10:04:14.893297Z",
     "shell.execute_reply": "2023-08-06T10:04:14.892389Z"
    },
    "id": "D_9ghg5tWUX7",
    "outputId": "9650a4c5-41bb-4fd5-c1e8-b898f0ce9935",
    "papermill": {
     "duration": 1.490195,
     "end_time": "2023-08-06T10:04:14.895850",
     "exception": false,
     "start_time": "2023-08-06T10:04:13.405655",
     "status": "completed"
    },
    "tags": []
   },
   "outputs": [
    {
     "name": "stderr",
     "output_type": "stream",
     "text": [
      "/opt/conda/lib/python3.10/site-packages/transformers/generation/utils.py:1353: UserWarning: Using `max_length`'s default (20) to control the generation length. This behaviour is deprecated and will be removed from the config in v5 of Transformers -- we recommend using `max_new_tokens` to control the maximum length of the generation.\n",
      "  warnings.warn(\n"
     ]
    },
    {
     "name": "stdout",
     "output_type": "stream",
     "text": [
      "Review: پودر قهوه دارای کیفیت مطلوب نبود وعطر و بوی در فضا پخش نمی شد\n",
      "Model Response: no sentiment expressed\n",
      "Actual Label: NEGATIVE\n",
      "---------------------------------------------------------------------\n",
      "Review: از این برند انتظار بیشتری داشتم خیلی خشک و بی مزه بود\n",
      "Model Response: negative\n",
      "Actual Label: NEGATIVE\n",
      "---------------------------------------------------------------------\n",
      "Review: تعداد شیر های پرچرب کمتر از کم چرب بود ۴ تا کم چرب بود و ۲ تا پر چرب\n",
      "Model Response: negative\n",
      "Actual Label: NEUTRAL\n",
      "---------------------------------------------------------------------\n",
      "Review: دفعه های قبل که سفارش دادم بو میداد ولی ایندفعه تازه بود و بوی بد هم نمیداد\n",
      "Model Response: negative\n",
      "Actual Label: POSITIVE\n",
      "---------------------------------------------------------------------\n",
      "Review: به نظرم خیلی خوشمزه بود طعم شکلات با قهوه عالی میشه\n",
      "Model Response: negative\n",
      "Actual Label: POSITIVE\n",
      "---------------------------------------------------------------------\n",
      "Review: از نظر کیفیت خوبه ولی از نظر قیمت فقط تو پیشنهاد ویژه خوبه\n",
      "Model Response: negative\n",
      "Actual Label: OTHER\n",
      "---------------------------------------------------------------------\n"
     ]
    }
   ],
   "source": [
    "for index, row in sample_prompts.iterrows():\n",
    "    retries = 0\n",
    "    while retries < max_retries:\n",
    "        try:\n",
    "            response = run_model(context=context_01, query=query_01.replace(\"SAMPLE_REVIEW\", row['review']))\n",
    "            print(f\"Review: {row['review']}\")\n",
    "            print(f\"Model Response: {' '.join(response)}\")\n",
    "            print(f\"Actual Label: {label_dict[row['sentiment']]}\")\n",
    "            print(\"---------------------------------------------------------------------\")\n",
    "            break\n",
    "        except Exception as e:\n",
    "            print(f\"An error occurred: {str(e)}\")\n",
    "            retries += 1\n",
    "            print(f\"Retrying ({retries}/{max_retries})...\")\n",
    "            time.sleep(5)\n",
    "\n",
    "    if retries == max_retries:\n",
    "        print(f\"Failed to process this review after {max_retries} retries. Skipping to the next review.\")\n"
   ]
  },
  {
   "cell_type": "markdown",
   "id": "e0fae0a8",
   "metadata": {
    "id": "dfxtZAqyhbSa",
    "papermill": {
     "duration": 0.043077,
     "end_time": "2023-08-06T10:04:14.983546",
     "exception": false,
     "start_time": "2023-08-06T10:04:14.940469",
     "status": "completed"
    },
    "tags": []
   },
   "source": [
    "### Prompt #02"
   ]
  },
  {
   "cell_type": "code",
   "execution_count": 31,
   "id": "67e70172",
   "metadata": {
    "execution": {
     "iopub.execute_input": "2023-08-06T10:04:15.082461Z",
     "iopub.status.busy": "2023-08-06T10:04:15.082046Z",
     "iopub.status.idle": "2023-08-06T10:04:16.360753Z",
     "shell.execute_reply": "2023-08-06T10:04:16.359297Z"
    },
    "id": "NV08G_grhdQc",
    "outputId": "25d29a39-3135-48e4-966f-3acef49fd9c3",
    "papermill": {
     "duration": 1.33173,
     "end_time": "2023-08-06T10:04:16.363459",
     "exception": false,
     "start_time": "2023-08-06T10:04:15.031729",
     "status": "completed"
    },
    "tags": []
   },
   "outputs": [
    {
     "name": "stdout",
     "output_type": "stream",
     "text": [
      "Review: پودر قهوه دارای کیفیت مطلوب نبود وعطر و بوی در فضا پخش نمی شد\n",
      "Model Response: negative\n",
      "Actual Label: NEGATIVE\n",
      "---------------------------------------------------------------------\n",
      "Review: از این برند انتظار بیشتری داشتم خیلی خشک و بی مزه بود\n",
      "Model Response: negative\n",
      "Actual Label: NEGATIVE\n",
      "---------------------------------------------------------------------\n",
      "Review: تعداد شیر های پرچرب کمتر از کم چرب بود ۴ تا کم چرب بود و ۲ تا پر چرب\n",
      "Model Response: negative\n",
      "Actual Label: NEUTRAL\n",
      "---------------------------------------------------------------------\n",
      "Review: دفعه های قبل که سفارش دادم بو میداد ولی ایندفعه تازه بود و بوی بد هم نمیداد\n",
      "Model Response: negative\n",
      "Actual Label: POSITIVE\n",
      "---------------------------------------------------------------------\n",
      "Review: به نظرم خیلی خوشمزه بود طعم شکلات با قهوه عالی میشه\n",
      "Model Response: negative\n",
      "Actual Label: POSITIVE\n",
      "---------------------------------------------------------------------\n",
      "Review: از نظر کیفیت خوبه ولی از نظر قیمت فقط تو پیشنهاد ویژه خوبه\n",
      "Model Response: negative\n",
      "Actual Label: OTHER\n",
      "---------------------------------------------------------------------\n"
     ]
    }
   ],
   "source": [
    "for index, row in sample_prompts.iterrows():\n",
    "    retries = 0\n",
    "    while retries < max_retries:\n",
    "        try:\n",
    "            response = run_model(context=context_02, query=query_02.replace(\"SAMPLE_REVIEW\", row['review']))\n",
    "            print(f\"Review: {row['review']}\")\n",
    "            print(f\"Model Response: {' '.join(response)}\")\n",
    "            print(f\"Actual Label: {label_dict[row['sentiment']]}\")\n",
    "            print(\"---------------------------------------------------------------------\")\n",
    "            break\n",
    "        except Exception as e:\n",
    "            print(f\"An error occurred: {str(e)}\")\n",
    "            retries += 1\n",
    "            print(f\"Retrying ({retries}/{max_retries})...\")\n",
    "            time.sleep(5)\n",
    "\n",
    "    if retries == max_retries:\n",
    "        print(f\"Failed to process this review after {max_retries} retries. Skipping to the next review.\")\n"
   ]
  },
  {
   "cell_type": "markdown",
   "id": "d737e7ce",
   "metadata": {
    "id": "giS24XL-hixR",
    "papermill": {
     "duration": 0.046507,
     "end_time": "2023-08-06T10:04:16.456810",
     "exception": false,
     "start_time": "2023-08-06T10:04:16.410303",
     "status": "completed"
    },
    "tags": []
   },
   "source": [
    "### Prompt #03"
   ]
  },
  {
   "cell_type": "code",
   "execution_count": 32,
   "id": "1f157bda",
   "metadata": {
    "execution": {
     "iopub.execute_input": "2023-08-06T10:04:16.550398Z",
     "iopub.status.busy": "2023-08-06T10:04:16.550000Z",
     "iopub.status.idle": "2023-08-06T10:04:17.843636Z",
     "shell.execute_reply": "2023-08-06T10:04:17.842257Z"
    },
    "id": "CVKX8tJPhkMh",
    "outputId": "884e8196-862a-4d38-f1ca-21ca60823cf6",
    "papermill": {
     "duration": 1.343857,
     "end_time": "2023-08-06T10:04:17.846297",
     "exception": false,
     "start_time": "2023-08-06T10:04:16.502440",
     "status": "completed"
    },
    "tags": []
   },
   "outputs": [
    {
     "name": "stdout",
     "output_type": "stream",
     "text": [
      "Review: پودر قهوه دارای کیفیت مطلوب نبود وعطر و بوی در فضا پخش نمی شد\n",
      "Model Response: negative\n",
      "Actual Label: NEGATIVE\n",
      "---------------------------------------------------------------------\n",
      "Review: از این برند انتظار بیشتری داشتم خیلی خشک و بی مزه بود\n",
      "Model Response: negative\n",
      "Actual Label: NEGATIVE\n",
      "---------------------------------------------------------------------\n",
      "Review: تعداد شیر های پرچرب کمتر از کم چرب بود ۴ تا کم چرب بود و ۲ تا پر چرب\n",
      "Model Response: negative\n",
      "Actual Label: NEUTRAL\n",
      "---------------------------------------------------------------------\n",
      "Review: دفعه های قبل که سفارش دادم بو میداد ولی ایندفعه تازه بود و بوی بد هم نمیداد\n",
      "Model Response: negative\n",
      "Actual Label: POSITIVE\n",
      "---------------------------------------------------------------------\n",
      "Review: به نظرم خیلی خوشمزه بود طعم شکلات با قهوه عالی میشه\n",
      "Model Response: negative\n",
      "Actual Label: POSITIVE\n",
      "---------------------------------------------------------------------\n",
      "Review: از نظر کیفیت خوبه ولی از نظر قیمت فقط تو پیشنهاد ویژه خوبه\n",
      "Model Response: negative\n",
      "Actual Label: OTHER\n",
      "---------------------------------------------------------------------\n"
     ]
    }
   ],
   "source": [
    "for index, row in sample_prompts.iterrows():\n",
    "    retries = 0\n",
    "    while retries < max_retries:\n",
    "        try:\n",
    "            response = run_model(context=context_03, query=query_03.replace(\"SAMPLE_REVIEW\", row['review']))\n",
    "            print(f\"Review: {row['review']}\")\n",
    "            print(f\"Model Response: {' '.join(response)}\")\n",
    "            print(f\"Actual Label: {label_dict[row['sentiment']]}\")\n",
    "            print(\"---------------------------------------------------------------------\")\n",
    "            break\n",
    "        except Exception as e:\n",
    "            print(f\"An error occurred: {str(e)}\")\n",
    "            retries += 1\n",
    "            print(f\"Retrying ({retries}/{max_retries})...\")\n",
    "            time.sleep(5)\n",
    "\n",
    "    if retries == max_retries:\n",
    "        print(f\"Failed to process this review after {max_retries} retries. Skipping to the next review.\")\n"
   ]
  },
  {
   "cell_type": "markdown",
   "id": "f55f30e6",
   "metadata": {
    "id": "YGv9NbYPhmdv",
    "papermill": {
     "duration": 0.044823,
     "end_time": "2023-08-06T10:04:17.938776",
     "exception": false,
     "start_time": "2023-08-06T10:04:17.893953",
     "status": "completed"
    },
    "tags": []
   },
   "source": [
    "### Prompt #04"
   ]
  },
  {
   "cell_type": "code",
   "execution_count": 33,
   "id": "46216d3c",
   "metadata": {
    "execution": {
     "iopub.execute_input": "2023-08-06T10:04:18.030564Z",
     "iopub.status.busy": "2023-08-06T10:04:18.029770Z",
     "iopub.status.idle": "2023-08-06T10:04:19.473724Z",
     "shell.execute_reply": "2023-08-06T10:04:19.472861Z"
    },
    "id": "Es5vaRA6hoXR",
    "outputId": "1729852b-50bf-4449-a16f-091d2a39a82b",
    "papermill": {
     "duration": 1.492627,
     "end_time": "2023-08-06T10:04:19.476155",
     "exception": false,
     "start_time": "2023-08-06T10:04:17.983528",
     "status": "completed"
    },
    "tags": []
   },
   "outputs": [
    {
     "name": "stdout",
     "output_type": "stream",
     "text": [
      "Review: پودر قهوه دارای کیفیت مطلوب نبود وعطر و بوی در فضا پخش نمی شد\n",
      "Model Response: negative\n",
      "Actual Label: NEGATIVE\n",
      "---------------------------------------------------------------------\n",
      "Review: از این برند انتظار بیشتری داشتم خیلی خشک و بی مزه بود\n",
      "Model Response: negative\n",
      "Actual Label: NEGATIVE\n",
      "---------------------------------------------------------------------\n",
      "Review: تعداد شیر های پرچرب کمتر از کم چرب بود ۴ تا کم چرب بود و ۲ تا پر چرب\n",
      "Model Response: negative\n",
      "Actual Label: NEUTRAL\n",
      "---------------------------------------------------------------------\n",
      "Review: دفعه های قبل که سفارش دادم بو میداد ولی ایندفعه تازه بود و بوی بد هم نمیداد\n",
      "Model Response: negative\n",
      "Actual Label: POSITIVE\n",
      "---------------------------------------------------------------------\n",
      "Review: به نظرم خیلی خوشمزه بود طعم شکلات با قهوه عالی میشه\n",
      "Model Response: negative\n",
      "Actual Label: POSITIVE\n",
      "---------------------------------------------------------------------\n",
      "Review: از نظر کیفیت خوبه ولی از نظر قیمت فقط تو پیشنهاد ویژه خوبه\n",
      "Model Response: negative\n",
      "Actual Label: OTHER\n",
      "---------------------------------------------------------------------\n"
     ]
    }
   ],
   "source": [
    "for index, row in sample_prompts.iterrows():\n",
    "    retries = 0\n",
    "    while retries < max_retries:\n",
    "        try:\n",
    "            response = run_model(context=context_04, query=query_04.replace(\"SAMPLE_REVIEW\", row['review']))\n",
    "            print(f\"Review: {row['review']}\")\n",
    "            print(f\"Model Response: {' '.join(response)}\")\n",
    "            print(f\"Actual Label: {label_dict[row['sentiment']]}\")\n",
    "            print(\"---------------------------------------------------------------------\")\n",
    "            break\n",
    "        except Exception as e:\n",
    "            print(f\"An error occurred: {str(e)}\")\n",
    "            retries += 1\n",
    "            print(f\"Retrying ({retries}/{max_retries})...\")\n",
    "            time.sleep(5)\n",
    "\n",
    "    if retries == max_retries:\n",
    "        print(f\"Failed to process this review after {max_retries} retries. Skipping to the next review.\")\n"
   ]
  },
  {
   "cell_type": "markdown",
   "id": "dd84188e",
   "metadata": {
    "id": "jtTNLIr7w97s",
    "papermill": {
     "duration": 0.051953,
     "end_time": "2023-08-06T10:04:19.573896",
     "exception": false,
     "start_time": "2023-08-06T10:04:19.521943",
     "status": "completed"
    },
    "tags": []
   },
   "source": [
    "### Prompt #05"
   ]
  },
  {
   "cell_type": "code",
   "execution_count": 34,
   "id": "21406130",
   "metadata": {
    "execution": {
     "iopub.execute_input": "2023-08-06T10:04:19.668389Z",
     "iopub.status.busy": "2023-08-06T10:04:19.668009Z",
     "iopub.status.idle": "2023-08-06T10:04:20.873783Z",
     "shell.execute_reply": "2023-08-06T10:04:20.871752Z"
    },
    "id": "GAKGjIvcxA7F",
    "outputId": "127bea9c-51ac-42ea-9d47-1214f209ee95",
    "papermill": {
     "duration": 1.255971,
     "end_time": "2023-08-06T10:04:20.876307",
     "exception": false,
     "start_time": "2023-08-06T10:04:19.620336",
     "status": "completed"
    },
    "tags": []
   },
   "outputs": [
    {
     "name": "stdout",
     "output_type": "stream",
     "text": [
      "Review: پودر قهوه دارای کیفیت مطلوب نبود وعطر و بوی در فضا پخش نمی شد\n",
      "Model Response: negative\n",
      "Actual Label: NEGATIVE\n",
      "---------------------------------------------------------------------\n",
      "Review: از این برند انتظار بیشتری داشتم خیلی خشک و بی مزه بود\n",
      "Model Response: very negative\n",
      "Actual Label: NEGATIVE\n",
      "---------------------------------------------------------------------\n",
      "Review: تعداد شیر های پرچرب کمتر از کم چرب بود ۴ تا کم چرب بود و ۲ تا پر چرب\n",
      "Model Response: negative\n",
      "Actual Label: NEUTRAL\n",
      "---------------------------------------------------------------------\n",
      "Review: دفعه های قبل که سفارش دادم بو میداد ولی ایندفعه تازه بود و بوی بد هم نمیداد\n",
      "Model Response: negative\n",
      "Actual Label: POSITIVE\n",
      "---------------------------------------------------------------------\n",
      "Review: به نظرم خیلی خوشمزه بود طعم شکلات با قهوه عالی میشه\n",
      "Model Response: very positive\n",
      "Actual Label: POSITIVE\n",
      "---------------------------------------------------------------------\n",
      "Review: از نظر کیفیت خوبه ولی از نظر قیمت فقط تو پیشنهاد ویژه خوبه\n",
      "Model Response: mixed\n",
      "Actual Label: OTHER\n",
      "---------------------------------------------------------------------\n"
     ]
    }
   ],
   "source": [
    "for index, row in sample_prompts.iterrows():\n",
    "    retries = 0\n",
    "    while retries < max_retries:\n",
    "        try:\n",
    "            response = run_model(context=row['review'], query=query_05)\n",
    "            print(f\"Review: {row['review']}\")\n",
    "            print(f\"Model Response: {' '.join(response)}\")\n",
    "            print(f\"Actual Label: {label_dict[row['sentiment']]}\")\n",
    "            print(\"---------------------------------------------------------------------\")\n",
    "            break\n",
    "        except Exception as e:\n",
    "            print(f\"An error occurred: {str(e)}\")\n",
    "            retries += 1\n",
    "            print(f\"Retrying ({retries}/{max_retries})...\")\n",
    "            time.sleep(5)\n",
    "\n",
    "    if retries == max_retries:\n",
    "        print(f\"Failed to process this review after {max_retries} retries. Skipping to the next review.\")\n"
   ]
  },
  {
   "cell_type": "markdown",
   "id": "ad5e0e9c",
   "metadata": {
    "id": "X87_lvWtieTh",
    "papermill": {
     "duration": 0.04513,
     "end_time": "2023-08-06T10:04:20.967294",
     "exception": false,
     "start_time": "2023-08-06T10:04:20.922164",
     "status": "completed"
    },
    "tags": []
   },
   "source": [
    "## Metrics"
   ]
  },
  {
   "cell_type": "code",
   "execution_count": 35,
   "id": "3b744f60",
   "metadata": {
    "execution": {
     "iopub.execute_input": "2023-08-06T10:04:21.061047Z",
     "iopub.status.busy": "2023-08-06T10:04:21.060628Z",
     "iopub.status.idle": "2023-08-06T10:04:21.844923Z",
     "shell.execute_reply": "2023-08-06T10:04:21.844040Z"
    },
    "id": "obzYUXE8imh3",
    "papermill": {
     "duration": 0.834271,
     "end_time": "2023-08-06T10:04:21.847467",
     "exception": false,
     "start_time": "2023-08-06T10:04:21.013196",
     "status": "completed"
    },
    "tags": []
   },
   "outputs": [],
   "source": [
    "from sklearn.metrics import accuracy_score, f1_score, precision_score, recall_score\n",
    "from collections import Counter\n",
    "import numpy as np\n",
    "\n",
    "def calculate_metrics(actual, predicted):\n",
    "    accuracy = accuracy_score(actual, predicted)\n",
    "    f1 = f1_score(actual, predicted, average='weighted', zero_division=0)\n",
    "    precision = precision_score(actual, predicted, average='weighted', zero_division=0)\n",
    "    recall = recall_score(actual, predicted, average='weighted', zero_division=0)\n",
    "\n",
    "    actual_counts = Counter(actual)\n",
    "    predicted_counts = Counter(predicted)\n",
    "    classes = list(set(actual + predicted))\n",
    "    classes.append('All Classes')\n",
    "    metrics = ['Accuracy', 'F1 Score', 'Precision', 'Recall']\n",
    "\n",
    "    probability_table = pd.DataFrame(index=metrics, columns=classes)\n",
    "\n",
    "    for class_label in classes:\n",
    "        if class_label == 'All Classes':\n",
    "            probability_table[class_label][\"F1 Score\"] = f1\n",
    "            probability_table[class_label][\"Precision\"] = precision\n",
    "            probability_table[class_label][\"Recall\"] = recall\n",
    "        else:\n",
    "            class_precision = precision_score(actual, predicted, labels=[class_label], average=None, zero_division=0)\n",
    "            class_recall = recall_score(actual, predicted, labels=[class_label], average=None, zero_division=0)\n",
    "            class_f1 = f1_score(actual, predicted, labels=[class_label], average=None, zero_division=0)\n",
    "            probability_table[class_label][\"F1 Score\"] = class_f1\n",
    "            probability_table[class_label][\"Precision\"] = class_precision\n",
    "            probability_table[class_label][\"Recall\"] = class_recall\n",
    "    probability_table.fillna(value=\"-\", inplace = True)\n",
    "    probability_table['All Classes'][\"Accuracy\"] = accuracy\n",
    "    return probability_table"
   ]
  },
  {
   "cell_type": "markdown",
   "id": "0625f5c3",
   "metadata": {
    "papermill": {
     "duration": 0.045419,
     "end_time": "2023-08-06T10:04:21.939430",
     "exception": false,
     "start_time": "2023-08-06T10:04:21.894011",
     "status": "completed"
    },
    "tags": []
   },
   "source": [
    "## Test data"
   ]
  },
  {
   "cell_type": "code",
   "execution_count": 36,
   "id": "55eef8d6",
   "metadata": {
    "execution": {
     "iopub.execute_input": "2023-08-06T10:04:22.101477Z",
     "iopub.status.busy": "2023-08-06T10:04:22.101076Z",
     "iopub.status.idle": "2023-08-06T10:04:22.113523Z",
     "shell.execute_reply": "2023-08-06T10:04:22.112732Z"
    },
    "id": "sqLAX7YSip2w",
    "outputId": "d6befbba-9362-4878-bb58-407a10e79674",
    "papermill": {
     "duration": 0.130935,
     "end_time": "2023-08-06T10:04:22.116111",
     "exception": false,
     "start_time": "2023-08-06T10:04:21.985176",
     "status": "completed"
    },
    "tags": []
   },
   "outputs": [
    {
     "data": {
      "text/html": [
       "<div>\n",
       "<style scoped>\n",
       "    .dataframe tbody tr th:only-of-type {\n",
       "        vertical-align: middle;\n",
       "    }\n",
       "\n",
       "    .dataframe tbody tr th {\n",
       "        vertical-align: top;\n",
       "    }\n",
       "\n",
       "    .dataframe thead th {\n",
       "        text-align: right;\n",
       "    }\n",
       "</style>\n",
       "<table border=\"1\" class=\"dataframe\">\n",
       "  <thead>\n",
       "    <tr style=\"text-align: right;\">\n",
       "      <th></th>\n",
       "      <th>review</th>\n",
       "      <th>sentiment</th>\n",
       "    </tr>\n",
       "  </thead>\n",
       "  <tbody>\n",
       "    <tr>\n",
       "      <th>1175</th>\n",
       "      <td>اصلا تازه نبود و بوی ماندگی میداد درصورتی که ت...</td>\n",
       "      <td>-2</td>\n",
       "    </tr>\n",
       "    <tr>\n",
       "      <th>1091</th>\n",
       "      <td>از کیفیت و تازگی و بسته بندی وارزش غذایی خوبی ...</td>\n",
       "      <td>2</td>\n",
       "    </tr>\n",
       "    <tr>\n",
       "      <th>315</th>\n",
       "      <td>با سلام، کیفیت خوبی داره، البته کمی رقیق است ک...</td>\n",
       "      <td>1</td>\n",
       "    </tr>\n",
       "    <tr>\n",
       "      <th>1202</th>\n",
       "      <td>منکه عاشق پاستام نتونسم بخورمش فاجعس همون ماکا...</td>\n",
       "      <td>-2</td>\n",
       "    </tr>\n",
       "    <tr>\n",
       "      <th>1242</th>\n",
       "      <td>طعمش اسپایسی هست . برای کسانی که به تندی و سیر...</td>\n",
       "      <td>1</td>\n",
       "    </tr>\n",
       "    <tr>\n",
       "      <th>...</th>\n",
       "      <td>...</td>\n",
       "      <td>...</td>\n",
       "    </tr>\n",
       "    <tr>\n",
       "      <th>212</th>\n",
       "      <td>عالیه عالی، من عاشق شکلات تلخ و نعناع هستم و ا...</td>\n",
       "      <td>2</td>\n",
       "    </tr>\n",
       "    <tr>\n",
       "      <th>1183</th>\n",
       "      <td>چون خیلی از قهوه خوشم نمیاد و نسبتا کم میخورم ...</td>\n",
       "      <td>1</td>\n",
       "    </tr>\n",
       "    <tr>\n",
       "      <th>1100</th>\n",
       "      <td>زیاد از حد خرده ریز بود و کمی بو میداد. حتی در...</td>\n",
       "      <td>-2</td>\n",
       "    </tr>\n",
       "    <tr>\n",
       "      <th>1054</th>\n",
       "      <td>طعم همه پسندی ندارد از نظر بسته بندی ظاهر مناس...</td>\n",
       "      <td>3</td>\n",
       "    </tr>\n",
       "    <tr>\n",
       "      <th>1196</th>\n",
       "      <td>اگر واقعا شیره خالص باشه ارزش بسیار بالای غذای...</td>\n",
       "      <td>2</td>\n",
       "    </tr>\n",
       "  </tbody>\n",
       "</table>\n",
       "<p>500 rows × 2 columns</p>\n",
       "</div>"
      ],
      "text/plain": [
       "                                                 review sentiment\n",
       "1175  اصلا تازه نبود و بوی ماندگی میداد درصورتی که ت...        -2\n",
       "1091  از کیفیت و تازگی و بسته بندی وارزش غذایی خوبی ...         2\n",
       "315   با سلام، کیفیت خوبی داره، البته کمی رقیق است ک...         1\n",
       "1202  منکه عاشق پاستام نتونسم بخورمش فاجعس همون ماکا...        -2\n",
       "1242  طعمش اسپایسی هست . برای کسانی که به تندی و سیر...         1\n",
       "...                                                 ...       ...\n",
       "212   عالیه عالی، من عاشق شکلات تلخ و نعناع هستم و ا...         2\n",
       "1183  چون خیلی از قهوه خوشم نمیاد و نسبتا کم میخورم ...         1\n",
       "1100  زیاد از حد خرده ریز بود و کمی بو میداد. حتی در...        -2\n",
       "1054  طعم همه پسندی ندارد از نظر بسته بندی ظاهر مناس...         3\n",
       "1196  اگر واقعا شیره خالص باشه ارزش بسیار بالای غذای...         2\n",
       "\n",
       "[500 rows x 2 columns]"
      ]
     },
     "execution_count": 36,
     "metadata": {},
     "output_type": "execute_result"
    }
   ],
   "source": [
    "test_count = 500\n",
    "test_df = df_final.sample(n=test_count)\n",
    "test_df"
   ]
  },
  {
   "cell_type": "code",
   "execution_count": 37,
   "id": "2b092112",
   "metadata": {
    "execution": {
     "iopub.execute_input": "2023-08-06T10:04:22.211283Z",
     "iopub.status.busy": "2023-08-06T10:04:22.210879Z",
     "iopub.status.idle": "2023-08-06T10:04:22.224059Z",
     "shell.execute_reply": "2023-08-06T10:04:22.222936Z"
    },
    "papermill": {
     "duration": 0.064264,
     "end_time": "2023-08-06T10:04:22.226748",
     "exception": false,
     "start_time": "2023-08-06T10:04:22.162484",
     "status": "completed"
    },
    "tags": []
   },
   "outputs": [],
   "source": [
    "test_df.to_csv('test_df.csv',index=True)"
   ]
  },
  {
   "cell_type": "markdown",
   "id": "d1111488",
   "metadata": {
    "papermill": {
     "duration": 0.046237,
     "end_time": "2023-08-06T10:04:22.319306",
     "exception": false,
     "start_time": "2023-08-06T10:04:22.273069",
     "status": "completed"
    },
    "tags": []
   },
   "source": [
    "## Zero-Shot Metrics"
   ]
  },
  {
   "cell_type": "markdown",
   "id": "0ea5942a",
   "metadata": {
    "id": "eb-t_qSYitA1",
    "papermill": {
     "duration": 0.045941,
     "end_time": "2023-08-06T10:04:22.415532",
     "exception": false,
     "start_time": "2023-08-06T10:04:22.369591",
     "status": "completed"
    },
    "tags": []
   },
   "source": [
    "### Prompt #01"
   ]
  },
  {
   "cell_type": "code",
   "execution_count": 38,
   "id": "6409b0ab",
   "metadata": {
    "execution": {
     "iopub.execute_input": "2023-08-06T10:04:22.511045Z",
     "iopub.status.busy": "2023-08-06T10:04:22.510606Z",
     "iopub.status.idle": "2023-08-06T10:06:23.342159Z",
     "shell.execute_reply": "2023-08-06T10:06:23.340904Z"
    },
    "id": "3O5xglayipt_",
    "outputId": "24ac4b29-00ee-44f9-e5d7-a0c8d28ffc0a",
    "papermill": {
     "duration": 120.91697,
     "end_time": "2023-08-06T10:06:23.379267",
     "exception": false,
     "start_time": "2023-08-06T10:04:22.462297",
     "status": "completed"
    },
    "tags": []
   },
   "outputs": [
    {
     "name": "stdout",
     "output_type": "stream",
     "text": [
      "                                                                                \r"
     ]
    },
    {
     "name": "stderr",
     "output_type": "stream",
     "text": [
      "on 0: /opt/conda/lib/python3.10/site-packages/transformers/generation/utils.py:1353: UserWarning: Using `max_length`'s default (20) to control the generation length. This behaviour is deprecated and will be removed from the config in v5 of Transformers -- we recommend using `max_new_tokens` to control the maximum length of the generation.\n",
      "        warnings.warn(\n"
     ]
    },
    {
     "name": "stdout",
     "output_type": "stream",
     "text": [
      "|████████████████████████████████████████| 500/500 [100%] in 2:00.7 (4.14/s)    \n"
     ]
    }
   ],
   "source": [
    "from alive_progress import alive_bar\n",
    "\n",
    "zero_01_actual = []\n",
    "zero_01_predicted = []\n",
    "zero_01_responses = []\n",
    "\n",
    "with alive_bar(test_count, force_tty=True) as bar:\n",
    "    for index, row in test_df.iterrows():\n",
    "        retries = 0\n",
    "        while retries < max_retries:\n",
    "            try:\n",
    "                response = run_model(context=context_01, query=query_01.replace(\"SAMPLE_REVIEW\", row['review']))\n",
    "                response = \" \".join(response)\n",
    "                zero_01_actual.append(label_dict[row['sentiment']])\n",
    "                zero_01_responses.append(response)\n",
    "\n",
    "                flag = False\n",
    "                response = response.upper()\n",
    "                for label in acceptable_classes:\n",
    "                    if label in response:\n",
    "                        zero_01_predicted.append(label)\n",
    "                        flag = True\n",
    "                        break\n",
    "\n",
    "                if not flag:\n",
    "                    if \"NO SENTIMENT EXPRESSED\" in response:\n",
    "                        zero_01_predicted.append('NEUTRAL')\n",
    "                    else:\n",
    "                        zero_01_predicted.append('OTHER')\n",
    "\n",
    "                break\n",
    "\n",
    "            except Exception as e:\n",
    "                print(f\"An error occurred: {str(e)}\")\n",
    "                retries += 1\n",
    "                print(f\"Retrying ({retries}/{max_retries})...\")\n",
    "\n",
    "        if retries == max_retries:\n",
    "            print(f\"Failed to process review after {max_retries} retries. Skipping to the next entry.\")\n",
    "\n",
    "        bar()"
   ]
  },
  {
   "cell_type": "code",
   "execution_count": 39,
   "id": "514aa0d9",
   "metadata": {
    "execution": {
     "iopub.execute_input": "2023-08-06T10:06:23.661562Z",
     "iopub.status.busy": "2023-08-06T10:06:23.661102Z",
     "iopub.status.idle": "2023-08-06T10:06:23.765429Z",
     "shell.execute_reply": "2023-08-06T10:06:23.764199Z"
    },
    "id": "GbLt8MtJippN",
    "outputId": "54cb96f5-347a-44e2-e689-fea4821b9d68",
    "papermill": {
     "duration": 0.248502,
     "end_time": "2023-08-06T10:06:23.767946",
     "exception": false,
     "start_time": "2023-08-06T10:06:23.519444",
     "status": "completed"
    },
    "tags": []
   },
   "outputs": [
    {
     "data": {
      "text/html": [
       "<div>\n",
       "<style scoped>\n",
       "    .dataframe tbody tr th:only-of-type {\n",
       "        vertical-align: middle;\n",
       "    }\n",
       "\n",
       "    .dataframe tbody tr th {\n",
       "        vertical-align: top;\n",
       "    }\n",
       "\n",
       "    .dataframe thead th {\n",
       "        text-align: right;\n",
       "    }\n",
       "</style>\n",
       "<table border=\"1\" class=\"dataframe\">\n",
       "  <thead>\n",
       "    <tr style=\"text-align: right;\">\n",
       "      <th></th>\n",
       "      <th>OTHER</th>\n",
       "      <th>NEGATIVE</th>\n",
       "      <th>POSITIVE</th>\n",
       "      <th>NEUTRAL</th>\n",
       "      <th>All Classes</th>\n",
       "    </tr>\n",
       "  </thead>\n",
       "  <tbody>\n",
       "    <tr>\n",
       "      <th>Accuracy</th>\n",
       "      <td>-</td>\n",
       "      <td>-</td>\n",
       "      <td>-</td>\n",
       "      <td>-</td>\n",
       "      <td>0.382</td>\n",
       "    </tr>\n",
       "    <tr>\n",
       "      <th>F1 Score</th>\n",
       "      <td>[0.0]</td>\n",
       "      <td>[0.6181102362204726]</td>\n",
       "      <td>[0.22813688212927757]</td>\n",
       "      <td>[0.046242774566473986]</td>\n",
       "      <td>0.360292</td>\n",
       "    </tr>\n",
       "    <tr>\n",
       "      <th>Precision</th>\n",
       "      <td>[0.0]</td>\n",
       "      <td>[0.5181518151815182]</td>\n",
       "      <td>[1.0]</td>\n",
       "      <td>[0.023952095808383235]</td>\n",
       "      <td>0.67873</td>\n",
       "    </tr>\n",
       "    <tr>\n",
       "      <th>Recall</th>\n",
       "      <td>[0.0]</td>\n",
       "      <td>[0.7658536585365854]</td>\n",
       "      <td>[0.12875536480686695]</td>\n",
       "      <td>[0.6666666666666666]</td>\n",
       "      <td>0.382</td>\n",
       "    </tr>\n",
       "  </tbody>\n",
       "</table>\n",
       "</div>"
      ],
      "text/plain": [
       "           OTHER              NEGATIVE               POSITIVE  \\\n",
       "Accuracy       -                     -                      -   \n",
       "F1 Score   [0.0]  [0.6181102362204726]  [0.22813688212927757]   \n",
       "Precision  [0.0]  [0.5181518151815182]                  [1.0]   \n",
       "Recall     [0.0]  [0.7658536585365854]  [0.12875536480686695]   \n",
       "\n",
       "                          NEUTRAL All Classes  \n",
       "Accuracy                        -       0.382  \n",
       "F1 Score   [0.046242774566473986]    0.360292  \n",
       "Precision  [0.023952095808383235]     0.67873  \n",
       "Recall       [0.6666666666666666]       0.382  "
      ]
     },
     "execution_count": 39,
     "metadata": {},
     "output_type": "execute_result"
    }
   ],
   "source": [
    "zero_01_results = calculate_metrics(zero_01_actual, zero_01_predicted)\n",
    "zero_01_results "
   ]
  },
  {
   "cell_type": "code",
   "execution_count": 40,
   "id": "2e09cb17",
   "metadata": {
    "execution": {
     "iopub.execute_input": "2023-08-06T10:06:24.050084Z",
     "iopub.status.busy": "2023-08-06T10:06:24.049638Z",
     "iopub.status.idle": "2023-08-06T10:06:24.055835Z",
     "shell.execute_reply": "2023-08-06T10:06:24.054872Z"
    },
    "papermill": {
     "duration": 0.150452,
     "end_time": "2023-08-06T10:06:24.058324",
     "exception": false,
     "start_time": "2023-08-06T10:06:23.907872",
     "status": "completed"
    },
    "tags": []
   },
   "outputs": [],
   "source": [
    "np.save('zero_01_actual', zero_01_actual)"
   ]
  },
  {
   "cell_type": "code",
   "execution_count": 41,
   "id": "948c6477",
   "metadata": {
    "execution": {
     "iopub.execute_input": "2023-08-06T10:06:24.343849Z",
     "iopub.status.busy": "2023-08-06T10:06:24.342655Z",
     "iopub.status.idle": "2023-08-06T10:06:24.348394Z",
     "shell.execute_reply": "2023-08-06T10:06:24.347304Z"
    },
    "papermill": {
     "duration": 0.150663,
     "end_time": "2023-08-06T10:06:24.350840",
     "exception": false,
     "start_time": "2023-08-06T10:06:24.200177",
     "status": "completed"
    },
    "tags": []
   },
   "outputs": [],
   "source": [
    "np.save('zero_01_predicted', zero_01_predicted)"
   ]
  },
  {
   "cell_type": "code",
   "execution_count": 42,
   "id": "3c0d0318",
   "metadata": {
    "execution": {
     "iopub.execute_input": "2023-08-06T10:06:24.636247Z",
     "iopub.status.busy": "2023-08-06T10:06:24.635332Z",
     "iopub.status.idle": "2023-08-06T10:06:24.640414Z",
     "shell.execute_reply": "2023-08-06T10:06:24.639624Z"
    },
    "papermill": {
     "duration": 0.148661,
     "end_time": "2023-08-06T10:06:24.642635",
     "exception": false,
     "start_time": "2023-08-06T10:06:24.493974",
     "status": "completed"
    },
    "tags": []
   },
   "outputs": [],
   "source": [
    "np.save('zero_01_responses', zero_01_responses)"
   ]
  },
  {
   "cell_type": "code",
   "execution_count": 43,
   "id": "f683e448",
   "metadata": {
    "execution": {
     "iopub.execute_input": "2023-08-06T10:06:24.923869Z",
     "iopub.status.busy": "2023-08-06T10:06:24.923149Z",
     "iopub.status.idle": "2023-08-06T10:06:24.930004Z",
     "shell.execute_reply": "2023-08-06T10:06:24.929163Z"
    },
    "papermill": {
     "duration": 0.150642,
     "end_time": "2023-08-06T10:06:24.932228",
     "exception": false,
     "start_time": "2023-08-06T10:06:24.781586",
     "status": "completed"
    },
    "tags": []
   },
   "outputs": [],
   "source": [
    "zero_01_results.to_csv('zero_01_results.csv',index=True)"
   ]
  },
  {
   "cell_type": "markdown",
   "id": "b2f167e3",
   "metadata": {
    "id": "Yc9JUJHVjemh",
    "papermill": {
     "duration": 0.140033,
     "end_time": "2023-08-06T10:06:25.212810",
     "exception": false,
     "start_time": "2023-08-06T10:06:25.072777",
     "status": "completed"
    },
    "tags": []
   },
   "source": [
    "### Prompt #02"
   ]
  },
  {
   "cell_type": "code",
   "execution_count": 44,
   "id": "57a87926",
   "metadata": {
    "execution": {
     "iopub.execute_input": "2023-08-06T10:06:25.496443Z",
     "iopub.status.busy": "2023-08-06T10:06:25.495727Z",
     "iopub.status.idle": "2023-08-06T10:08:26.007971Z",
     "shell.execute_reply": "2023-08-06T10:08:26.006903Z"
    },
    "id": "wxqkBZS7ipmP",
    "outputId": "36763d67-107f-4fd9-fff5-44ad3164ba09",
    "papermill": {
     "duration": 120.657738,
     "end_time": "2023-08-06T10:08:26.010654",
     "exception": false,
     "start_time": "2023-08-06T10:06:25.352916",
     "status": "completed"
    },
    "tags": []
   },
   "outputs": [
    {
     "name": "stdout",
     "output_type": "stream",
     "text": [
      "                                                                                \r"
     ]
    },
    {
     "name": "stderr",
     "output_type": "stream",
     "text": [
      "on 0: /opt/conda/lib/python3.10/site-packages/transformers/generation/utils.py:1353: UserWarning: Using `max_length`'s default (20) to control the generation length. This behaviour is deprecated and will be removed from the config in v5 of Transformers -- we recommend using `max_new_tokens` to control the maximum length of the generation.\n",
      "        warnings.warn(\n"
     ]
    },
    {
     "name": "stdout",
     "output_type": "stream",
     "text": [
      "|████████████████████████████████████████| 500/500 [100%] in 2:00.5 (4.15/s)    \n"
     ]
    }
   ],
   "source": [
    "zero_02_actual = []\n",
    "zero_02_predicted = []\n",
    "zero_02_responses = []\n",
    "\n",
    "with alive_bar(test_count, force_tty=True) as bar:\n",
    "    for index, row in test_df.iterrows():\n",
    "        retries = 0\n",
    "        while retries < max_retries:\n",
    "            try:\n",
    "                response = run_model(context=context_01, query=query_01.replace(\"SAMPLE_REVIEW\", row['review']))\n",
    "                response = \" \".join(response)\n",
    "                zero_02_actual.append(label_dict[row['sentiment']])\n",
    "                zero_02_responses.append(response)\n",
    "                \n",
    "                flag = False\n",
    "                response = response.upper()\n",
    "                for label in acceptable_classes:\n",
    "                    if label in response:\n",
    "                        zero_02_predicted.append(label)\n",
    "                        flag = True\n",
    "                        break\n",
    "\n",
    "                if not flag:\n",
    "                    if \"NO SENTIMENT EXPRESSED\" in response:\n",
    "                        zero_02_predicted.append('NEUTRAL')\n",
    "                    else:\n",
    "                        zero_02_predicted.append('OTHER')\n",
    "\n",
    "                break\n",
    "\n",
    "            except Exception as e:\n",
    "                print(f\"An error occurred: {str(e)}\")\n",
    "                retries += 1\n",
    "                print(f\"Retrying ({retries}/{max_retries})...\")\n",
    "\n",
    "        if retries == max_retries:\n",
    "            print(f\"Failed to process review after {max_retries} retries. Skipping to the next entry.\")\n",
    "\n",
    "        bar()"
   ]
  },
  {
   "cell_type": "code",
   "execution_count": 45,
   "id": "04d5c5af",
   "metadata": {
    "execution": {
     "iopub.execute_input": "2023-08-06T10:08:26.483149Z",
     "iopub.status.busy": "2023-08-06T10:08:26.482711Z",
     "iopub.status.idle": "2023-08-06T10:08:26.585578Z",
     "shell.execute_reply": "2023-08-06T10:08:26.584610Z"
    },
    "id": "eqCSkGQ4ipjx",
    "outputId": "465dc826-1145-4d29-b359-984bd1e67277",
    "papermill": {
     "duration": 0.341781,
     "end_time": "2023-08-06T10:08:26.587887",
     "exception": false,
     "start_time": "2023-08-06T10:08:26.246106",
     "status": "completed"
    },
    "tags": []
   },
   "outputs": [
    {
     "data": {
      "text/html": [
       "<div>\n",
       "<style scoped>\n",
       "    .dataframe tbody tr th:only-of-type {\n",
       "        vertical-align: middle;\n",
       "    }\n",
       "\n",
       "    .dataframe tbody tr th {\n",
       "        vertical-align: top;\n",
       "    }\n",
       "\n",
       "    .dataframe thead th {\n",
       "        text-align: right;\n",
       "    }\n",
       "</style>\n",
       "<table border=\"1\" class=\"dataframe\">\n",
       "  <thead>\n",
       "    <tr style=\"text-align: right;\">\n",
       "      <th></th>\n",
       "      <th>OTHER</th>\n",
       "      <th>NEGATIVE</th>\n",
       "      <th>POSITIVE</th>\n",
       "      <th>NEUTRAL</th>\n",
       "      <th>All Classes</th>\n",
       "    </tr>\n",
       "  </thead>\n",
       "  <tbody>\n",
       "    <tr>\n",
       "      <th>Accuracy</th>\n",
       "      <td>-</td>\n",
       "      <td>-</td>\n",
       "      <td>-</td>\n",
       "      <td>-</td>\n",
       "      <td>0.382</td>\n",
       "    </tr>\n",
       "    <tr>\n",
       "      <th>F1 Score</th>\n",
       "      <td>[0.0]</td>\n",
       "      <td>[0.6181102362204726]</td>\n",
       "      <td>[0.22813688212927757]</td>\n",
       "      <td>[0.046242774566473986]</td>\n",
       "      <td>0.360292</td>\n",
       "    </tr>\n",
       "    <tr>\n",
       "      <th>Precision</th>\n",
       "      <td>[0.0]</td>\n",
       "      <td>[0.5181518151815182]</td>\n",
       "      <td>[1.0]</td>\n",
       "      <td>[0.023952095808383235]</td>\n",
       "      <td>0.67873</td>\n",
       "    </tr>\n",
       "    <tr>\n",
       "      <th>Recall</th>\n",
       "      <td>[0.0]</td>\n",
       "      <td>[0.7658536585365854]</td>\n",
       "      <td>[0.12875536480686695]</td>\n",
       "      <td>[0.6666666666666666]</td>\n",
       "      <td>0.382</td>\n",
       "    </tr>\n",
       "  </tbody>\n",
       "</table>\n",
       "</div>"
      ],
      "text/plain": [
       "           OTHER              NEGATIVE               POSITIVE  \\\n",
       "Accuracy       -                     -                      -   \n",
       "F1 Score   [0.0]  [0.6181102362204726]  [0.22813688212927757]   \n",
       "Precision  [0.0]  [0.5181518151815182]                  [1.0]   \n",
       "Recall     [0.0]  [0.7658536585365854]  [0.12875536480686695]   \n",
       "\n",
       "                          NEUTRAL All Classes  \n",
       "Accuracy                        -       0.382  \n",
       "F1 Score   [0.046242774566473986]    0.360292  \n",
       "Precision  [0.023952095808383235]     0.67873  \n",
       "Recall       [0.6666666666666666]       0.382  "
      ]
     },
     "execution_count": 45,
     "metadata": {},
     "output_type": "execute_result"
    }
   ],
   "source": [
    "zero_02_results = calculate_metrics(zero_02_actual, zero_02_predicted)\n",
    "zero_02_results "
   ]
  },
  {
   "cell_type": "code",
   "execution_count": 46,
   "id": "75228af7",
   "metadata": {
    "execution": {
     "iopub.execute_input": "2023-08-06T10:08:27.129376Z",
     "iopub.status.busy": "2023-08-06T10:08:27.128967Z",
     "iopub.status.idle": "2023-08-06T10:08:27.134176Z",
     "shell.execute_reply": "2023-08-06T10:08:27.133254Z"
    },
    "papermill": {
     "duration": 0.311928,
     "end_time": "2023-08-06T10:08:27.136490",
     "exception": false,
     "start_time": "2023-08-06T10:08:26.824562",
     "status": "completed"
    },
    "tags": []
   },
   "outputs": [],
   "source": [
    "np.save('zero_02_actual', zero_02_actual)"
   ]
  },
  {
   "cell_type": "code",
   "execution_count": 47,
   "id": "7a920494",
   "metadata": {
    "execution": {
     "iopub.execute_input": "2023-08-06T10:08:27.610456Z",
     "iopub.status.busy": "2023-08-06T10:08:27.610075Z",
     "iopub.status.idle": "2023-08-06T10:08:27.615826Z",
     "shell.execute_reply": "2023-08-06T10:08:27.614612Z"
    },
    "papermill": {
     "duration": 0.246365,
     "end_time": "2023-08-06T10:08:27.618218",
     "exception": false,
     "start_time": "2023-08-06T10:08:27.371853",
     "status": "completed"
    },
    "tags": []
   },
   "outputs": [],
   "source": [
    "np.save('zero_02_predicted', zero_02_predicted)"
   ]
  },
  {
   "cell_type": "code",
   "execution_count": 48,
   "id": "a8aa8b8d",
   "metadata": {
    "execution": {
     "iopub.execute_input": "2023-08-06T10:08:28.091191Z",
     "iopub.status.busy": "2023-08-06T10:08:28.090775Z",
     "iopub.status.idle": "2023-08-06T10:08:28.096887Z",
     "shell.execute_reply": "2023-08-06T10:08:28.095693Z"
    },
    "papermill": {
     "duration": 0.244772,
     "end_time": "2023-08-06T10:08:28.099753",
     "exception": false,
     "start_time": "2023-08-06T10:08:27.854981",
     "status": "completed"
    },
    "tags": []
   },
   "outputs": [],
   "source": [
    "np.save('zero_02_responses', zero_02_responses)"
   ]
  },
  {
   "cell_type": "code",
   "execution_count": 49,
   "id": "84b087c8",
   "metadata": {
    "execution": {
     "iopub.execute_input": "2023-08-06T10:08:28.576111Z",
     "iopub.status.busy": "2023-08-06T10:08:28.575470Z",
     "iopub.status.idle": "2023-08-06T10:08:28.583385Z",
     "shell.execute_reply": "2023-08-06T10:08:28.582461Z"
    },
    "papermill": {
     "duration": 0.248887,
     "end_time": "2023-08-06T10:08:28.586268",
     "exception": false,
     "start_time": "2023-08-06T10:08:28.337381",
     "status": "completed"
    },
    "tags": []
   },
   "outputs": [],
   "source": [
    "zero_02_results.to_csv('zero_02_results.csv',index=True)"
   ]
  },
  {
   "cell_type": "markdown",
   "id": "6f28d136",
   "metadata": {
    "id": "6pDlLFS0j2J6",
    "papermill": {
     "duration": 0.256954,
     "end_time": "2023-08-06T10:08:29.087010",
     "exception": false,
     "start_time": "2023-08-06T10:08:28.830056",
     "status": "completed"
    },
    "tags": []
   },
   "source": [
    "### Prompt #03"
   ]
  },
  {
   "cell_type": "code",
   "execution_count": 50,
   "id": "6c8149b9",
   "metadata": {
    "execution": {
     "iopub.execute_input": "2023-08-06T10:08:29.558148Z",
     "iopub.status.busy": "2023-08-06T10:08:29.557089Z",
     "iopub.status.idle": "2023-08-06T10:10:29.906127Z",
     "shell.execute_reply": "2023-08-06T10:10:29.904884Z"
    },
    "id": "IakGE6Raipg7",
    "outputId": "4c321983-0b4c-446a-bcac-348e10ca604f",
    "papermill": {
     "duration": 120.588224,
     "end_time": "2023-08-06T10:10:29.908758",
     "exception": false,
     "start_time": "2023-08-06T10:08:29.320534",
     "status": "completed"
    },
    "tags": []
   },
   "outputs": [
    {
     "name": "stdout",
     "output_type": "stream",
     "text": [
      "                                                                                \r"
     ]
    },
    {
     "name": "stderr",
     "output_type": "stream",
     "text": [
      "on 0: /opt/conda/lib/python3.10/site-packages/transformers/generation/utils.py:1353: UserWarning: Using `max_length`'s default (20) to control the generation length. This behaviour is deprecated and will be removed from the config in v5 of Transformers -- we recommend using `max_new_tokens` to control the maximum length of the generation.\n",
      "        warnings.warn(\n"
     ]
    },
    {
     "name": "stdout",
     "output_type": "stream",
     "text": [
      "|████████████████████████████████████████| 500/500 [100%] in 2:00.3 (4.15/s)    \n"
     ]
    }
   ],
   "source": [
    "zero_03_actual = []\n",
    "zero_03_predicted = []\n",
    "zero_03_responses = []\n",
    "\n",
    "with alive_bar(test_count, force_tty=True) as bar:\n",
    "    for index, row in test_df.iterrows():\n",
    "        retries = 0\n",
    "        while retries < max_retries:\n",
    "            try:\n",
    "                response = run_model(context=context_01, query=query_01.replace(\"SAMPLE_REVIEW\", row['review']))\n",
    "                response = \" \".join(response)\n",
    "                zero_03_actual.append(label_dict[row['sentiment']])\n",
    "                zero_03_responses.append(response)\n",
    "                \n",
    "                flag = False\n",
    "                response = response.upper()\n",
    "                for label in acceptable_classes:\n",
    "                    if label in response:\n",
    "                        zero_03_predicted.append(label)\n",
    "                        flag = True\n",
    "                        break\n",
    "\n",
    "                if not flag:\n",
    "                    if \"NO SENTIMENT EXPRESSED\" in response:\n",
    "                        zero_03_predicted.append('NEUTRAL')\n",
    "                    else:\n",
    "                        zero_03_predicted.append('OTHER')\n",
    "\n",
    "                break\n",
    "\n",
    "            except Exception as e:\n",
    "                print(f\"An error occurred: {str(e)}\")\n",
    "                retries += 1\n",
    "                print(f\"Retrying ({retries}/{max_retries})...\")\n",
    "\n",
    "        if retries == max_retries:\n",
    "            print(f\"Failed to process review after {max_retries} retries. Skipping to the next entry.\")\n",
    "\n",
    "        bar()"
   ]
  },
  {
   "cell_type": "code",
   "execution_count": 51,
   "id": "28486973",
   "metadata": {
    "execution": {
     "iopub.execute_input": "2023-08-06T10:10:30.568999Z",
     "iopub.status.busy": "2023-08-06T10:10:30.568389Z",
     "iopub.status.idle": "2023-08-06T10:10:30.668305Z",
     "shell.execute_reply": "2023-08-06T10:10:30.667183Z"
    },
    "id": "s45wahd0ipaL",
    "outputId": "1a433ddb-c777-43bf-80f1-daf42a86bb50",
    "papermill": {
     "duration": 0.434726,
     "end_time": "2023-08-06T10:10:30.670912",
     "exception": false,
     "start_time": "2023-08-06T10:10:30.236186",
     "status": "completed"
    },
    "tags": []
   },
   "outputs": [
    {
     "data": {
      "text/html": [
       "<div>\n",
       "<style scoped>\n",
       "    .dataframe tbody tr th:only-of-type {\n",
       "        vertical-align: middle;\n",
       "    }\n",
       "\n",
       "    .dataframe tbody tr th {\n",
       "        vertical-align: top;\n",
       "    }\n",
       "\n",
       "    .dataframe thead th {\n",
       "        text-align: right;\n",
       "    }\n",
       "</style>\n",
       "<table border=\"1\" class=\"dataframe\">\n",
       "  <thead>\n",
       "    <tr style=\"text-align: right;\">\n",
       "      <th></th>\n",
       "      <th>OTHER</th>\n",
       "      <th>NEGATIVE</th>\n",
       "      <th>POSITIVE</th>\n",
       "      <th>NEUTRAL</th>\n",
       "      <th>All Classes</th>\n",
       "    </tr>\n",
       "  </thead>\n",
       "  <tbody>\n",
       "    <tr>\n",
       "      <th>Accuracy</th>\n",
       "      <td>-</td>\n",
       "      <td>-</td>\n",
       "      <td>-</td>\n",
       "      <td>-</td>\n",
       "      <td>0.382</td>\n",
       "    </tr>\n",
       "    <tr>\n",
       "      <th>F1 Score</th>\n",
       "      <td>[0.0]</td>\n",
       "      <td>[0.6181102362204726]</td>\n",
       "      <td>[0.22813688212927757]</td>\n",
       "      <td>[0.046242774566473986]</td>\n",
       "      <td>0.360292</td>\n",
       "    </tr>\n",
       "    <tr>\n",
       "      <th>Precision</th>\n",
       "      <td>[0.0]</td>\n",
       "      <td>[0.5181518151815182]</td>\n",
       "      <td>[1.0]</td>\n",
       "      <td>[0.023952095808383235]</td>\n",
       "      <td>0.67873</td>\n",
       "    </tr>\n",
       "    <tr>\n",
       "      <th>Recall</th>\n",
       "      <td>[0.0]</td>\n",
       "      <td>[0.7658536585365854]</td>\n",
       "      <td>[0.12875536480686695]</td>\n",
       "      <td>[0.6666666666666666]</td>\n",
       "      <td>0.382</td>\n",
       "    </tr>\n",
       "  </tbody>\n",
       "</table>\n",
       "</div>"
      ],
      "text/plain": [
       "           OTHER              NEGATIVE               POSITIVE  \\\n",
       "Accuracy       -                     -                      -   \n",
       "F1 Score   [0.0]  [0.6181102362204726]  [0.22813688212927757]   \n",
       "Precision  [0.0]  [0.5181518151815182]                  [1.0]   \n",
       "Recall     [0.0]  [0.7658536585365854]  [0.12875536480686695]   \n",
       "\n",
       "                          NEUTRAL All Classes  \n",
       "Accuracy                        -       0.382  \n",
       "F1 Score   [0.046242774566473986]    0.360292  \n",
       "Precision  [0.023952095808383235]     0.67873  \n",
       "Recall       [0.6666666666666666]       0.382  "
      ]
     },
     "execution_count": 51,
     "metadata": {},
     "output_type": "execute_result"
    }
   ],
   "source": [
    "zero_03_results = calculate_metrics(zero_03_actual, zero_03_predicted)\n",
    "zero_03_results"
   ]
  },
  {
   "cell_type": "code",
   "execution_count": 52,
   "id": "2e8c79df",
   "metadata": {
    "execution": {
     "iopub.execute_input": "2023-08-06T10:10:31.328647Z",
     "iopub.status.busy": "2023-08-06T10:10:31.328249Z",
     "iopub.status.idle": "2023-08-06T10:10:31.334099Z",
     "shell.execute_reply": "2023-08-06T10:10:31.332763Z"
    },
    "papermill": {
     "duration": 0.338182,
     "end_time": "2023-08-06T10:10:31.336524",
     "exception": false,
     "start_time": "2023-08-06T10:10:30.998342",
     "status": "completed"
    },
    "tags": []
   },
   "outputs": [],
   "source": [
    "np.save('zero_03_actual', zero_03_actual)"
   ]
  },
  {
   "cell_type": "code",
   "execution_count": 53,
   "id": "04aad93c",
   "metadata": {
    "execution": {
     "iopub.execute_input": "2023-08-06T10:10:31.995291Z",
     "iopub.status.busy": "2023-08-06T10:10:31.994864Z",
     "iopub.status.idle": "2023-08-06T10:10:32.000871Z",
     "shell.execute_reply": "2023-08-06T10:10:31.999591Z"
    },
    "papermill": {
     "duration": 0.336174,
     "end_time": "2023-08-06T10:10:32.003409",
     "exception": false,
     "start_time": "2023-08-06T10:10:31.667235",
     "status": "completed"
    },
    "tags": []
   },
   "outputs": [],
   "source": [
    "np.save('zero_03_predicted', zero_03_predicted)"
   ]
  },
  {
   "cell_type": "code",
   "execution_count": 54,
   "id": "4f7986e1",
   "metadata": {
    "execution": {
     "iopub.execute_input": "2023-08-06T10:10:32.663770Z",
     "iopub.status.busy": "2023-08-06T10:10:32.663315Z",
     "iopub.status.idle": "2023-08-06T10:10:32.668984Z",
     "shell.execute_reply": "2023-08-06T10:10:32.668064Z"
    },
    "papermill": {
     "duration": 0.340568,
     "end_time": "2023-08-06T10:10:32.671283",
     "exception": false,
     "start_time": "2023-08-06T10:10:32.330715",
     "status": "completed"
    },
    "tags": []
   },
   "outputs": [],
   "source": [
    "np.save('zero_03_responses', zero_03_responses)"
   ]
  },
  {
   "cell_type": "code",
   "execution_count": 55,
   "id": "25313de4",
   "metadata": {
    "execution": {
     "iopub.execute_input": "2023-08-06T10:10:33.399707Z",
     "iopub.status.busy": "2023-08-06T10:10:33.399243Z",
     "iopub.status.idle": "2023-08-06T10:10:33.406925Z",
     "shell.execute_reply": "2023-08-06T10:10:33.406057Z"
    },
    "papermill": {
     "duration": 0.34005,
     "end_time": "2023-08-06T10:10:33.409131",
     "exception": false,
     "start_time": "2023-08-06T10:10:33.069081",
     "status": "completed"
    },
    "tags": []
   },
   "outputs": [],
   "source": [
    "zero_03_results.to_csv('zero_03_results.csv',index=True)"
   ]
  },
  {
   "cell_type": "markdown",
   "id": "6b7b02b4",
   "metadata": {
    "id": "P-iUUvOQkAGI",
    "papermill": {
     "duration": 0.327058,
     "end_time": "2023-08-06T10:10:34.066461",
     "exception": false,
     "start_time": "2023-08-06T10:10:33.739403",
     "status": "completed"
    },
    "tags": []
   },
   "source": [
    "### Prompt #04"
   ]
  },
  {
   "cell_type": "code",
   "execution_count": 56,
   "id": "05ae29a3",
   "metadata": {
    "execution": {
     "iopub.execute_input": "2023-08-06T10:10:34.724972Z",
     "iopub.status.busy": "2023-08-06T10:10:34.724331Z",
     "iopub.status.idle": "2023-08-06T10:12:33.203093Z",
     "shell.execute_reply": "2023-08-06T10:12:33.201770Z"
    },
    "id": "sLgq9Xdkj_qf",
    "outputId": "f1736fd1-0be5-4699-99dc-e9aed6bafd54",
    "papermill": {
     "duration": 118.810418,
     "end_time": "2023-08-06T10:12:33.205515",
     "exception": false,
     "start_time": "2023-08-06T10:10:34.395097",
     "status": "completed"
    },
    "tags": []
   },
   "outputs": [
    {
     "name": "stdout",
     "output_type": "stream",
     "text": [
      "                                                                                \r"
     ]
    },
    {
     "name": "stderr",
     "output_type": "stream",
     "text": [
      "on 0: /opt/conda/lib/python3.10/site-packages/transformers/generation/utils.py:1353: UserWarning: Using `max_length`'s default (20) to control the generation length. This behaviour is deprecated and will be removed from the config in v5 of Transformers -- we recommend using `max_new_tokens` to control the maximum length of the generation.\n",
      "        warnings.warn(\n"
     ]
    },
    {
     "name": "stdout",
     "output_type": "stream",
     "text": [
      "|████████████████████████████████████████| 500/500 [100%] in 1:58.5 (4.22/s)    \n"
     ]
    }
   ],
   "source": [
    "zero_04_actual = []\n",
    "zero_04_predicted = []\n",
    "zero_04_responses = []\n",
    "\n",
    "with alive_bar(test_count, force_tty=True) as bar:\n",
    "    for index, row in test_df.iterrows():\n",
    "        retries = 0\n",
    "        while retries < max_retries:\n",
    "            try:\n",
    "                response = run_model(context=context_04, query=query_04.replace(\"SAMPLE_REVIEW\", row['review']))\n",
    "                response = \" \".join(response)\n",
    "                zero_04_actual.append(label_dict[row['sentiment']])\n",
    "                zero_04_responses.append(response)\n",
    "                \n",
    "                flag = False\n",
    "                response = response.upper()\n",
    "                for label in acceptable_classes:\n",
    "                    if label in response:\n",
    "                        zero_04_predicted.append(label)\n",
    "                        flag = True\n",
    "                        break\n",
    "\n",
    "                if not flag:\n",
    "                    if \"NO SENTIMENT EXPRESSED\" in response:\n",
    "                        zero_04_predicted.append('NEUTRAL')\n",
    "                    else:\n",
    "                        zero_04_predicted.append('OTHER')\n",
    "\n",
    "                break\n",
    "\n",
    "            except Exception as e:\n",
    "                print(f\"An error occurred: {str(e)}\")\n",
    "                retries += 1\n",
    "                print(f\"Retrying ({retries}/{max_retries})...\")\n",
    "\n",
    "        if retries == max_retries:\n",
    "            print(f\"Failed to process review after {max_retries} retries. Skipping to the next entry.\")\n",
    "\n",
    "        bar()"
   ]
  },
  {
   "cell_type": "code",
   "execution_count": 57,
   "id": "45ededc8",
   "metadata": {
    "execution": {
     "iopub.execute_input": "2023-08-06T10:12:34.050701Z",
     "iopub.status.busy": "2023-08-06T10:12:34.050255Z",
     "iopub.status.idle": "2023-08-06T10:12:34.150442Z",
     "shell.execute_reply": "2023-08-06T10:12:34.149298Z"
    },
    "id": "V7XTurV5ipG-",
    "outputId": "edfef91a-efb3-4fa1-be6c-d5158fa18dca",
    "papermill": {
     "duration": 0.52649,
     "end_time": "2023-08-06T10:12:34.153147",
     "exception": false,
     "start_time": "2023-08-06T10:12:33.626657",
     "status": "completed"
    },
    "tags": []
   },
   "outputs": [
    {
     "data": {
      "text/html": [
       "<div>\n",
       "<style scoped>\n",
       "    .dataframe tbody tr th:only-of-type {\n",
       "        vertical-align: middle;\n",
       "    }\n",
       "\n",
       "    .dataframe tbody tr th {\n",
       "        vertical-align: top;\n",
       "    }\n",
       "\n",
       "    .dataframe thead th {\n",
       "        text-align: right;\n",
       "    }\n",
       "</style>\n",
       "<table border=\"1\" class=\"dataframe\">\n",
       "  <thead>\n",
       "    <tr style=\"text-align: right;\">\n",
       "      <th></th>\n",
       "      <th>OTHER</th>\n",
       "      <th>NEGATIVE</th>\n",
       "      <th>POSITIVE</th>\n",
       "      <th>NEUTRAL</th>\n",
       "      <th>All Classes</th>\n",
       "    </tr>\n",
       "  </thead>\n",
       "  <tbody>\n",
       "    <tr>\n",
       "      <th>Accuracy</th>\n",
       "      <td>-</td>\n",
       "      <td>-</td>\n",
       "      <td>-</td>\n",
       "      <td>-</td>\n",
       "      <td>0.558</td>\n",
       "    </tr>\n",
       "    <tr>\n",
       "      <th>F1 Score</th>\n",
       "      <td>[0.0]</td>\n",
       "      <td>[0.7105263157894736]</td>\n",
       "      <td>[0.6345609065155807]</td>\n",
       "      <td>[0.07407407407407408]</td>\n",
       "      <td>0.58791</td>\n",
       "    </tr>\n",
       "    <tr>\n",
       "      <th>Precision</th>\n",
       "      <td>[0.0]</td>\n",
       "      <td>[0.6454183266932271]</td>\n",
       "      <td>[0.9333333333333333]</td>\n",
       "      <td>[0.03875968992248062]</td>\n",
       "      <td>0.70002</td>\n",
       "    </tr>\n",
       "    <tr>\n",
       "      <th>Recall</th>\n",
       "      <td>[0.0]</td>\n",
       "      <td>[0.7902439024390244]</td>\n",
       "      <td>[0.48068669527896996]</td>\n",
       "      <td>[0.8333333333333334]</td>\n",
       "      <td>0.558</td>\n",
       "    </tr>\n",
       "  </tbody>\n",
       "</table>\n",
       "</div>"
      ],
      "text/plain": [
       "           OTHER              NEGATIVE               POSITIVE  \\\n",
       "Accuracy       -                     -                      -   \n",
       "F1 Score   [0.0]  [0.7105263157894736]   [0.6345609065155807]   \n",
       "Precision  [0.0]  [0.6454183266932271]   [0.9333333333333333]   \n",
       "Recall     [0.0]  [0.7902439024390244]  [0.48068669527896996]   \n",
       "\n",
       "                         NEUTRAL All Classes  \n",
       "Accuracy                       -       0.558  \n",
       "F1 Score   [0.07407407407407408]     0.58791  \n",
       "Precision  [0.03875968992248062]     0.70002  \n",
       "Recall      [0.8333333333333334]       0.558  "
      ]
     },
     "execution_count": 57,
     "metadata": {},
     "output_type": "execute_result"
    }
   ],
   "source": [
    "zero_04_results = calculate_metrics(zero_04_actual, zero_04_predicted)\n",
    "zero_04_results"
   ]
  },
  {
   "cell_type": "code",
   "execution_count": 58,
   "id": "979cce6c",
   "metadata": {
    "execution": {
     "iopub.execute_input": "2023-08-06T10:12:34.999109Z",
     "iopub.status.busy": "2023-08-06T10:12:34.998742Z",
     "iopub.status.idle": "2023-08-06T10:12:35.004133Z",
     "shell.execute_reply": "2023-08-06T10:12:35.002979Z"
    },
    "papermill": {
     "duration": 0.429961,
     "end_time": "2023-08-06T10:12:35.006489",
     "exception": false,
     "start_time": "2023-08-06T10:12:34.576528",
     "status": "completed"
    },
    "tags": []
   },
   "outputs": [],
   "source": [
    "np.save('zero_04_actual', zero_04_actual)"
   ]
  },
  {
   "cell_type": "code",
   "execution_count": 59,
   "id": "ff02ae23",
   "metadata": {
    "execution": {
     "iopub.execute_input": "2023-08-06T10:12:35.848598Z",
     "iopub.status.busy": "2023-08-06T10:12:35.848212Z",
     "iopub.status.idle": "2023-08-06T10:12:35.853542Z",
     "shell.execute_reply": "2023-08-06T10:12:35.852756Z"
    },
    "papermill": {
     "duration": 0.42984,
     "end_time": "2023-08-06T10:12:35.855874",
     "exception": false,
     "start_time": "2023-08-06T10:12:35.426034",
     "status": "completed"
    },
    "tags": []
   },
   "outputs": [],
   "source": [
    "np.save('zero_04_predicted', zero_04_predicted)"
   ]
  },
  {
   "cell_type": "code",
   "execution_count": 60,
   "id": "2a060b45",
   "metadata": {
    "execution": {
     "iopub.execute_input": "2023-08-06T10:12:36.767866Z",
     "iopub.status.busy": "2023-08-06T10:12:36.766811Z",
     "iopub.status.idle": "2023-08-06T10:12:36.773320Z",
     "shell.execute_reply": "2023-08-06T10:12:36.772223Z"
    },
    "papermill": {
     "duration": 0.434265,
     "end_time": "2023-08-06T10:12:36.776283",
     "exception": false,
     "start_time": "2023-08-06T10:12:36.342018",
     "status": "completed"
    },
    "tags": []
   },
   "outputs": [],
   "source": [
    "np.save('zero_04_responses', zero_04_responses)"
   ]
  },
  {
   "cell_type": "code",
   "execution_count": 61,
   "id": "0f9f7146",
   "metadata": {
    "execution": {
     "iopub.execute_input": "2023-08-06T10:12:37.624806Z",
     "iopub.status.busy": "2023-08-06T10:12:37.623985Z",
     "iopub.status.idle": "2023-08-06T10:12:37.631552Z",
     "shell.execute_reply": "2023-08-06T10:12:37.630760Z"
    },
    "papermill": {
     "duration": 0.434322,
     "end_time": "2023-08-06T10:12:37.634122",
     "exception": false,
     "start_time": "2023-08-06T10:12:37.199800",
     "status": "completed"
    },
    "tags": []
   },
   "outputs": [],
   "source": [
    "zero_04_results.to_csv('zero_04_results.csv',index=True)"
   ]
  },
  {
   "cell_type": "markdown",
   "id": "bf61f30e",
   "metadata": {
    "id": "IZJPwaOAptEX",
    "papermill": {
     "duration": 0.422793,
     "end_time": "2023-08-06T10:12:38.478323",
     "exception": false,
     "start_time": "2023-08-06T10:12:38.055530",
     "status": "completed"
    },
    "tags": []
   },
   "source": [
    "### Prompt #05"
   ]
  },
  {
   "cell_type": "code",
   "execution_count": 62,
   "id": "fe0a22b2",
   "metadata": {
    "execution": {
     "iopub.execute_input": "2023-08-06T10:12:39.421883Z",
     "iopub.status.busy": "2023-08-06T10:12:39.421031Z",
     "iopub.status.idle": "2023-08-06T10:14:17.204113Z",
     "shell.execute_reply": "2023-08-06T10:14:17.202652Z"
    },
    "id": "WcuTZc3Spuis",
    "outputId": "dcaa17fa-65f1-4d62-8d59-e464b5fd3429",
    "papermill": {
     "duration": 98.211716,
     "end_time": "2023-08-06T10:14:17.206556",
     "exception": false,
     "start_time": "2023-08-06T10:12:38.994840",
     "status": "completed"
    },
    "tags": []
   },
   "outputs": [
    {
     "name": "stdout",
     "output_type": "stream",
     "text": [
      "                                                                                \r"
     ]
    },
    {
     "name": "stderr",
     "output_type": "stream",
     "text": [
      "on 0: /opt/conda/lib/python3.10/site-packages/transformers/generation/utils.py:1353: UserWarning: Using `max_length`'s default (20) to control the generation length. This behaviour is deprecated and will be removed from the config in v5 of Transformers -- we recommend using `max_new_tokens` to control the maximum length of the generation.\n",
      "        warnings.warn(\n"
     ]
    },
    {
     "name": "stdout",
     "output_type": "stream",
     "text": [
      "|████████████████████████████████████████| 500/500 [100%] in 1:37.8 (5.11/s)    \n"
     ]
    }
   ],
   "source": [
    "zero_05_actual = []\n",
    "zero_05_predicted = []\n",
    "zero_05_responses = []\n",
    "\n",
    "with alive_bar(test_count, force_tty=True) as bar:\n",
    "    for index, row in test_df.iterrows():\n",
    "        retries = 0\n",
    "        while retries < max_retries:\n",
    "            try:\n",
    "                response = run_model(context=row['review'], query=query_05)\n",
    "                response = \" \".join(response)\n",
    "                zero_05_actual.append(label_dict[row['sentiment']])\n",
    "                zero_05_responses.append(response)\n",
    "                \n",
    "                flag = False\n",
    "                response = response.upper()\n",
    "                for label in acceptable_classes:\n",
    "                    if label in response:\n",
    "                        zero_05_predicted.append(label)\n",
    "                        flag = True\n",
    "                        break\n",
    "\n",
    "                if not flag:\n",
    "                    if \"NO SENTIMENT EXPRESSED\" in response:\n",
    "                        zero_05_predicted.append('NEUTRAL')\n",
    "                    else:\n",
    "                        zero_05_predicted.append('OTHER')\n",
    "\n",
    "                break\n",
    "\n",
    "            except Exception as e:\n",
    "                print(f\"An error occurred: {str(e)}\")\n",
    "                retries += 1\n",
    "                print(f\"Retrying ({retries}/{max_retries})...\")\n",
    "\n",
    "        if retries == max_retries:\n",
    "            print(f\"Failed to process review after {max_retries} retries. Skipping to the next entry.\")\n",
    "\n",
    "        bar()"
   ]
  },
  {
   "cell_type": "code",
   "execution_count": 63,
   "id": "fac474ad",
   "metadata": {
    "execution": {
     "iopub.execute_input": "2023-08-06T10:14:18.300651Z",
     "iopub.status.busy": "2023-08-06T10:14:18.300217Z",
     "iopub.status.idle": "2023-08-06T10:14:18.401206Z",
     "shell.execute_reply": "2023-08-06T10:14:18.400008Z"
    },
    "id": "GznZwQmjpu-k",
    "outputId": "5a1cc204-b3f6-4275-934d-37088b94625a",
    "papermill": {
     "duration": 0.612814,
     "end_time": "2023-08-06T10:14:18.403596",
     "exception": false,
     "start_time": "2023-08-06T10:14:17.790782",
     "status": "completed"
    },
    "tags": []
   },
   "outputs": [
    {
     "data": {
      "text/html": [
       "<div>\n",
       "<style scoped>\n",
       "    .dataframe tbody tr th:only-of-type {\n",
       "        vertical-align: middle;\n",
       "    }\n",
       "\n",
       "    .dataframe tbody tr th {\n",
       "        vertical-align: top;\n",
       "    }\n",
       "\n",
       "    .dataframe thead th {\n",
       "        text-align: right;\n",
       "    }\n",
       "</style>\n",
       "<table border=\"1\" class=\"dataframe\">\n",
       "  <thead>\n",
       "    <tr style=\"text-align: right;\">\n",
       "      <th></th>\n",
       "      <th>OTHER</th>\n",
       "      <th>NEGATIVE</th>\n",
       "      <th>POSITIVE</th>\n",
       "      <th>NEUTRAL</th>\n",
       "      <th>All Classes</th>\n",
       "    </tr>\n",
       "  </thead>\n",
       "  <tbody>\n",
       "    <tr>\n",
       "      <th>Accuracy</th>\n",
       "      <td>-</td>\n",
       "      <td>-</td>\n",
       "      <td>-</td>\n",
       "      <td>-</td>\n",
       "      <td>0.908</td>\n",
       "    </tr>\n",
       "    <tr>\n",
       "      <th>F1 Score</th>\n",
       "      <td>[0.7200000000000001]</td>\n",
       "      <td>[0.9370629370629371]</td>\n",
       "      <td>[0.9333333333333333]</td>\n",
       "      <td>[0.0]</td>\n",
       "      <td>0.899769</td>\n",
       "    </tr>\n",
       "    <tr>\n",
       "      <th>Precision</th>\n",
       "      <td>[0.8181818181818182]</td>\n",
       "      <td>[0.8973214285714286]</td>\n",
       "      <td>[0.9353448275862069]</td>\n",
       "      <td>[0.0]</td>\n",
       "      <td>0.895409</td>\n",
       "    </tr>\n",
       "    <tr>\n",
       "      <th>Recall</th>\n",
       "      <td>[0.6428571428571429]</td>\n",
       "      <td>[0.9804878048780488]</td>\n",
       "      <td>[0.9313304721030042]</td>\n",
       "      <td>[0.0]</td>\n",
       "      <td>0.908</td>\n",
       "    </tr>\n",
       "  </tbody>\n",
       "</table>\n",
       "</div>"
      ],
      "text/plain": [
       "                          OTHER              NEGATIVE              POSITIVE  \\\n",
       "Accuracy                      -                     -                     -   \n",
       "F1 Score   [0.7200000000000001]  [0.9370629370629371]  [0.9333333333333333]   \n",
       "Precision  [0.8181818181818182]  [0.8973214285714286]  [0.9353448275862069]   \n",
       "Recall     [0.6428571428571429]  [0.9804878048780488]  [0.9313304721030042]   \n",
       "\n",
       "          NEUTRAL All Classes  \n",
       "Accuracy        -       0.908  \n",
       "F1 Score    [0.0]    0.899769  \n",
       "Precision   [0.0]    0.895409  \n",
       "Recall      [0.0]       0.908  "
      ]
     },
     "execution_count": 63,
     "metadata": {},
     "output_type": "execute_result"
    }
   ],
   "source": [
    "zero_05_results = calculate_metrics(zero_05_actual, zero_05_predicted)\n",
    "zero_05_results"
   ]
  },
  {
   "cell_type": "code",
   "execution_count": 64,
   "id": "72d6b54d",
   "metadata": {
    "execution": {
     "iopub.execute_input": "2023-08-06T10:14:19.444600Z",
     "iopub.status.busy": "2023-08-06T10:14:19.443933Z",
     "iopub.status.idle": "2023-08-06T10:14:19.449409Z",
     "shell.execute_reply": "2023-08-06T10:14:19.448550Z"
    },
    "papermill": {
     "duration": 0.535732,
     "end_time": "2023-08-06T10:14:19.451721",
     "exception": false,
     "start_time": "2023-08-06T10:14:18.915989",
     "status": "completed"
    },
    "tags": []
   },
   "outputs": [],
   "source": [
    "np.save('zero_05_actual', zero_05_actual)"
   ]
  },
  {
   "cell_type": "code",
   "execution_count": 65,
   "id": "7a9d451e",
   "metadata": {
    "execution": {
     "iopub.execute_input": "2023-08-06T10:14:20.466715Z",
     "iopub.status.busy": "2023-08-06T10:14:20.466270Z",
     "iopub.status.idle": "2023-08-06T10:14:20.471614Z",
     "shell.execute_reply": "2023-08-06T10:14:20.470819Z"
    },
    "papermill": {
     "duration": 0.511582,
     "end_time": "2023-08-06T10:14:20.473914",
     "exception": false,
     "start_time": "2023-08-06T10:14:19.962332",
     "status": "completed"
    },
    "tags": []
   },
   "outputs": [],
   "source": [
    "np.save('zero_05_predicted', zero_05_predicted)"
   ]
  },
  {
   "cell_type": "code",
   "execution_count": 66,
   "id": "8a0ffcfc",
   "metadata": {
    "execution": {
     "iopub.execute_input": "2023-08-06T10:14:21.558613Z",
     "iopub.status.busy": "2023-08-06T10:14:21.558230Z",
     "iopub.status.idle": "2023-08-06T10:14:21.563447Z",
     "shell.execute_reply": "2023-08-06T10:14:21.562560Z"
    },
    "papermill": {
     "duration": 0.516925,
     "end_time": "2023-08-06T10:14:21.565689",
     "exception": false,
     "start_time": "2023-08-06T10:14:21.048764",
     "status": "completed"
    },
    "tags": []
   },
   "outputs": [],
   "source": [
    "np.save('zero_05_responses', zero_05_responses)"
   ]
  },
  {
   "cell_type": "code",
   "execution_count": 67,
   "id": "bd261270",
   "metadata": {
    "execution": {
     "iopub.execute_input": "2023-08-06T10:14:22.602214Z",
     "iopub.status.busy": "2023-08-06T10:14:22.600975Z",
     "iopub.status.idle": "2023-08-06T10:14:22.613444Z",
     "shell.execute_reply": "2023-08-06T10:14:22.612283Z"
    },
    "papermill": {
     "duration": 0.545885,
     "end_time": "2023-08-06T10:14:22.616070",
     "exception": false,
     "start_time": "2023-08-06T10:14:22.070185",
     "status": "completed"
    },
    "tags": []
   },
   "outputs": [],
   "source": [
    "zero_05_results.to_csv('zero_05_results.csv',index=True)"
   ]
  },
  {
   "cell_type": "markdown",
   "id": "7403c010",
   "metadata": {
    "id": "VTfDqvHhvyko",
    "papermill": {
     "duration": 0.582722,
     "end_time": "2023-08-06T10:14:23.718190",
     "exception": false,
     "start_time": "2023-08-06T10:14:23.135468",
     "status": "completed"
    },
    "tags": []
   },
   "source": [
    "## Few-Shot Sample Test"
   ]
  },
  {
   "cell_type": "code",
   "execution_count": 68,
   "id": "ee331aec",
   "metadata": {
    "execution": {
     "iopub.execute_input": "2023-08-06T10:14:24.738640Z",
     "iopub.status.busy": "2023-08-06T10:14:24.737847Z",
     "iopub.status.idle": "2023-08-06T10:14:24.744616Z",
     "shell.execute_reply": "2023-08-06T10:14:24.743351Z"
    },
    "id": "paAsXGGiv0ml",
    "papermill": {
     "duration": 0.523791,
     "end_time": "2023-08-06T10:14:24.747233",
     "exception": false,
     "start_time": "2023-08-06T10:14:24.223442",
     "status": "completed"
    },
    "tags": []
   },
   "outputs": [],
   "source": [
    "def create_examples_df(sample_size=1):\n",
    "    example_prompts = df_final.groupby('sentiment').apply(lambda x: x.sample(sample_size))\n",
    "    example_prompts = example_prompts.sample(frac=1).reset_index(drop=True)\n",
    "    return example_prompts"
   ]
  },
  {
   "cell_type": "code",
   "execution_count": 69,
   "id": "6dfeee5c",
   "metadata": {
    "execution": {
     "iopub.execute_input": "2023-08-06T10:14:25.757823Z",
     "iopub.status.busy": "2023-08-06T10:14:25.757366Z",
     "iopub.status.idle": "2023-08-06T10:14:25.764888Z",
     "shell.execute_reply": "2023-08-06T10:14:25.763691Z"
    },
    "id": "hAp54Nnmv4KZ",
    "papermill": {
     "duration": 0.514879,
     "end_time": "2023-08-06T10:14:25.767116",
     "exception": false,
     "start_time": "2023-08-06T10:14:25.252237",
     "status": "completed"
    },
    "tags": []
   },
   "outputs": [],
   "source": [
    "def create_examples_prompt():\n",
    "    examples_df = create_examples_df()\n",
    "    result = \"\"\n",
    "    result_persian = \"\"\n",
    "    i = 1\n",
    "    for index, row in examples_df.iterrows():\n",
    "        result += f\"Example {i}:\\n\"\n",
    "        result += f\"Review: {row['review']}\\n\"\n",
    "        result += f\"Sentiment: {label_dict[row['sentiment']]}\\n\"\n",
    "\n",
    "        result_persian += f\"مثال {i}:\\n\"\n",
    "        result_persian += f\"نظر: {row['review']}\\n\"\n",
    "        result_persian += f\"احساس: {eng_to_per_dict[label_dict[row['sentiment']]]}\\n\"\n",
    "\n",
    "        i += 1\n",
    "\n",
    "    return result, result_persian"
   ]
  },
  {
   "cell_type": "code",
   "execution_count": 70,
   "id": "596d39ce",
   "metadata": {
    "execution": {
     "iopub.execute_input": "2023-08-06T10:14:26.855566Z",
     "iopub.status.busy": "2023-08-06T10:14:26.854800Z",
     "iopub.status.idle": "2023-08-06T10:14:26.867062Z",
     "shell.execute_reply": "2023-08-06T10:14:26.865967Z"
    },
    "id": "r0JGIcJSwXSC",
    "outputId": "7568e67a-1bb3-46de-b46c-3bcf2c6bad11",
    "papermill": {
     "duration": 0.525121,
     "end_time": "2023-08-06T10:14:26.869880",
     "exception": false,
     "start_time": "2023-08-06T10:14:26.344759",
     "status": "completed"
    },
    "tags": []
   },
   "outputs": [
    {
     "name": "stdout",
     "output_type": "stream",
     "text": [
      "Example 1:\n",
      "Review: این محصول از کیفیت مناسب و خوبی برخورداره از خریدش راضیم.\n",
      "Sentiment: POSITIVE\n",
      "Example 2:\n",
      "Review: همه یکنواخت نمی پزند یکی له می شه و دیگری سفته پیشنهاد نمی کنم\n",
      "Sentiment: NEGATIVE\n",
      "Example 3:\n",
      "Review: بسته بندی و طعم خوبی داره ، من دوست دارم واقعا\n",
      "Sentiment: POSITIVE\n",
      "Example 4:\n",
      "Review: من اصلا نپسندیدم . همینطور مونده . اصلا با شربت خانگی قابل مقایسه نیست . من پیشنهاد نمی کنم .\n",
      "Sentiment: NEGATIVE\n",
      "Example 5:\n",
      "Review: تعداد شیر های پرچرب کمتر از کم چرب بود ۴ تا کم چرب بود و ۲ تا پر چرب\n",
      "Sentiment: NEUTRAL\n",
      "Example 6:\n",
      "Review: طعم خوبی نداره نسبت به حلوا شکری های بازار تنها حسنش تو شگفت انگیز فقط قیمتش از رقبا کمتره\n",
      "Sentiment: OTHER\n",
      "\n",
      "============================\n",
      "\n",
      "مثال 1:\n",
      "نظر: این محصول از کیفیت مناسب و خوبی برخورداره از خریدش راضیم.\n",
      "احساس: مثبت\n",
      "مثال 2:\n",
      "نظر: همه یکنواخت نمی پزند یکی له می شه و دیگری سفته پیشنهاد نمی کنم\n",
      "احساس: منفی\n",
      "مثال 3:\n",
      "نظر: بسته بندی و طعم خوبی داره ، من دوست دارم واقعا\n",
      "احساس: مثبت\n",
      "مثال 4:\n",
      "نظر: من اصلا نپسندیدم . همینطور مونده . اصلا با شربت خانگی قابل مقایسه نیست . من پیشنهاد نمی کنم .\n",
      "احساس: منفی\n",
      "مثال 5:\n",
      "نظر: تعداد شیر های پرچرب کمتر از کم چرب بود ۴ تا کم چرب بود و ۲ تا پر چرب\n",
      "احساس: خنثی\n",
      "مثال 6:\n",
      "نظر: طعم خوبی نداره نسبت به حلوا شکری های بازار تنها حسنش تو شگفت انگیز فقط قیمتش از رقبا کمتره\n",
      "احساس: سایر\n",
      "\n"
     ]
    }
   ],
   "source": [
    "examples, examples_persian = create_examples_prompt()\n",
    "print(examples)\n",
    "print(\"============================\")\n",
    "print()\n",
    "print(examples_persian)"
   ]
  },
  {
   "cell_type": "markdown",
   "id": "e40076de",
   "metadata": {
    "id": "YpiPzQxawr27",
    "papermill": {
     "duration": 0.51399,
     "end_time": "2023-08-06T10:14:27.891017",
     "exception": false,
     "start_time": "2023-08-06T10:14:27.377027",
     "status": "completed"
    },
    "tags": []
   },
   "source": [
    "### Prompt #01"
   ]
  },
  {
   "cell_type": "code",
   "execution_count": 71,
   "id": "e45c7b50",
   "metadata": {
    "execution": {
     "iopub.execute_input": "2023-08-06T10:14:28.926168Z",
     "iopub.status.busy": "2023-08-06T10:14:28.925063Z",
     "iopub.status.idle": "2023-08-06T10:14:30.939018Z",
     "shell.execute_reply": "2023-08-06T10:14:30.937637Z"
    },
    "id": "VO6R1TQ6x0b0",
    "outputId": "e925a20a-ee8c-4e86-ef03-bedd7adc01d5",
    "papermill": {
     "duration": 2.536343,
     "end_time": "2023-08-06T10:14:30.941441",
     "exception": false,
     "start_time": "2023-08-06T10:14:28.405098",
     "status": "completed"
    },
    "tags": []
   },
   "outputs": [
    {
     "name": "stderr",
     "output_type": "stream",
     "text": [
      "/opt/conda/lib/python3.10/site-packages/transformers/generation/utils.py:1353: UserWarning: Using `max_length`'s default (20) to control the generation length. This behaviour is deprecated and will be removed from the config in v5 of Transformers -- we recommend using `max_new_tokens` to control the maximum length of the generation.\n",
      "  warnings.warn(\n"
     ]
    },
    {
     "name": "stdout",
     "output_type": "stream",
     "text": [
      "Review: پودر قهوه دارای کیفیت مطلوب نبود وعطر و بوی در فضا پخش نمی شد\n",
      "Model Response: negative\n",
      "Actual Label: NEGATIVE\n",
      "---------------------------------------------------------------------\n",
      "Review: از این برند انتظار بیشتری داشتم خیلی خشک و بی مزه بود\n",
      "Model Response: negative\n",
      "Actual Label: NEGATIVE\n",
      "---------------------------------------------------------------------\n",
      "Review: تعداد شیر های پرچرب کمتر از کم چرب بود ۴ تا کم چرب بود و ۲ تا پر چرب\n",
      "Model Response: negative\n",
      "Actual Label: NEUTRAL\n",
      "---------------------------------------------------------------------\n",
      "Review: دفعه های قبل که سفارش دادم بو میداد ولی ایندفعه تازه بود و بوی بد هم نمیداد\n",
      "Model Response: negative\n",
      "Actual Label: POSITIVE\n",
      "---------------------------------------------------------------------\n",
      "Review: به نظرم خیلی خوشمزه بود طعم شکلات با قهوه عالی میشه\n",
      "Model Response: very positive\n",
      "Actual Label: POSITIVE\n",
      "---------------------------------------------------------------------\n",
      "Review: از نظر کیفیت خوبه ولی از نظر قیمت فقط تو پیشنهاد ویژه خوبه\n",
      "Model Response: positive\n",
      "Actual Label: OTHER\n",
      "---------------------------------------------------------------------\n"
     ]
    }
   ],
   "source": [
    "for index, row in sample_prompts.iterrows():\n",
    "    retries = 0\n",
    "    while retries < max_retries:\n",
    "        try:\n",
    "            response = run_model(context=context_01 + \"Examples:\\n\" + examples, query=query_01.replace(\"SAMPLE_REVIEW\", row['review']))\n",
    "            print(f\"Review: {row['review']}\")\n",
    "            print(f\"Model Response: {' '.join(response)}\")\n",
    "            print(f\"Actual Label: {label_dict[row['sentiment']]}\")\n",
    "            print(\"---------------------------------------------------------------------\")\n",
    "            break\n",
    "        except Exception as e:\n",
    "            print(f\"An error occurred: {str(e)}\")\n",
    "            retries += 1\n",
    "            print(f\"Retrying ({retries}/{max_retries})...\")\n",
    "            time.sleep(5)\n",
    "\n",
    "    if retries == max_retries:\n",
    "        print(f\"Failed to process this review after {max_retries} retries. Skipping to the next review.\")\n"
   ]
  },
  {
   "cell_type": "markdown",
   "id": "3d386871",
   "metadata": {
    "id": "A2iIqlChwuat",
    "papermill": {
     "duration": 0.513869,
     "end_time": "2023-08-06T10:14:32.036961",
     "exception": false,
     "start_time": "2023-08-06T10:14:31.523092",
     "status": "completed"
    },
    "tags": []
   },
   "source": [
    "### Prompt #02"
   ]
  },
  {
   "cell_type": "code",
   "execution_count": 72,
   "id": "62e6c0bf",
   "metadata": {
    "execution": {
     "iopub.execute_input": "2023-08-06T10:14:33.053104Z",
     "iopub.status.busy": "2023-08-06T10:14:33.052636Z",
     "iopub.status.idle": "2023-08-06T10:14:35.096114Z",
     "shell.execute_reply": "2023-08-06T10:14:35.094893Z"
    },
    "id": "kqJGrZ8czTKu",
    "outputId": "cc5b4530-63d7-41b9-954c-fe7c9e5487c0",
    "papermill": {
     "duration": 2.555959,
     "end_time": "2023-08-06T10:14:35.099483",
     "exception": false,
     "start_time": "2023-08-06T10:14:32.543524",
     "status": "completed"
    },
    "tags": []
   },
   "outputs": [
    {
     "name": "stdout",
     "output_type": "stream",
     "text": [
      "Review: پودر قهوه دارای کیفیت مطلوب نبود وعطر و بوی در فضا پخش نمی شد\n",
      "Model Response: positive\n",
      "Actual Label: NEGATIVE\n",
      "---------------------------------------------------------------------\n",
      "Review: از این برند انتظار بیشتری داشتم خیلی خشک و بی مزه بود\n",
      "Model Response: very negative\n",
      "Actual Label: NEGATIVE\n",
      "---------------------------------------------------------------------\n",
      "Review: تعداد شیر های پرچرب کمتر از کم چرب بود ۴ تا کم چرب بود و ۲ تا پر چرب\n",
      "Model Response: negative\n",
      "Actual Label: NEUTRAL\n",
      "---------------------------------------------------------------------\n",
      "Review: دفعه های قبل که سفارش دادم بو میداد ولی ایندفعه تازه بود و بوی بد هم نمیداد\n",
      "Model Response: negative\n",
      "Actual Label: POSITIVE\n",
      "---------------------------------------------------------------------\n",
      "Review: به نظرم خیلی خوشمزه بود طعم شکلات با قهوه عالی میشه\n",
      "Model Response: very positive\n",
      "Actual Label: POSITIVE\n",
      "---------------------------------------------------------------------\n",
      "Review: از نظر کیفیت خوبه ولی از نظر قیمت فقط تو پیشنهاد ویژه خوبه\n",
      "Model Response: positive\n",
      "Actual Label: OTHER\n",
      "---------------------------------------------------------------------\n"
     ]
    }
   ],
   "source": [
    "for index, row in sample_prompts.iterrows():\n",
    "    retries = 0\n",
    "    while retries < max_retries:\n",
    "        try:\n",
    "            response = run_model(context=context_02 + \"Examples:\\n\" + examples, query=query_02.replace(\"SAMPLE_REVIEW\", row['review']))\n",
    "            print(f\"Review: {row['review']}\")\n",
    "            print(f\"Model Response: {' '.join(response)}\")\n",
    "            print(f\"Actual Label: {label_dict[row['sentiment']]}\")\n",
    "            print(\"---------------------------------------------------------------------\")\n",
    "            break\n",
    "        except Exception as e:\n",
    "            print(f\"An error occurred: {str(e)}\")\n",
    "            retries += 1\n",
    "            print(f\"Retrying ({retries}/{max_retries})...\")\n",
    "            time.sleep(5)\n",
    "\n",
    "    if retries == max_retries:\n",
    "        print(f\"Failed to process this review after {max_retries} retries. Skipping to the next review.\")\n"
   ]
  },
  {
   "cell_type": "markdown",
   "id": "51b35dc2",
   "metadata": {
    "id": "SBWw3CIIwtxw",
    "papermill": {
     "duration": 0.579475,
     "end_time": "2023-08-06T10:14:36.185892",
     "exception": false,
     "start_time": "2023-08-06T10:14:35.606417",
     "status": "completed"
    },
    "tags": []
   },
   "source": [
    "### Prompt #03"
   ]
  },
  {
   "cell_type": "code",
   "execution_count": 73,
   "id": "01ecffe5",
   "metadata": {
    "execution": {
     "iopub.execute_input": "2023-08-06T10:14:37.205234Z",
     "iopub.status.busy": "2023-08-06T10:14:37.204833Z",
     "iopub.status.idle": "2023-08-06T10:14:39.308976Z",
     "shell.execute_reply": "2023-08-06T10:14:39.307436Z"
    },
    "id": "kkc7My1B0iSC",
    "outputId": "68ea317f-bf18-4bff-c3fb-e2f6558b285b",
    "papermill": {
     "duration": 2.616204,
     "end_time": "2023-08-06T10:14:39.311958",
     "exception": false,
     "start_time": "2023-08-06T10:14:36.695754",
     "status": "completed"
    },
    "tags": []
   },
   "outputs": [
    {
     "name": "stdout",
     "output_type": "stream",
     "text": [
      "Review: پودر قهوه دارای کیفیت مطلوب نبود وعطر و بوی در فضا پخش نمی شد\n",
      "Model Response: positive\n",
      "Actual Label: NEGATIVE\n",
      "---------------------------------------------------------------------\n",
      "Review: از این برند انتظار بیشتری داشتم خیلی خشک و بی مزه بود\n",
      "Model Response: very negative\n",
      "Actual Label: NEGATIVE\n",
      "---------------------------------------------------------------------\n",
      "Review: تعداد شیر های پرچرب کمتر از کم چرب بود ۴ تا کم چرب بود و ۲ تا پر چرب\n",
      "Model Response: negative\n",
      "Actual Label: NEUTRAL\n",
      "---------------------------------------------------------------------\n",
      "Review: دفعه های قبل که سفارش دادم بو میداد ولی ایندفعه تازه بود و بوی بد هم نمیداد\n",
      "Model Response: negative\n",
      "Actual Label: POSITIVE\n",
      "---------------------------------------------------------------------\n",
      "Review: به نظرم خیلی خوشمزه بود طعم شکلات با قهوه عالی میشه\n",
      "Model Response: very positive\n",
      "Actual Label: POSITIVE\n",
      "---------------------------------------------------------------------\n",
      "Review: از نظر کیفیت خوبه ولی از نظر قیمت فقط تو پیشنهاد ویژه خوبه\n",
      "Model Response: positive\n",
      "Actual Label: OTHER\n",
      "---------------------------------------------------------------------\n"
     ]
    }
   ],
   "source": [
    "for index, row in sample_prompts.iterrows():\n",
    "    retries = 0\n",
    "    while retries < max_retries:\n",
    "        try:\n",
    "            response = run_model(context=context_03 + \"Examples:\\n\" + examples, query=query_03.replace(\"SAMPLE_REVIEW\", row['review']))\n",
    "            print(f\"Review: {row['review']}\")\n",
    "            print(f\"Model Response: {' '.join(response)}\")\n",
    "            print(f\"Actual Label: {label_dict[row['sentiment']]}\")\n",
    "            print(\"---------------------------------------------------------------------\")\n",
    "            break\n",
    "        except Exception as e:\n",
    "            print(f\"An error occurred: {str(e)}\")\n",
    "            retries += 1\n",
    "            print(f\"Retrying ({retries}/{max_retries})...\")\n",
    "            time.sleep(5)\n",
    "\n",
    "    if retries == max_retries:\n",
    "        print(f\"Failed to process this review after {max_retries} retries. Skipping to the next review.\")\n"
   ]
  },
  {
   "cell_type": "markdown",
   "id": "0a1a092c",
   "metadata": {
    "id": "LDQVTzMkwuI1",
    "papermill": {
     "duration": 0.509415,
     "end_time": "2023-08-06T10:14:40.333131",
     "exception": false,
     "start_time": "2023-08-06T10:14:39.823716",
     "status": "completed"
    },
    "tags": []
   },
   "source": [
    "### Prompt #04"
   ]
  },
  {
   "cell_type": "code",
   "execution_count": 74,
   "id": "ed3591b7",
   "metadata": {
    "execution": {
     "iopub.execute_input": "2023-08-06T10:14:41.432722Z",
     "iopub.status.busy": "2023-08-06T10:14:41.432037Z",
     "iopub.status.idle": "2023-08-06T10:14:43.726262Z",
     "shell.execute_reply": "2023-08-06T10:14:43.724815Z"
    },
    "id": "vGgsvlCh05-A",
    "outputId": "1c61c832-1e71-465e-a929-70b34245a3df",
    "papermill": {
     "duration": 2.881464,
     "end_time": "2023-08-06T10:14:43.728912",
     "exception": false,
     "start_time": "2023-08-06T10:14:40.847448",
     "status": "completed"
    },
    "tags": []
   },
   "outputs": [
    {
     "name": "stdout",
     "output_type": "stream",
     "text": [
      "Review: پودر قهوه دارای کیفیت مطلوب نبود وعطر و بوی در فضا پخش نمی شد\n",
      "Model Response: no sentiment expressed\n",
      "Actual Label: NEGATIVE\n",
      "---------------------------------------------------------------------\n",
      "Review: از این برند انتظار بیشتری داشتم خیلی خشک و بی مزه بود\n",
      "Model Response: no sentiment expressed\n",
      "Actual Label: NEGATIVE\n",
      "---------------------------------------------------------------------\n",
      "Review: تعداد شیر های پرچرب کمتر از کم چرب بود ۴ تا کم چرب بود و ۲ تا پر چرب\n",
      "Model Response: no sentiment expressed\n",
      "Actual Label: NEUTRAL\n",
      "---------------------------------------------------------------------\n",
      "Review: دفعه های قبل که سفارش دادم بو میداد ولی ایندفعه تازه بود و بوی بد هم نمیداد\n",
      "Model Response: no sentiment expressed\n",
      "Actual Label: POSITIVE\n",
      "---------------------------------------------------------------------\n",
      "Review: به نظرم خیلی خوشمزه بود طعم شکلات با قهوه عالی میشه\n",
      "Model Response: negative\n",
      "Actual Label: POSITIVE\n",
      "---------------------------------------------------------------------\n",
      "Review: از نظر کیفیت خوبه ولی از نظر قیمت فقط تو پیشنهاد ویژه خوبه\n",
      "Model Response: positive\n",
      "Actual Label: OTHER\n",
      "---------------------------------------------------------------------\n"
     ]
    }
   ],
   "source": [
    "for index, row in sample_prompts.iterrows():\n",
    "    retries = 0\n",
    "    while retries < max_retries:\n",
    "        try:\n",
    "            response = run_model(context=context_04 + \"Examples:\\n\" + examples_persian, query=query_04.replace(\"SAMPLE_REVIEW\", row['review']))\n",
    "            print(f\"Review: {row['review']}\")\n",
    "            print(f\"Model Response: {' '.join(response)}\")\n",
    "            print(f\"Actual Label: {label_dict[row['sentiment']]}\")\n",
    "            print(\"---------------------------------------------------------------------\")\n",
    "            break\n",
    "        except Exception as e:\n",
    "            print(f\"An error occurred: {str(e)}\")\n",
    "            retries += 1\n",
    "            print(f\"Retrying ({retries}/{max_retries})...\")\n",
    "            time.sleep(5)\n",
    "\n",
    "    if retries == max_retries:\n",
    "        print(f\"Failed to process this review after {max_retries} retries. Skipping to the next review.\")\n"
   ]
  },
  {
   "cell_type": "markdown",
   "id": "bda6454e",
   "metadata": {
    "id": "L-Gw-o9Bw1gV",
    "papermill": {
     "duration": 0.507704,
     "end_time": "2023-08-06T10:14:44.749031",
     "exception": false,
     "start_time": "2023-08-06T10:14:44.241327",
     "status": "completed"
    },
    "tags": []
   },
   "source": [
    "### Prompt #05\n"
   ]
  },
  {
   "cell_type": "code",
   "execution_count": 75,
   "id": "3ac36e1e",
   "metadata": {
    "execution": {
     "iopub.execute_input": "2023-08-06T10:14:45.770636Z",
     "iopub.status.busy": "2023-08-06T10:14:45.770216Z",
     "iopub.status.idle": "2023-08-06T10:14:46.943863Z",
     "shell.execute_reply": "2023-08-06T10:14:46.942782Z"
    },
    "id": "SX7WkQzq1JRG",
    "outputId": "170c9af5-adc5-470f-e6c8-bb15206587d5",
    "papermill": {
     "duration": 1.686691,
     "end_time": "2023-08-06T10:14:46.946391",
     "exception": false,
     "start_time": "2023-08-06T10:14:45.259700",
     "status": "completed"
    },
    "tags": []
   },
   "outputs": [
    {
     "name": "stdout",
     "output_type": "stream",
     "text": [
      "Review: پودر قهوه دارای کیفیت مطلوب نبود وعطر و بوی در فضا پخش نمی شد\n",
      "Model Response: negative\n",
      "Actual Label: NEGATIVE\n",
      "---------------------------------------------------------------------\n",
      "Review: از این برند انتظار بیشتری داشتم خیلی خشک و بی مزه بود\n",
      "Model Response: very negative\n",
      "Actual Label: NEGATIVE\n",
      "---------------------------------------------------------------------\n",
      "Review: تعداد شیر های پرچرب کمتر از کم چرب بود ۴ تا کم چرب بود و ۲ تا پر چرب\n",
      "Model Response: negative\n",
      "Actual Label: NEUTRAL\n",
      "---------------------------------------------------------------------\n",
      "Review: دفعه های قبل که سفارش دادم بو میداد ولی ایندفعه تازه بود و بوی بد هم نمیداد\n",
      "Model Response: negative\n",
      "Actual Label: POSITIVE\n",
      "---------------------------------------------------------------------\n",
      "Review: به نظرم خیلی خوشمزه بود طعم شکلات با قهوه عالی میشه\n",
      "Model Response: very positive\n",
      "Actual Label: POSITIVE\n",
      "---------------------------------------------------------------------\n",
      "Review: از نظر کیفیت خوبه ولی از نظر قیمت فقط تو پیشنهاد ویژه خوبه\n",
      "Model Response: mixed\n",
      "Actual Label: OTHER\n",
      "---------------------------------------------------------------------\n"
     ]
    }
   ],
   "source": [
    "for index, row in sample_prompts.iterrows():\n",
    "    retries = 0\n",
    "    while retries < max_retries:\n",
    "        try:\n",
    "            response = run_model(context=row['review'], query=query_05)\n",
    "            print(f\"Review: {row['review']}\")\n",
    "            print(f\"Model Response: {' '.join(response)}\")\n",
    "            print(f\"Actual Label: {label_dict[row['sentiment']]}\")\n",
    "            print(\"---------------------------------------------------------------------\")\n",
    "            break\n",
    "        except Exception as e:\n",
    "            print(f\"An error occurred: {str(e)}\")\n",
    "            retries += 1\n",
    "            print(f\"Retrying ({retries}/{max_retries})...\")\n",
    "            time.sleep(5)\n",
    "\n",
    "    if retries == max_retries:\n",
    "        print(f\"Failed to process this review after {max_retries} retries. Skipping to the next review.\")\n"
   ]
  },
  {
   "cell_type": "markdown",
   "id": "51d08d27",
   "metadata": {
    "id": "vizhti9r4vey",
    "papermill": {
     "duration": 0.579315,
     "end_time": "2023-08-06T10:14:48.040148",
     "exception": false,
     "start_time": "2023-08-06T10:14:47.460833",
     "status": "completed"
    },
    "tags": []
   },
   "source": [
    "## Few-Shot Metric"
   ]
  },
  {
   "cell_type": "markdown",
   "id": "aec5d97a",
   "metadata": {
    "id": "D623s1zD41_C",
    "papermill": {
     "duration": 0.528808,
     "end_time": "2023-08-06T10:14:49.081118",
     "exception": false,
     "start_time": "2023-08-06T10:14:48.552310",
     "status": "completed"
    },
    "tags": []
   },
   "source": [
    "### Prompt #01"
   ]
  },
  {
   "cell_type": "code",
   "execution_count": 76,
   "id": "01af6560",
   "metadata": {
    "execution": {
     "iopub.execute_input": "2023-08-06T10:14:50.105314Z",
     "iopub.status.busy": "2023-08-06T10:14:50.104432Z",
     "iopub.status.idle": "2023-08-06T10:17:41.770506Z",
     "shell.execute_reply": "2023-08-06T10:17:41.769048Z"
    },
    "id": "khSPLZKT49De",
    "outputId": "78bf7ff0-bcc2-4857-a33f-6be8fd92035c",
    "papermill": {
     "duration": 172.179855,
     "end_time": "2023-08-06T10:17:41.772971",
     "exception": false,
     "start_time": "2023-08-06T10:14:49.593116",
     "status": "completed"
    },
    "tags": []
   },
   "outputs": [
    {
     "name": "stdout",
     "output_type": "stream",
     "text": [
      "|████████████████████████████████████████| 500/500 [100%] in 2:51.6 (2.91/s)    \n"
     ]
    }
   ],
   "source": [
    "few_01_actual = []\n",
    "few_01_predicted = []\n",
    "few_01_responses = []\n",
    "\n",
    "with alive_bar(test_count, force_tty=True) as bar:\n",
    "    for index, row in test_df.iterrows():\n",
    "        retries = 0\n",
    "        while retries < max_retries:\n",
    "            try:\n",
    "                response = run_model(context=context_01 + \"Examples:\\n\" + examples, query=query_01.replace(\"SAMPLE_REVIEW\", row['review']))\n",
    "                response = \" \".join(response)\n",
    "                few_01_actual.append(label_dict[row['sentiment']])\n",
    "                few_01_responses.append(response)\n",
    "                \n",
    "                flag = False\n",
    "                response = response.upper()\n",
    "                for label in acceptable_classes:\n",
    "                    if label in response:\n",
    "                        few_01_predicted.append(label)\n",
    "                        flag = True\n",
    "                        break\n",
    "\n",
    "                if not flag:\n",
    "                    if \"NO SENTIMENT EXPRESSED\" in response:\n",
    "                        few_01_predicted.append('NEUTRAL')\n",
    "                    else:\n",
    "                        few_01_predicted.append('OTHER')\n",
    "\n",
    "                break\n",
    "\n",
    "            except Exception as e:\n",
    "                print(f\"An error occurred: {str(e)}\")\n",
    "                retries += 1\n",
    "                print(f\"Retrying ({retries}/{max_retries})...\")\n",
    "\n",
    "        if retries == max_retries:\n",
    "            print(f\"Failed to process review after {max_retries} retries. Skipping to the next entry.\")\n",
    "\n",
    "        bar()\n"
   ]
  },
  {
   "cell_type": "code",
   "execution_count": 77,
   "id": "927886e3",
   "metadata": {
    "execution": {
     "iopub.execute_input": "2023-08-06T10:17:43.027902Z",
     "iopub.status.busy": "2023-08-06T10:17:43.027478Z",
     "iopub.status.idle": "2023-08-06T10:17:43.128036Z",
     "shell.execute_reply": "2023-08-06T10:17:43.127136Z"
    },
    "id": "TetTPc096KRA",
    "outputId": "f5c36eb7-73eb-4ad7-cd92-fc065b71681b",
    "papermill": {
     "duration": 0.729325,
     "end_time": "2023-08-06T10:17:43.130213",
     "exception": false,
     "start_time": "2023-08-06T10:17:42.400888",
     "status": "completed"
    },
    "tags": []
   },
   "outputs": [
    {
     "data": {
      "text/html": [
       "<div>\n",
       "<style scoped>\n",
       "    .dataframe tbody tr th:only-of-type {\n",
       "        vertical-align: middle;\n",
       "    }\n",
       "\n",
       "    .dataframe tbody tr th {\n",
       "        vertical-align: top;\n",
       "    }\n",
       "\n",
       "    .dataframe thead th {\n",
       "        text-align: right;\n",
       "    }\n",
       "</style>\n",
       "<table border=\"1\" class=\"dataframe\">\n",
       "  <thead>\n",
       "    <tr style=\"text-align: right;\">\n",
       "      <th></th>\n",
       "      <th>OTHER</th>\n",
       "      <th>NEGATIVE</th>\n",
       "      <th>POSITIVE</th>\n",
       "      <th>NEUTRAL</th>\n",
       "      <th>All Classes</th>\n",
       "    </tr>\n",
       "  </thead>\n",
       "  <tbody>\n",
       "    <tr>\n",
       "      <th>Accuracy</th>\n",
       "      <td>-</td>\n",
       "      <td>-</td>\n",
       "      <td>-</td>\n",
       "      <td>-</td>\n",
       "      <td>0.588</td>\n",
       "    </tr>\n",
       "    <tr>\n",
       "      <th>F1 Score</th>\n",
       "      <td>[0.0]</td>\n",
       "      <td>[0.6678966789667897]</td>\n",
       "      <td>[0.5920000000000001]</td>\n",
       "      <td>[0.14814814814814814]</td>\n",
       "      <td>0.551487</td>\n",
       "    </tr>\n",
       "    <tr>\n",
       "      <th>Precision</th>\n",
       "      <td>[0.0]</td>\n",
       "      <td>[0.5370919881305638]</td>\n",
       "      <td>[0.7816901408450704]</td>\n",
       "      <td>[0.09523809523809523]</td>\n",
       "      <td>0.585618</td>\n",
       "    </tr>\n",
       "    <tr>\n",
       "      <th>Recall</th>\n",
       "      <td>[0.0]</td>\n",
       "      <td>[0.8829268292682927]</td>\n",
       "      <td>[0.47639484978540775]</td>\n",
       "      <td>[0.3333333333333333]</td>\n",
       "      <td>0.588</td>\n",
       "    </tr>\n",
       "  </tbody>\n",
       "</table>\n",
       "</div>"
      ],
      "text/plain": [
       "           OTHER              NEGATIVE               POSITIVE  \\\n",
       "Accuracy       -                     -                      -   \n",
       "F1 Score   [0.0]  [0.6678966789667897]   [0.5920000000000001]   \n",
       "Precision  [0.0]  [0.5370919881305638]   [0.7816901408450704]   \n",
       "Recall     [0.0]  [0.8829268292682927]  [0.47639484978540775]   \n",
       "\n",
       "                         NEUTRAL All Classes  \n",
       "Accuracy                       -       0.588  \n",
       "F1 Score   [0.14814814814814814]    0.551487  \n",
       "Precision  [0.09523809523809523]    0.585618  \n",
       "Recall      [0.3333333333333333]       0.588  "
      ]
     },
     "execution_count": 77,
     "metadata": {},
     "output_type": "execute_result"
    }
   ],
   "source": [
    "few_01_results = calculate_metrics(few_01_actual, few_01_predicted)\n",
    "few_01_results "
   ]
  },
  {
   "cell_type": "code",
   "execution_count": 78,
   "id": "794be3f8",
   "metadata": {
    "execution": {
     "iopub.execute_input": "2023-08-06T10:17:44.463551Z",
     "iopub.status.busy": "2023-08-06T10:17:44.463170Z",
     "iopub.status.idle": "2023-08-06T10:17:44.468822Z",
     "shell.execute_reply": "2023-08-06T10:17:44.467743Z"
    },
    "papermill": {
     "duration": 0.711117,
     "end_time": "2023-08-06T10:17:44.471161",
     "exception": false,
     "start_time": "2023-08-06T10:17:43.760044",
     "status": "completed"
    },
    "tags": []
   },
   "outputs": [],
   "source": [
    "np.save('few_01_actual', few_01_actual)"
   ]
  },
  {
   "cell_type": "code",
   "execution_count": 79,
   "id": "5786e0fb",
   "metadata": {
    "execution": {
     "iopub.execute_input": "2023-08-06T10:17:45.724976Z",
     "iopub.status.busy": "2023-08-06T10:17:45.724551Z",
     "iopub.status.idle": "2023-08-06T10:17:45.730472Z",
     "shell.execute_reply": "2023-08-06T10:17:45.729517Z"
    },
    "papermill": {
     "duration": 0.637657,
     "end_time": "2023-08-06T10:17:45.733052",
     "exception": false,
     "start_time": "2023-08-06T10:17:45.095395",
     "status": "completed"
    },
    "tags": []
   },
   "outputs": [],
   "source": [
    "np.save('few_01_predicted', few_01_predicted)"
   ]
  },
  {
   "cell_type": "code",
   "execution_count": 80,
   "id": "2d39eb0a",
   "metadata": {
    "execution": {
     "iopub.execute_input": "2023-08-06T10:17:47.063362Z",
     "iopub.status.busy": "2023-08-06T10:17:47.062579Z",
     "iopub.status.idle": "2023-08-06T10:17:47.068884Z",
     "shell.execute_reply": "2023-08-06T10:17:47.067075Z"
    },
    "papermill": {
     "duration": 0.634196,
     "end_time": "2023-08-06T10:17:47.071700",
     "exception": false,
     "start_time": "2023-08-06T10:17:46.437504",
     "status": "completed"
    },
    "tags": []
   },
   "outputs": [],
   "source": [
    "np.save('few_01_responses', few_01_responses)"
   ]
  },
  {
   "cell_type": "code",
   "execution_count": 81,
   "id": "7ea80174",
   "metadata": {
    "execution": {
     "iopub.execute_input": "2023-08-06T10:17:48.323875Z",
     "iopub.status.busy": "2023-08-06T10:17:48.323131Z",
     "iopub.status.idle": "2023-08-06T10:17:48.330147Z",
     "shell.execute_reply": "2023-08-06T10:17:48.329252Z"
    },
    "papermill": {
     "duration": 0.633496,
     "end_time": "2023-08-06T10:17:48.332519",
     "exception": false,
     "start_time": "2023-08-06T10:17:47.699023",
     "status": "completed"
    },
    "tags": []
   },
   "outputs": [],
   "source": [
    "few_01_results.to_csv('few_01_results.csv',index=True)"
   ]
  },
  {
   "cell_type": "markdown",
   "id": "7e63788d",
   "metadata": {
    "id": "7hFCmUoM431X",
    "papermill": {
     "duration": 0.708295,
     "end_time": "2023-08-06T10:17:49.684272",
     "exception": false,
     "start_time": "2023-08-06T10:17:48.975977",
     "status": "completed"
    },
    "tags": []
   },
   "source": [
    "### Prompt #02"
   ]
  },
  {
   "cell_type": "code",
   "execution_count": 82,
   "id": "80007ec5",
   "metadata": {
    "execution": {
     "iopub.execute_input": "2023-08-06T10:17:50.937469Z",
     "iopub.status.busy": "2023-08-06T10:17:50.937031Z",
     "iopub.status.idle": "2023-08-06T10:20:49.256698Z",
     "shell.execute_reply": "2023-08-06T10:20:49.254447Z"
    },
    "id": "w2nOQDM_6M4W",
    "outputId": "da37b592-2556-48f9-b677-1ee2801ae998",
    "papermill": {
     "duration": 178.950509,
     "end_time": "2023-08-06T10:20:49.259342",
     "exception": false,
     "start_time": "2023-08-06T10:17:50.308833",
     "status": "completed"
    },
    "tags": []
   },
   "outputs": [
    {
     "name": "stdout",
     "output_type": "stream",
     "text": [
      "                                                                                \r"
     ]
    },
    {
     "name": "stderr",
     "output_type": "stream",
     "text": [
      "on 0: /opt/conda/lib/python3.10/site-packages/transformers/generation/utils.py:1353: UserWarning: Using `max_length`'s default (20) to control the generation length. This behaviour is deprecated and will be removed from the config in v5 of Transformers -- we recommend using `max_new_tokens` to control the maximum length of the generation.\n",
      "        warnings.warn(\n"
     ]
    },
    {
     "name": "stdout",
     "output_type": "stream",
     "text": [
      "|████████████████████████████████████████| 500/500 [100%] in 2:58.3 (2.80/s)    \n"
     ]
    }
   ],
   "source": [
    "few_02_actual = []\n",
    "few_02_predicted = []\n",
    "few_02_responses = []\n",
    "\n",
    "with alive_bar(test_count, force_tty=True) as bar:\n",
    "    for index, row in test_df.iterrows():\n",
    "        retries = 0\n",
    "        while retries < max_retries:\n",
    "            try:\n",
    "                response = run_model(context=context_02 + \"Examples:\\n\" + examples, query=query_02.replace(\"SAMPLE_REVIEW\", row['review']))\n",
    "                response = \" \".join(response)\n",
    "                few_02_actual.append(label_dict[row['sentiment']])\n",
    "                few_02_responses.append(response)\n",
    "                \n",
    "                flag = False\n",
    "                response = response.upper()\n",
    "                for label in acceptable_classes:\n",
    "                    if label in response:\n",
    "                        few_02_predicted.append(label)\n",
    "                        flag = True\n",
    "                        break\n",
    "\n",
    "                if not flag:\n",
    "                    if \"NO SENTIMENT EXPRESSED\" in response:\n",
    "                        few_02_predicted.append('NEUTRAL')\n",
    "                    else:\n",
    "                        few_02_predicted.append('OTHER')\n",
    "\n",
    "                break\n",
    "\n",
    "            except Exception as e:\n",
    "                print(f\"An error occurred: {str(e)}\")\n",
    "                retries += 1\n",
    "                print(f\"Retrying ({retries}/{max_retries})...\")\n",
    "\n",
    "        if retries == max_retries:\n",
    "            print(f\"Failed to process review after {max_retries} retries. Skipping to the next entry.\")\n",
    "\n",
    "        bar()\n"
   ]
  },
  {
   "cell_type": "code",
   "execution_count": 83,
   "id": "491236f4",
   "metadata": {
    "execution": {
     "iopub.execute_input": "2023-08-06T10:20:50.835274Z",
     "iopub.status.busy": "2023-08-06T10:20:50.834892Z",
     "iopub.status.idle": "2023-08-06T10:20:50.931038Z",
     "shell.execute_reply": "2023-08-06T10:20:50.930178Z"
    },
    "id": "5E1YxC0M6Mx6",
    "outputId": "98cba8dc-d8c1-47a9-e8a0-6e5ebe6904f8",
    "papermill": {
     "duration": 0.920777,
     "end_time": "2023-08-06T10:20:50.933205",
     "exception": false,
     "start_time": "2023-08-06T10:20:50.012428",
     "status": "completed"
    },
    "tags": []
   },
   "outputs": [
    {
     "data": {
      "text/html": [
       "<div>\n",
       "<style scoped>\n",
       "    .dataframe tbody tr th:only-of-type {\n",
       "        vertical-align: middle;\n",
       "    }\n",
       "\n",
       "    .dataframe tbody tr th {\n",
       "        vertical-align: top;\n",
       "    }\n",
       "\n",
       "    .dataframe thead th {\n",
       "        text-align: right;\n",
       "    }\n",
       "</style>\n",
       "<table border=\"1\" class=\"dataframe\">\n",
       "  <thead>\n",
       "    <tr style=\"text-align: right;\">\n",
       "      <th></th>\n",
       "      <th>OTHER</th>\n",
       "      <th>NEGATIVE</th>\n",
       "      <th>POSITIVE</th>\n",
       "      <th>NEUTRAL</th>\n",
       "      <th>All Classes</th>\n",
       "    </tr>\n",
       "  </thead>\n",
       "  <tbody>\n",
       "    <tr>\n",
       "      <th>Accuracy</th>\n",
       "      <td>-</td>\n",
       "      <td>-</td>\n",
       "      <td>-</td>\n",
       "      <td>-</td>\n",
       "      <td>0.61</td>\n",
       "    </tr>\n",
       "    <tr>\n",
       "      <th>F1 Score</th>\n",
       "      <td>[0.0]</td>\n",
       "      <td>[0.6854990583804143]</td>\n",
       "      <td>[0.6318537859007832]</td>\n",
       "      <td>[0.13333333333333333]</td>\n",
       "      <td>0.577098</td>\n",
       "    </tr>\n",
       "    <tr>\n",
       "      <th>Precision</th>\n",
       "      <td>[0.0]</td>\n",
       "      <td>[0.558282208588957]</td>\n",
       "      <td>[0.8066666666666666]</td>\n",
       "      <td>[0.08333333333333333]</td>\n",
       "      <td>0.605802</td>\n",
       "    </tr>\n",
       "    <tr>\n",
       "      <th>Recall</th>\n",
       "      <td>[0.0]</td>\n",
       "      <td>[0.8878048780487805]</td>\n",
       "      <td>[0.51931330472103]</td>\n",
       "      <td>[0.3333333333333333]</td>\n",
       "      <td>0.61</td>\n",
       "    </tr>\n",
       "  </tbody>\n",
       "</table>\n",
       "</div>"
      ],
      "text/plain": [
       "           OTHER              NEGATIVE              POSITIVE  \\\n",
       "Accuracy       -                     -                     -   \n",
       "F1 Score   [0.0]  [0.6854990583804143]  [0.6318537859007832]   \n",
       "Precision  [0.0]   [0.558282208588957]  [0.8066666666666666]   \n",
       "Recall     [0.0]  [0.8878048780487805]    [0.51931330472103]   \n",
       "\n",
       "                         NEUTRAL All Classes  \n",
       "Accuracy                       -        0.61  \n",
       "F1 Score   [0.13333333333333333]    0.577098  \n",
       "Precision  [0.08333333333333333]    0.605802  \n",
       "Recall      [0.3333333333333333]        0.61  "
      ]
     },
     "execution_count": 83,
     "metadata": {},
     "output_type": "execute_result"
    }
   ],
   "source": [
    "few_02_results = calculate_metrics(few_02_actual, few_02_predicted)\n",
    "few_02_results"
   ]
  },
  {
   "cell_type": "code",
   "execution_count": 84,
   "id": "2bd071e6",
   "metadata": {
    "execution": {
     "iopub.execute_input": "2023-08-06T10:20:52.430893Z",
     "iopub.status.busy": "2023-08-06T10:20:52.430470Z",
     "iopub.status.idle": "2023-08-06T10:20:52.435615Z",
     "shell.execute_reply": "2023-08-06T10:20:52.434699Z"
    },
    "papermill": {
     "duration": 0.757295,
     "end_time": "2023-08-06T10:20:52.438028",
     "exception": false,
     "start_time": "2023-08-06T10:20:51.680733",
     "status": "completed"
    },
    "tags": []
   },
   "outputs": [],
   "source": [
    "np.save('few_02_actual', few_02_actual)"
   ]
  },
  {
   "cell_type": "code",
   "execution_count": 85,
   "id": "26e54583",
   "metadata": {
    "execution": {
     "iopub.execute_input": "2023-08-06T10:20:54.014424Z",
     "iopub.status.busy": "2023-08-06T10:20:54.014033Z",
     "iopub.status.idle": "2023-08-06T10:20:54.019732Z",
     "shell.execute_reply": "2023-08-06T10:20:54.018757Z"
    },
    "papermill": {
     "duration": 0.760104,
     "end_time": "2023-08-06T10:20:54.022314",
     "exception": false,
     "start_time": "2023-08-06T10:20:53.262210",
     "status": "completed"
    },
    "tags": []
   },
   "outputs": [],
   "source": [
    "np.save('few_02_predicted', few_02_predicted)"
   ]
  },
  {
   "cell_type": "code",
   "execution_count": 86,
   "id": "47cb240d",
   "metadata": {
    "execution": {
     "iopub.execute_input": "2023-08-06T10:20:55.585804Z",
     "iopub.status.busy": "2023-08-06T10:20:55.585277Z",
     "iopub.status.idle": "2023-08-06T10:20:55.591476Z",
     "shell.execute_reply": "2023-08-06T10:20:55.590717Z"
    },
    "papermill": {
     "duration": 0.825519,
     "end_time": "2023-08-06T10:20:55.593474",
     "exception": false,
     "start_time": "2023-08-06T10:20:54.767955",
     "status": "completed"
    },
    "tags": []
   },
   "outputs": [],
   "source": [
    "np.save('few_02_responses', few_02_responses)"
   ]
  },
  {
   "cell_type": "code",
   "execution_count": 87,
   "id": "bf807e9c",
   "metadata": {
    "execution": {
     "iopub.execute_input": "2023-08-06T10:20:57.085167Z",
     "iopub.status.busy": "2023-08-06T10:20:57.084752Z",
     "iopub.status.idle": "2023-08-06T10:20:57.092316Z",
     "shell.execute_reply": "2023-08-06T10:20:57.091333Z"
    },
    "papermill": {
     "duration": 0.757491,
     "end_time": "2023-08-06T10:20:57.094465",
     "exception": false,
     "start_time": "2023-08-06T10:20:56.336974",
     "status": "completed"
    },
    "tags": []
   },
   "outputs": [],
   "source": [
    "few_02_results.to_csv('few_02_results.csv',index=True)"
   ]
  },
  {
   "cell_type": "markdown",
   "id": "edf81555",
   "metadata": {
    "id": "m6eCZXdN44_E",
    "papermill": {
     "duration": 0.748054,
     "end_time": "2023-08-06T10:20:58.662387",
     "exception": false,
     "start_time": "2023-08-06T10:20:57.914333",
     "status": "completed"
    },
    "tags": []
   },
   "source": [
    "### Prompt #03"
   ]
  },
  {
   "cell_type": "code",
   "execution_count": 88,
   "id": "f1a8618e",
   "metadata": {
    "execution": {
     "iopub.execute_input": "2023-08-06T10:21:00.179841Z",
     "iopub.status.busy": "2023-08-06T10:21:00.179425Z",
     "iopub.status.idle": "2023-08-06T10:23:58.467155Z",
     "shell.execute_reply": "2023-08-06T10:23:58.466112Z"
    },
    "id": "ZVhlX7mP6Nz9",
    "outputId": "7774c56d-6ad6-4882-a300-743fbbe969a7",
    "papermill": {
     "duration": 179.03739,
     "end_time": "2023-08-06T10:23:58.469892",
     "exception": false,
     "start_time": "2023-08-06T10:20:59.432502",
     "status": "completed"
    },
    "tags": []
   },
   "outputs": [
    {
     "name": "stdout",
     "output_type": "stream",
     "text": [
      "                                                                                \r"
     ]
    },
    {
     "name": "stderr",
     "output_type": "stream",
     "text": [
      "on 0: /opt/conda/lib/python3.10/site-packages/transformers/generation/utils.py:1353: UserWarning: Using `max_length`'s default (20) to control the generation length. This behaviour is deprecated and will be removed from the config in v5 of Transformers -- we recommend using `max_new_tokens` to control the maximum length of the generation.\n",
      "        warnings.warn(\n"
     ]
    },
    {
     "name": "stdout",
     "output_type": "stream",
     "text": [
      "|████████████████████████████████████████| 500/500 [100%] in 2:58.3 (2.80/s)    \n"
     ]
    }
   ],
   "source": [
    "few_03_actual = []\n",
    "few_03_predicted = []\n",
    "few_03_responses = []\n",
    "\n",
    "with alive_bar(test_count, force_tty=True) as bar:\n",
    "    for index, row in test_df.iterrows():\n",
    "        retries = 0\n",
    "        while retries < max_retries:\n",
    "            try:\n",
    "                response = run_model(context=context_03 + \"Examples:\\n\" + examples, query=query_03.replace(\"SAMPLE_REVIEW\", row['review']))\n",
    "                response = \" \".join(response)\n",
    "                few_03_actual.append(label_dict[row['sentiment']])\n",
    "                few_03_responses.append(response)\n",
    "                \n",
    "                flag = False\n",
    "                response = response.upper()\n",
    "                for label in acceptable_classes:\n",
    "                    if label in response:\n",
    "                        few_03_predicted.append(label)\n",
    "                        flag = True\n",
    "                        break\n",
    "\n",
    "                if not flag:\n",
    "                    if \"NO SENTIMENT EXPRESSED\" in response:\n",
    "                        few_03_predicted.append('NEUTRAL')\n",
    "                    else:\n",
    "                        few_03_predicted.append('OTHER')\n",
    "\n",
    "                break\n",
    "\n",
    "            except Exception as e:\n",
    "                print(f\"An error occurred: {str(e)}\")\n",
    "                retries += 1\n",
    "                print(f\"Retrying ({retries}/{max_retries})...\")\n",
    "\n",
    "        if retries == max_retries:\n",
    "            print(f\"Failed to process review after {max_retries} retries. Skipping to the next entry.\")\n",
    "\n",
    "        bar()\n"
   ]
  },
  {
   "cell_type": "code",
   "execution_count": 89,
   "id": "7ab31327",
   "metadata": {
    "execution": {
     "iopub.execute_input": "2023-08-06T10:24:00.315624Z",
     "iopub.status.busy": "2023-08-06T10:24:00.315232Z",
     "iopub.status.idle": "2023-08-06T10:24:00.414247Z",
     "shell.execute_reply": "2023-08-06T10:24:00.413105Z"
    },
    "id": "oJQsUPE16NqF",
    "outputId": "54b663cd-44c3-4774-9213-c953edfc3a85",
    "papermill": {
     "duration": 1.05412,
     "end_time": "2023-08-06T10:24:00.416637",
     "exception": false,
     "start_time": "2023-08-06T10:23:59.362517",
     "status": "completed"
    },
    "tags": []
   },
   "outputs": [
    {
     "data": {
      "text/html": [
       "<div>\n",
       "<style scoped>\n",
       "    .dataframe tbody tr th:only-of-type {\n",
       "        vertical-align: middle;\n",
       "    }\n",
       "\n",
       "    .dataframe tbody tr th {\n",
       "        vertical-align: top;\n",
       "    }\n",
       "\n",
       "    .dataframe thead th {\n",
       "        text-align: right;\n",
       "    }\n",
       "</style>\n",
       "<table border=\"1\" class=\"dataframe\">\n",
       "  <thead>\n",
       "    <tr style=\"text-align: right;\">\n",
       "      <th></th>\n",
       "      <th>OTHER</th>\n",
       "      <th>NEGATIVE</th>\n",
       "      <th>POSITIVE</th>\n",
       "      <th>NEUTRAL</th>\n",
       "      <th>All Classes</th>\n",
       "    </tr>\n",
       "  </thead>\n",
       "  <tbody>\n",
       "    <tr>\n",
       "      <th>Accuracy</th>\n",
       "      <td>-</td>\n",
       "      <td>-</td>\n",
       "      <td>-</td>\n",
       "      <td>-</td>\n",
       "      <td>0.556</td>\n",
       "    </tr>\n",
       "    <tr>\n",
       "      <th>F1 Score</th>\n",
       "      <td>[0.0]</td>\n",
       "      <td>[0.6567164179104478]</td>\n",
       "      <td>[0.5479452054794521]</td>\n",
       "      <td>[0.09302325581395349]</td>\n",
       "      <td>0.525712</td>\n",
       "    </tr>\n",
       "    <tr>\n",
       "      <th>Precision</th>\n",
       "      <td>[0.0]</td>\n",
       "      <td>[0.5317220543806647]</td>\n",
       "      <td>[0.7575757575757576]</td>\n",
       "      <td>[0.05405405405405406]</td>\n",
       "      <td>0.571685</td>\n",
       "    </tr>\n",
       "    <tr>\n",
       "      <th>Recall</th>\n",
       "      <td>[0.0]</td>\n",
       "      <td>[0.8585365853658536]</td>\n",
       "      <td>[0.4291845493562232]</td>\n",
       "      <td>[0.3333333333333333]</td>\n",
       "      <td>0.556</td>\n",
       "    </tr>\n",
       "  </tbody>\n",
       "</table>\n",
       "</div>"
      ],
      "text/plain": [
       "           OTHER              NEGATIVE              POSITIVE  \\\n",
       "Accuracy       -                     -                     -   \n",
       "F1 Score   [0.0]  [0.6567164179104478]  [0.5479452054794521]   \n",
       "Precision  [0.0]  [0.5317220543806647]  [0.7575757575757576]   \n",
       "Recall     [0.0]  [0.8585365853658536]  [0.4291845493562232]   \n",
       "\n",
       "                         NEUTRAL All Classes  \n",
       "Accuracy                       -       0.556  \n",
       "F1 Score   [0.09302325581395349]    0.525712  \n",
       "Precision  [0.05405405405405406]    0.571685  \n",
       "Recall      [0.3333333333333333]       0.556  "
      ]
     },
     "execution_count": 89,
     "metadata": {},
     "output_type": "execute_result"
    }
   ],
   "source": [
    "few_03_results = calculate_metrics(few_03_actual, few_03_predicted)\n",
    "few_03_results"
   ]
  },
  {
   "cell_type": "code",
   "execution_count": 90,
   "id": "6300de9c",
   "metadata": {
    "execution": {
     "iopub.execute_input": "2023-08-06T10:24:02.154691Z",
     "iopub.status.busy": "2023-08-06T10:24:02.154206Z",
     "iopub.status.idle": "2023-08-06T10:24:02.160818Z",
     "shell.execute_reply": "2023-08-06T10:24:02.159698Z"
    },
    "papermill": {
     "duration": 0.880588,
     "end_time": "2023-08-06T10:24:02.163069",
     "exception": false,
     "start_time": "2023-08-06T10:24:01.282481",
     "status": "completed"
    },
    "tags": []
   },
   "outputs": [],
   "source": [
    "np.save('few_03_actual', few_03_actual)"
   ]
  },
  {
   "cell_type": "code",
   "execution_count": 91,
   "id": "b03d6a1f",
   "metadata": {
    "execution": {
     "iopub.execute_input": "2023-08-06T10:24:03.972399Z",
     "iopub.status.busy": "2023-08-06T10:24:03.972009Z",
     "iopub.status.idle": "2023-08-06T10:24:03.977389Z",
     "shell.execute_reply": "2023-08-06T10:24:03.976354Z"
    },
    "papermill": {
     "duration": 0.869982,
     "end_time": "2023-08-06T10:24:03.979504",
     "exception": false,
     "start_time": "2023-08-06T10:24:03.109522",
     "status": "completed"
    },
    "tags": []
   },
   "outputs": [],
   "source": [
    "np.save('few_03_predicted', few_03_predicted)"
   ]
  },
  {
   "cell_type": "code",
   "execution_count": 92,
   "id": "4381befe",
   "metadata": {
    "execution": {
     "iopub.execute_input": "2023-08-06T10:24:05.787679Z",
     "iopub.status.busy": "2023-08-06T10:24:05.787293Z",
     "iopub.status.idle": "2023-08-06T10:24:05.792051Z",
     "shell.execute_reply": "2023-08-06T10:24:05.791263Z"
    },
    "papermill": {
     "duration": 0.949732,
     "end_time": "2023-08-06T10:24:05.794064",
     "exception": false,
     "start_time": "2023-08-06T10:24:04.844332",
     "status": "completed"
    },
    "tags": []
   },
   "outputs": [],
   "source": [
    "np.save('few_03_responses', few_03_responses)"
   ]
  },
  {
   "cell_type": "code",
   "execution_count": 93,
   "id": "d6fedd7e",
   "metadata": {
    "execution": {
     "iopub.execute_input": "2023-08-06T10:24:07.613957Z",
     "iopub.status.busy": "2023-08-06T10:24:07.613192Z",
     "iopub.status.idle": "2023-08-06T10:24:07.620572Z",
     "shell.execute_reply": "2023-08-06T10:24:07.619640Z"
    },
    "papermill": {
     "duration": 0.961572,
     "end_time": "2023-08-06T10:24:07.623044",
     "exception": false,
     "start_time": "2023-08-06T10:24:06.661472",
     "status": "completed"
    },
    "tags": []
   },
   "outputs": [],
   "source": [
    "few_03_results.to_csv('few_03_results.csv',index=True)"
   ]
  },
  {
   "cell_type": "markdown",
   "id": "065fc69b",
   "metadata": {
    "id": "PdKNWmwY46tG",
    "papermill": {
     "duration": 0.892757,
     "end_time": "2023-08-06T10:24:09.382557",
     "exception": false,
     "start_time": "2023-08-06T10:24:08.489800",
     "status": "completed"
    },
    "tags": []
   },
   "source": [
    "### Prompt #04"
   ]
  },
  {
   "cell_type": "code",
   "execution_count": 94,
   "id": "cd63898d",
   "metadata": {
    "execution": {
     "iopub.execute_input": "2023-08-06T10:24:11.199623Z",
     "iopub.status.busy": "2023-08-06T10:24:11.198725Z",
     "iopub.status.idle": "2023-08-06T10:27:26.688578Z",
     "shell.execute_reply": "2023-08-06T10:27:26.687747Z"
    },
    "id": "Jhb8dT5A6O0h",
    "outputId": "78400d99-d160-4f74-fdd7-b6a47bbbe810",
    "papermill": {
     "duration": 196.361214,
     "end_time": "2023-08-06T10:27:26.691299",
     "exception": false,
     "start_time": "2023-08-06T10:24:10.330085",
     "status": "completed"
    },
    "tags": []
   },
   "outputs": [
    {
     "name": "stdout",
     "output_type": "stream",
     "text": [
      "                                                                                \r"
     ]
    },
    {
     "name": "stderr",
     "output_type": "stream",
     "text": [
      "on 0: /opt/conda/lib/python3.10/site-packages/transformers/generation/utils.py:1353: UserWarning: Using `max_length`'s default (20) to control the generation length. This behaviour is deprecated and will be removed from the config in v5 of Transformers -- we recommend using `max_new_tokens` to control the maximum length of the generation.\n",
      "        warnings.warn(\n"
     ]
    },
    {
     "name": "stdout",
     "output_type": "stream",
     "text": [
      "|████████████████████████████████████████| 500/500 [100%] in 3:15.5 (2.56/s)    \n"
     ]
    }
   ],
   "source": [
    "few_04_actual = []\n",
    "few_04_predicted = []\n",
    "few_04_responses = []\n",
    "\n",
    "with alive_bar(test_count, force_tty=True) as bar:\n",
    "    for index, row in test_df.iterrows():\n",
    "        retries = 0\n",
    "        while retries < max_retries:\n",
    "            try:\n",
    "                response = run_model(context=context_04 + \"Examples:\\n\" + examples_persian, query=query_04.replace(\"SAMPLE_REVIEW\", row['review']))\n",
    "                response = \" \".join(response)\n",
    "                few_04_actual.append(label_dict[row['sentiment']])\n",
    "                few_04_responses.append(response)\n",
    "                \n",
    "                flag = False\n",
    "                response = response.upper()\n",
    "                for label in acceptable_classes:\n",
    "                    if label in response:\n",
    "                        few_04_predicted.append(label)\n",
    "                        flag = True\n",
    "                        break\n",
    "\n",
    "                if not flag:\n",
    "                    if \"NO SENTIMENT EXPRESSED\" in response:\n",
    "                        few_04_predicted.append('NEUTRAL')\n",
    "                    else:\n",
    "                        few_04_predicted.append('OTHER')\n",
    "\n",
    "                break\n",
    "\n",
    "            except Exception as e:\n",
    "                print(f\"An error occurred: {str(e)}\")\n",
    "                retries += 1\n",
    "                print(f\"Retrying ({retries}/{max_retries})...\")\n",
    "\n",
    "        if retries == max_retries:\n",
    "            print(f\"Failed to process review after {max_retries} retries. Skipping to the next entry.\")\n",
    "\n",
    "        bar()\n"
   ]
  },
  {
   "cell_type": "code",
   "execution_count": 95,
   "id": "bdfb9237",
   "metadata": {
    "execution": {
     "iopub.execute_input": "2023-08-06T10:27:28.782769Z",
     "iopub.status.busy": "2023-08-06T10:27:28.782332Z",
     "iopub.status.idle": "2023-08-06T10:27:28.889952Z",
     "shell.execute_reply": "2023-08-06T10:27:28.888631Z"
    },
    "id": "EQcu2-Gv6Owm",
    "outputId": "fd846715-4a5f-4093-b84d-e8d6261a32fe",
    "papermill": {
     "duration": 1.106077,
     "end_time": "2023-08-06T10:27:28.892574",
     "exception": false,
     "start_time": "2023-08-06T10:27:27.786497",
     "status": "completed"
    },
    "tags": []
   },
   "outputs": [
    {
     "data": {
      "text/html": [
       "<div>\n",
       "<style scoped>\n",
       "    .dataframe tbody tr th:only-of-type {\n",
       "        vertical-align: middle;\n",
       "    }\n",
       "\n",
       "    .dataframe tbody tr th {\n",
       "        vertical-align: top;\n",
       "    }\n",
       "\n",
       "    .dataframe thead th {\n",
       "        text-align: right;\n",
       "    }\n",
       "</style>\n",
       "<table border=\"1\" class=\"dataframe\">\n",
       "  <thead>\n",
       "    <tr style=\"text-align: right;\">\n",
       "      <th></th>\n",
       "      <th>OTHER</th>\n",
       "      <th>NEGATIVE</th>\n",
       "      <th>POSITIVE</th>\n",
       "      <th>NEUTRAL</th>\n",
       "      <th>All Classes</th>\n",
       "    </tr>\n",
       "  </thead>\n",
       "  <tbody>\n",
       "    <tr>\n",
       "      <th>Accuracy</th>\n",
       "      <td>-</td>\n",
       "      <td>-</td>\n",
       "      <td>-</td>\n",
       "      <td>-</td>\n",
       "      <td>0.264</td>\n",
       "    </tr>\n",
       "    <tr>\n",
       "      <th>F1 Score</th>\n",
       "      <td>[0.0]</td>\n",
       "      <td>[0.38968481375358166]</td>\n",
       "      <td>[0.3856209150326797]</td>\n",
       "      <td>[0.03460207612456747]</td>\n",
       "      <td>0.339885</td>\n",
       "    </tr>\n",
       "    <tr>\n",
       "      <th>Precision</th>\n",
       "      <td>[0.0]</td>\n",
       "      <td>[0.4722222222222222]</td>\n",
       "      <td>[0.8082191780821918]</td>\n",
       "      <td>[0.0176678445229682]</td>\n",
       "      <td>0.570453</td>\n",
       "    </tr>\n",
       "    <tr>\n",
       "      <th>Recall</th>\n",
       "      <td>[0.0]</td>\n",
       "      <td>[0.33170731707317075]</td>\n",
       "      <td>[0.2532188841201717]</td>\n",
       "      <td>[0.8333333333333334]</td>\n",
       "      <td>0.264</td>\n",
       "    </tr>\n",
       "  </tbody>\n",
       "</table>\n",
       "</div>"
      ],
      "text/plain": [
       "           OTHER               NEGATIVE              POSITIVE  \\\n",
       "Accuracy       -                      -                     -   \n",
       "F1 Score   [0.0]  [0.38968481375358166]  [0.3856209150326797]   \n",
       "Precision  [0.0]   [0.4722222222222222]  [0.8082191780821918]   \n",
       "Recall     [0.0]  [0.33170731707317075]  [0.2532188841201717]   \n",
       "\n",
       "                         NEUTRAL All Classes  \n",
       "Accuracy                       -       0.264  \n",
       "F1 Score   [0.03460207612456747]    0.339885  \n",
       "Precision   [0.0176678445229682]    0.570453  \n",
       "Recall      [0.8333333333333334]       0.264  "
      ]
     },
     "execution_count": 95,
     "metadata": {},
     "output_type": "execute_result"
    }
   ],
   "source": [
    "few_04_results = calculate_metrics(few_04_actual, few_04_predicted)\n",
    "few_04_results"
   ]
  },
  {
   "cell_type": "code",
   "execution_count": 96,
   "id": "e00f3f57",
   "metadata": {
    "execution": {
     "iopub.execute_input": "2023-08-06T10:27:30.989274Z",
     "iopub.status.busy": "2023-08-06T10:27:30.988865Z",
     "iopub.status.idle": "2023-08-06T10:27:30.994877Z",
     "shell.execute_reply": "2023-08-06T10:27:30.993492Z"
    },
    "papermill": {
     "duration": 1.085204,
     "end_time": "2023-08-06T10:27:30.997032",
     "exception": false,
     "start_time": "2023-08-06T10:27:29.911828",
     "status": "completed"
    },
    "tags": []
   },
   "outputs": [],
   "source": [
    "np.save('few_04_actual', few_04_actual)"
   ]
  },
  {
   "cell_type": "code",
   "execution_count": 97,
   "id": "03df12b7",
   "metadata": {
    "execution": {
     "iopub.execute_input": "2023-08-06T10:27:32.993633Z",
     "iopub.status.busy": "2023-08-06T10:27:32.992633Z",
     "iopub.status.idle": "2023-08-06T10:27:32.999186Z",
     "shell.execute_reply": "2023-08-06T10:27:32.998233Z"
    },
    "papermill": {
     "duration": 1.012273,
     "end_time": "2023-08-06T10:27:33.001774",
     "exception": false,
     "start_time": "2023-08-06T10:27:31.989501",
     "status": "completed"
    },
    "tags": []
   },
   "outputs": [],
   "source": [
    "np.save('few_04_predicted', few_04_predicted)"
   ]
  },
  {
   "cell_type": "code",
   "execution_count": 98,
   "id": "619aa4d5",
   "metadata": {
    "execution": {
     "iopub.execute_input": "2023-08-06T10:27:35.075738Z",
     "iopub.status.busy": "2023-08-06T10:27:35.075320Z",
     "iopub.status.idle": "2023-08-06T10:27:35.080766Z",
     "shell.execute_reply": "2023-08-06T10:27:35.079654Z"
    },
    "papermill": {
     "duration": 1.003399,
     "end_time": "2023-08-06T10:27:35.083093",
     "exception": false,
     "start_time": "2023-08-06T10:27:34.079694",
     "status": "completed"
    },
    "tags": []
   },
   "outputs": [],
   "source": [
    "np.save('few_04_responses', few_04_responses)"
   ]
  },
  {
   "cell_type": "code",
   "execution_count": 99,
   "id": "76caf0db",
   "metadata": {
    "execution": {
     "iopub.execute_input": "2023-08-06T10:27:37.204806Z",
     "iopub.status.busy": "2023-08-06T10:27:37.204393Z",
     "iopub.status.idle": "2023-08-06T10:27:37.211610Z",
     "shell.execute_reply": "2023-08-06T10:27:37.210548Z"
    },
    "papermill": {
     "duration": 1.011635,
     "end_time": "2023-08-06T10:27:37.213865",
     "exception": false,
     "start_time": "2023-08-06T10:27:36.202230",
     "status": "completed"
    },
    "tags": []
   },
   "outputs": [],
   "source": [
    "few_04_results.to_csv('few_04_results.csv',index=True)"
   ]
  },
  {
   "cell_type": "markdown",
   "id": "698710a7",
   "metadata": {
    "id": "eQS4SKXr48Dr",
    "papermill": {
     "duration": 1.090192,
     "end_time": "2023-08-06T10:27:39.304193",
     "exception": false,
     "start_time": "2023-08-06T10:27:38.214001",
     "status": "completed"
    },
    "tags": []
   },
   "source": [
    "### Prompt #05"
   ]
  },
  {
   "cell_type": "code",
   "execution_count": 100,
   "id": "8e0d89f9",
   "metadata": {
    "execution": {
     "iopub.execute_input": "2023-08-06T10:27:41.383766Z",
     "iopub.status.busy": "2023-08-06T10:27:41.383018Z",
     "iopub.status.idle": "2023-08-06T10:30:44.642421Z",
     "shell.execute_reply": "2023-08-06T10:30:44.639967Z"
    },
    "id": "m1dPjrr86PlF",
    "outputId": "1eddb647-3eac-45c5-936d-e2ece40125bf",
    "papermill": {
     "duration": 184.343186,
     "end_time": "2023-08-06T10:30:44.645148",
     "exception": false,
     "start_time": "2023-08-06T10:27:40.301962",
     "status": "completed"
    },
    "tags": []
   },
   "outputs": [
    {
     "name": "stdout",
     "output_type": "stream",
     "text": [
      "                                                                                \r"
     ]
    },
    {
     "name": "stderr",
     "output_type": "stream",
     "text": [
      "on 0: /opt/conda/lib/python3.10/site-packages/transformers/generation/utils.py:1353: UserWarning: Using `max_length`'s default (20) to control the generation length. This behaviour is deprecated and will be removed from the config in v5 of Transformers -- we recommend using `max_new_tokens` to control the maximum length of the generation.\n",
      "        warnings.warn(\n"
     ]
    },
    {
     "name": "stdout",
     "output_type": "stream",
     "text": [
      "|████████████████████████████████████████| 500/500 [100%] in 3:03.2 (2.73/s)    \n"
     ]
    }
   ],
   "source": [
    "few_05_actual = []\n",
    "few_05_predicted = []\n",
    "few_05_responses = []\n",
    "\n",
    "with alive_bar(test_count, force_tty=True) as bar:\n",
    "    for index, row in test_df.iterrows():\n",
    "        retries = 0\n",
    "        while retries < max_retries:\n",
    "            try:\n",
    "                response = run_model(context=row['review'], query= \"Examples:\\n\" + examples + query_05)\n",
    "                response = \" \".join(response)\n",
    "                few_05_actual.append(label_dict[row['sentiment']])\n",
    "                few_05_responses.append(response)\n",
    "                \n",
    "                flag = False\n",
    "                response = response.upper()\n",
    "                for label in acceptable_classes:\n",
    "                    if label in response:\n",
    "                        few_05_predicted.append(label)\n",
    "                        flag = True\n",
    "                        break\n",
    "\n",
    "                if not flag:\n",
    "                    if \"NO SENTIMENT EXPRESSED\" in response:\n",
    "                        few_05_predicted.append('NEUTRAL')\n",
    "                    else:\n",
    "                        few_05_predicted.append('OTHER')\n",
    "\n",
    "                break\n",
    "\n",
    "            except Exception as e:\n",
    "                print(f\"An error occurred: {str(e)}\")\n",
    "                retries += 1\n",
    "                print(f\"Retrying ({retries}/{max_retries})...\")\n",
    "\n",
    "        if retries == max_retries:\n",
    "            print(f\"Failed to process review after {max_retries} retries. Skipping to the next entry.\")\n",
    "\n",
    "        bar()\n"
   ]
  },
  {
   "cell_type": "code",
   "execution_count": 101,
   "id": "0e12b655",
   "metadata": {
    "execution": {
     "iopub.execute_input": "2023-08-06T10:30:47.032441Z",
     "iopub.status.busy": "2023-08-06T10:30:47.032024Z",
     "iopub.status.idle": "2023-08-06T10:30:47.132879Z",
     "shell.execute_reply": "2023-08-06T10:30:47.131490Z"
    },
    "id": "32x5IQhm6Pez",
    "outputId": "d13697a1-629a-4ec0-c04f-66c1671f5229",
    "papermill": {
     "duration": 1.362418,
     "end_time": "2023-08-06T10:30:47.135985",
     "exception": false,
     "start_time": "2023-08-06T10:30:45.773567",
     "status": "completed"
    },
    "tags": []
   },
   "outputs": [
    {
     "data": {
      "text/html": [
       "<div>\n",
       "<style scoped>\n",
       "    .dataframe tbody tr th:only-of-type {\n",
       "        vertical-align: middle;\n",
       "    }\n",
       "\n",
       "    .dataframe tbody tr th {\n",
       "        vertical-align: top;\n",
       "    }\n",
       "\n",
       "    .dataframe thead th {\n",
       "        text-align: right;\n",
       "    }\n",
       "</style>\n",
       "<table border=\"1\" class=\"dataframe\">\n",
       "  <thead>\n",
       "    <tr style=\"text-align: right;\">\n",
       "      <th></th>\n",
       "      <th>OTHER</th>\n",
       "      <th>NEGATIVE</th>\n",
       "      <th>POSITIVE</th>\n",
       "      <th>NEUTRAL</th>\n",
       "      <th>All Classes</th>\n",
       "    </tr>\n",
       "  </thead>\n",
       "  <tbody>\n",
       "    <tr>\n",
       "      <th>Accuracy</th>\n",
       "      <td>-</td>\n",
       "      <td>-</td>\n",
       "      <td>-</td>\n",
       "      <td>-</td>\n",
       "      <td>0.674</td>\n",
       "    </tr>\n",
       "    <tr>\n",
       "      <th>F1 Score</th>\n",
       "      <td>[0.15873015873015872]</td>\n",
       "      <td>[0.7153846153846155]</td>\n",
       "      <td>[0.7104622871046229]</td>\n",
       "      <td>[0.0]</td>\n",
       "      <td>0.642161</td>\n",
       "    </tr>\n",
       "    <tr>\n",
       "      <th>Precision</th>\n",
       "      <td>[0.7142857142857143]</td>\n",
       "      <td>[0.5904761904761905]</td>\n",
       "      <td>[0.8202247191011236]</td>\n",
       "      <td>[0.0]</td>\n",
       "      <td>0.70432</td>\n",
       "    </tr>\n",
       "    <tr>\n",
       "      <th>Recall</th>\n",
       "      <td>[0.08928571428571429]</td>\n",
       "      <td>[0.9073170731707317]</td>\n",
       "      <td>[0.6266094420600858]</td>\n",
       "      <td>[0.0]</td>\n",
       "      <td>0.674</td>\n",
       "    </tr>\n",
       "  </tbody>\n",
       "</table>\n",
       "</div>"
      ],
      "text/plain": [
       "                           OTHER              NEGATIVE              POSITIVE  \\\n",
       "Accuracy                       -                     -                     -   \n",
       "F1 Score   [0.15873015873015872]  [0.7153846153846155]  [0.7104622871046229]   \n",
       "Precision   [0.7142857142857143]  [0.5904761904761905]  [0.8202247191011236]   \n",
       "Recall     [0.08928571428571429]  [0.9073170731707317]  [0.6266094420600858]   \n",
       "\n",
       "          NEUTRAL All Classes  \n",
       "Accuracy        -       0.674  \n",
       "F1 Score    [0.0]    0.642161  \n",
       "Precision   [0.0]     0.70432  \n",
       "Recall      [0.0]       0.674  "
      ]
     },
     "execution_count": 101,
     "metadata": {},
     "output_type": "execute_result"
    }
   ],
   "source": [
    "few_05_results = calculate_metrics(few_05_actual, few_05_predicted)\n",
    "few_05_results"
   ]
  },
  {
   "cell_type": "code",
   "execution_count": 102,
   "id": "3977d0b2",
   "metadata": {
    "execution": {
     "iopub.execute_input": "2023-08-06T10:30:49.483913Z",
     "iopub.status.busy": "2023-08-06T10:30:49.483459Z",
     "iopub.status.idle": "2023-08-06T10:30:49.489640Z",
     "shell.execute_reply": "2023-08-06T10:30:49.488629Z"
    },
    "papermill": {
     "duration": 1.237851,
     "end_time": "2023-08-06T10:30:49.492246",
     "exception": false,
     "start_time": "2023-08-06T10:30:48.254395",
     "status": "completed"
    },
    "tags": []
   },
   "outputs": [],
   "source": [
    "np.save('few_05_actual', few_05_actual)"
   ]
  },
  {
   "cell_type": "code",
   "execution_count": 103,
   "id": "7eef17b1",
   "metadata": {
    "execution": {
     "iopub.execute_input": "2023-08-06T10:30:51.729703Z",
     "iopub.status.busy": "2023-08-06T10:30:51.728895Z",
     "iopub.status.idle": "2023-08-06T10:30:51.734370Z",
     "shell.execute_reply": "2023-08-06T10:30:51.733465Z"
    },
    "papermill": {
     "duration": 1.12522,
     "end_time": "2023-08-06T10:30:51.737424",
     "exception": false,
     "start_time": "2023-08-06T10:30:50.612204",
     "status": "completed"
    },
    "tags": []
   },
   "outputs": [],
   "source": [
    "np.save('few_05_predicted', few_05_predicted)"
   ]
  },
  {
   "cell_type": "code",
   "execution_count": 104,
   "id": "f4e88e5b",
   "metadata": {
    "execution": {
     "iopub.execute_input": "2023-08-06T10:30:54.061919Z",
     "iopub.status.busy": "2023-08-06T10:30:54.060939Z",
     "iopub.status.idle": "2023-08-06T10:30:54.066053Z",
     "shell.execute_reply": "2023-08-06T10:30:54.065282Z"
    },
    "papermill": {
     "duration": 1.131216,
     "end_time": "2023-08-06T10:30:54.068170",
     "exception": false,
     "start_time": "2023-08-06T10:30:52.936954",
     "status": "completed"
    },
    "tags": []
   },
   "outputs": [],
   "source": [
    "np.save('few_05_responses', few_05_responses)"
   ]
  },
  {
   "cell_type": "code",
   "execution_count": 105,
   "id": "a60a7292",
   "metadata": {
    "execution": {
     "iopub.execute_input": "2023-08-06T10:30:56.387396Z",
     "iopub.status.busy": "2023-08-06T10:30:56.386449Z",
     "iopub.status.idle": "2023-08-06T10:30:56.394376Z",
     "shell.execute_reply": "2023-08-06T10:30:56.393230Z"
    },
    "papermill": {
     "duration": 1.133625,
     "end_time": "2023-08-06T10:30:56.397065",
     "exception": false,
     "start_time": "2023-08-06T10:30:55.263440",
     "status": "completed"
    },
    "tags": []
   },
   "outputs": [],
   "source": [
    "few_05_results.to_csv('few_05_results.csv',index=True)"
   ]
  },
  {
   "cell_type": "markdown",
   "id": "35d981c5",
   "metadata": {
    "id": "k__Sn9ZT4v4C",
    "papermill": {
     "duration": 1.192887,
     "end_time": "2023-08-06T10:30:58.711042",
     "exception": false,
     "start_time": "2023-08-06T10:30:57.518155",
     "status": "completed"
    },
    "tags": []
   },
   "source": [
    "## Boula"
   ]
  },
  {
   "cell_type": "code",
   "execution_count": 106,
   "id": "d9d9c062",
   "metadata": {
    "execution": {
     "iopub.execute_input": "2023-08-06T10:31:01.051110Z",
     "iopub.status.busy": "2023-08-06T10:31:01.050711Z",
     "iopub.status.idle": "2023-08-06T10:31:01.057191Z",
     "shell.execute_reply": "2023-08-06T10:31:01.056080Z"
    },
    "id": "O0F3wrSfK-Hf",
    "papermill": {
     "duration": 1.126353,
     "end_time": "2023-08-06T10:31:01.059465",
     "exception": false,
     "start_time": "2023-08-06T10:30:59.933112",
     "status": "completed"
    },
    "tags": []
   },
   "outputs": [],
   "source": [
    "# run_model(\n",
    "#     \"یک فیلم ضعیف بی محتوا بدون فیلمنامه . شوخی های سخیف .\",\n",
    "#     \"نظر شما در مورد داستان، فیلمنامه، دیالوگ ها و موضوع فیلم  لونه زنبور چیست؟\"\n",
    "# )\n",
    "\n",
    "# run_model(\n",
    "#     \"فیلم تا وسط فیلم یعنی دقیقا تا جایی که معلوم میشه بچه های املشی دنبال رضان خیلی خوب و جذاب پیش میره ولی دقیقا از همونجاش سکته میزنه و خلاص...\",\n",
    "#     \"نظر شما به صورت کلی در مورد فیلم  ژن خوک چیست؟\"\n",
    "# )\n",
    "# run_model(\n",
    "#     \"اصلا به هیچ عنوان علاقه نداشتم اجرای می سی سی پی نشسته میمیرد روی پرده سینما ببینم  دیالوگ های تکراری   هلیکوپتر  ماشین  آلندلون  لئون  پاپیون  آخه چرااااااااااااااا   همون حسی که توی تالار وحدت بعد از نیم ساعت به سرم اومد امشب توی سالن سینما تجربه کردم ،حس گریز از سالن....... (ノಠ益ಠ)ノ \",\n",
    "#     \" نظر شما در مورد صداگذاری و جلوه های صوتی فیلم  مسخره‌باز چیست؟\"\n",
    "# )\n",
    "\n",
    "# run_model(\n",
    "#     \" گول نخورید این رنگارنگ مینو نیست برای شرکت گرجیه و متاسفانه این محصولش اصلا مزه رنگارنگی که انتظار دارید رو نمیده \",\n",
    "#     \" نظر شما در مورد عطر، بو، و طعم این بیسکویت و ویفر چیست؟\"\n",
    "# )\n",
    "\n",
    "# run_model(\n",
    "#     \"در مقایسه با سایر برندهای موجود در بازار با توجه به حراجی که داشت ارزانتر ب\",\n",
    "#     \" شما در مورد قیمت و ارزش خرید این حبوبات و سویا چیست؟\"\n",
    "# )\n",
    "\n",
    "# run_model(\n",
    "#     \"من پسرم عاشق ایناس ولی دیگه به خاطر حفظ محیط زیست فقط زمانهایی که مجبور باشم شیر دونه ای میخرم و سعی میکنم دیگه کمتر شیر با بسته بندی تتراپک استفاده کنم \",\n",
    "#     \"نظر شما به صورت کلی در مورد این شیر چیست؟\"\n",
    "# )\n"
   ]
  }
 ],
 "metadata": {
  "kernelspec": {
   "display_name": "Python 3",
   "language": "python",
   "name": "python3"
  },
  "language_info": {
   "codemirror_mode": {
    "name": "ipython",
    "version": 3
   },
   "file_extension": ".py",
   "mimetype": "text/x-python",
   "name": "python",
   "nbconvert_exporter": "python",
   "pygments_lexer": "ipython3",
   "version": "3.10.12"
  },
  "papermill": {
   "default_parameters": {},
   "duration": 1715.54794,
   "end_time": "2023-08-06T10:31:05.039519",
   "environment_variables": {},
   "exception": null,
   "input_path": "__notebook__.ipynb",
   "output_path": "__notebook__.ipynb",
   "parameters": {},
   "start_time": "2023-08-06T10:02:29.491579",
   "version": "2.4.0"
  },
  "widgets": {
   "application/vnd.jupyter.widget-state+json": {
    "state": {
     "04153ddff82c4f79ad49d677a8797683": {
      "model_module": "@jupyter-widgets/controls",
      "model_module_version": "1.5.0",
      "model_name": "HBoxModel",
      "state": {
       "_dom_classes": [],
       "_model_module": "@jupyter-widgets/controls",
       "_model_module_version": "1.5.0",
       "_model_name": "HBoxModel",
       "_view_count": null,
       "_view_module": "@jupyter-widgets/controls",
       "_view_module_version": "1.5.0",
       "_view_name": "HBoxView",
       "box_style": "",
       "children": [
        "IPY_MODEL_10dc2939afb145f086f77221f640ba88",
        "IPY_MODEL_6523c9a2db3b41d689ffb6e6b1910e12",
        "IPY_MODEL_e6ba6f9b21dc4dcea834542ff1c12ac7"
       ],
       "layout": "IPY_MODEL_c0e3604201bc4524aacbded8bc8ae9cc"
      }
     },
     "0c0065058a4744749a3f6c2bf5f885fc": {
      "model_module": "@jupyter-widgets/controls",
      "model_module_version": "1.5.0",
      "model_name": "DescriptionStyleModel",
      "state": {
       "_model_module": "@jupyter-widgets/controls",
       "_model_module_version": "1.5.0",
       "_model_name": "DescriptionStyleModel",
       "_view_count": null,
       "_view_module": "@jupyter-widgets/base",
       "_view_module_version": "1.2.0",
       "_view_name": "StyleView",
       "description_width": ""
      }
     },
     "0f67a848fae44d9db898176583f6df18": {
      "model_module": "@jupyter-widgets/base",
      "model_module_version": "1.2.0",
      "model_name": "LayoutModel",
      "state": {
       "_model_module": "@jupyter-widgets/base",
       "_model_module_version": "1.2.0",
       "_model_name": "LayoutModel",
       "_view_count": null,
       "_view_module": "@jupyter-widgets/base",
       "_view_module_version": "1.2.0",
       "_view_name": "LayoutView",
       "align_content": null,
       "align_items": null,
       "align_self": null,
       "border": null,
       "bottom": null,
       "display": null,
       "flex": null,
       "flex_flow": null,
       "grid_area": null,
       "grid_auto_columns": null,
       "grid_auto_flow": null,
       "grid_auto_rows": null,
       "grid_column": null,
       "grid_gap": null,
       "grid_row": null,
       "grid_template_areas": null,
       "grid_template_columns": null,
       "grid_template_rows": null,
       "height": null,
       "justify_content": null,
       "justify_items": null,
       "left": null,
       "margin": null,
       "max_height": null,
       "max_width": null,
       "min_height": null,
       "min_width": null,
       "object_fit": null,
       "object_position": null,
       "order": null,
       "overflow": null,
       "overflow_x": null,
       "overflow_y": null,
       "padding": null,
       "right": null,
       "top": null,
       "visibility": null,
       "width": null
      }
     },
     "10dc2939afb145f086f77221f640ba88": {
      "model_module": "@jupyter-widgets/controls",
      "model_module_version": "1.5.0",
      "model_name": "HTMLModel",
      "state": {
       "_dom_classes": [],
       "_model_module": "@jupyter-widgets/controls",
       "_model_module_version": "1.5.0",
       "_model_name": "HTMLModel",
       "_view_count": null,
       "_view_module": "@jupyter-widgets/controls",
       "_view_module_version": "1.5.0",
       "_view_name": "HTMLView",
       "description": "",
       "description_tooltip": null,
       "layout": "IPY_MODEL_77e58f230d66403e9362b161a25466d1",
       "placeholder": "​",
       "style": "IPY_MODEL_0c0065058a4744749a3f6c2bf5f885fc",
       "value": "Downloading spiece.model: 100%"
      }
     },
     "13c342e75fc44983a8f00948c84ff97c": {
      "model_module": "@jupyter-widgets/base",
      "model_module_version": "1.2.0",
      "model_name": "LayoutModel",
      "state": {
       "_model_module": "@jupyter-widgets/base",
       "_model_module_version": "1.2.0",
       "_model_name": "LayoutModel",
       "_view_count": null,
       "_view_module": "@jupyter-widgets/base",
       "_view_module_version": "1.2.0",
       "_view_name": "LayoutView",
       "align_content": null,
       "align_items": null,
       "align_self": null,
       "border": null,
       "bottom": null,
       "display": null,
       "flex": null,
       "flex_flow": null,
       "grid_area": null,
       "grid_auto_columns": null,
       "grid_auto_flow": null,
       "grid_auto_rows": null,
       "grid_column": null,
       "grid_gap": null,
       "grid_row": null,
       "grid_template_areas": null,
       "grid_template_columns": null,
       "grid_template_rows": null,
       "height": null,
       "justify_content": null,
       "justify_items": null,
       "left": null,
       "margin": null,
       "max_height": null,
       "max_width": null,
       "min_height": null,
       "min_width": null,
       "object_fit": null,
       "object_position": null,
       "order": null,
       "overflow": null,
       "overflow_x": null,
       "overflow_y": null,
       "padding": null,
       "right": null,
       "top": null,
       "visibility": null,
       "width": null
      }
     },
     "17ff4765b6de4db3bc19b04156994b04": {
      "model_module": "@jupyter-widgets/controls",
      "model_module_version": "1.5.0",
      "model_name": "DescriptionStyleModel",
      "state": {
       "_model_module": "@jupyter-widgets/controls",
       "_model_module_version": "1.5.0",
       "_model_name": "DescriptionStyleModel",
       "_view_count": null,
       "_view_module": "@jupyter-widgets/base",
       "_view_module_version": "1.2.0",
       "_view_name": "StyleView",
       "description_width": ""
      }
     },
     "1fcc01f86a6441d7993694a068736766": {
      "model_module": "@jupyter-widgets/base",
      "model_module_version": "1.2.0",
      "model_name": "LayoutModel",
      "state": {
       "_model_module": "@jupyter-widgets/base",
       "_model_module_version": "1.2.0",
       "_model_name": "LayoutModel",
       "_view_count": null,
       "_view_module": "@jupyter-widgets/base",
       "_view_module_version": "1.2.0",
       "_view_name": "LayoutView",
       "align_content": null,
       "align_items": null,
       "align_self": null,
       "border": null,
       "bottom": null,
       "display": null,
       "flex": null,
       "flex_flow": null,
       "grid_area": null,
       "grid_auto_columns": null,
       "grid_auto_flow": null,
       "grid_auto_rows": null,
       "grid_column": null,
       "grid_gap": null,
       "grid_row": null,
       "grid_template_areas": null,
       "grid_template_columns": null,
       "grid_template_rows": null,
       "height": null,
       "justify_content": null,
       "justify_items": null,
       "left": null,
       "margin": null,
       "max_height": null,
       "max_width": null,
       "min_height": null,
       "min_width": null,
       "object_fit": null,
       "object_position": null,
       "order": null,
       "overflow": null,
       "overflow_x": null,
       "overflow_y": null,
       "padding": null,
       "right": null,
       "top": null,
       "visibility": null,
       "width": null
      }
     },
     "25d515885e7843d3b4255cf3f252c975": {
      "model_module": "@jupyter-widgets/controls",
      "model_module_version": "1.5.0",
      "model_name": "HTMLModel",
      "state": {
       "_dom_classes": [],
       "_model_module": "@jupyter-widgets/controls",
       "_model_module_version": "1.5.0",
       "_model_name": "HTMLModel",
       "_view_count": null,
       "_view_module": "@jupyter-widgets/controls",
       "_view_module_version": "1.5.0",
       "_view_name": "HTMLView",
       "description": "",
       "description_tooltip": null,
       "layout": "IPY_MODEL_1fcc01f86a6441d7993694a068736766",
       "placeholder": "​",
       "style": "IPY_MODEL_35f30d3e5aab4e4995d27242684d0fb1",
       "value": " 65.0/65.0 [00:00&lt;00:00, 4.79kB/s]"
      }
     },
     "28746eeb50194a1fbe874219a1ac930e": {
      "model_module": "@jupyter-widgets/controls",
      "model_module_version": "1.5.0",
      "model_name": "FloatProgressModel",
      "state": {
       "_dom_classes": [],
       "_model_module": "@jupyter-widgets/controls",
       "_model_module_version": "1.5.0",
       "_model_name": "FloatProgressModel",
       "_view_count": null,
       "_view_module": "@jupyter-widgets/controls",
       "_view_module_version": "1.5.0",
       "_view_name": "ProgressView",
       "bar_style": "success",
       "description": "",
       "description_tooltip": null,
       "layout": "IPY_MODEL_13c342e75fc44983a8f00948c84ff97c",
       "max": 65.0,
       "min": 0.0,
       "orientation": "horizontal",
       "style": "IPY_MODEL_b085b5eb9bee4bf6bd4852a0a3ffede1",
       "value": 65.0
      }
     },
     "2aab06a59e434c209a32f45e93241e20": {
      "model_module": "@jupyter-widgets/controls",
      "model_module_version": "1.5.0",
      "model_name": "HTMLModel",
      "state": {
       "_dom_classes": [],
       "_model_module": "@jupyter-widgets/controls",
       "_model_module_version": "1.5.0",
       "_model_name": "HTMLModel",
       "_view_count": null,
       "_view_module": "@jupyter-widgets/controls",
       "_view_module_version": "1.5.0",
       "_view_name": "HTMLView",
       "description": "",
       "description_tooltip": null,
       "layout": "IPY_MODEL_eddfc840ecf045519ae4d6e830f9fa97",
       "placeholder": "​",
       "style": "IPY_MODEL_8a5b53c0dc9f432cb7af75ce1930edd0",
       "value": "Downloading pytorch_model.bin: 100%"
      }
     },
     "2e69339a666f4e10b81650b8f668a4db": {
      "model_module": "@jupyter-widgets/base",
      "model_module_version": "1.2.0",
      "model_name": "LayoutModel",
      "state": {
       "_model_module": "@jupyter-widgets/base",
       "_model_module_version": "1.2.0",
       "_model_name": "LayoutModel",
       "_view_count": null,
       "_view_module": "@jupyter-widgets/base",
       "_view_module_version": "1.2.0",
       "_view_name": "LayoutView",
       "align_content": null,
       "align_items": null,
       "align_self": null,
       "border": null,
       "bottom": null,
       "display": null,
       "flex": null,
       "flex_flow": null,
       "grid_area": null,
       "grid_auto_columns": null,
       "grid_auto_flow": null,
       "grid_auto_rows": null,
       "grid_column": null,
       "grid_gap": null,
       "grid_row": null,
       "grid_template_areas": null,
       "grid_template_columns": null,
       "grid_template_rows": null,
       "height": null,
       "justify_content": null,
       "justify_items": null,
       "left": null,
       "margin": null,
       "max_height": null,
       "max_width": null,
       "min_height": null,
       "min_width": null,
       "object_fit": null,
       "object_position": null,
       "order": null,
       "overflow": null,
       "overflow_x": null,
       "overflow_y": null,
       "padding": null,
       "right": null,
       "top": null,
       "visibility": null,
       "width": null
      }
     },
     "3107a490e22946599323cf44ec053bf1": {
      "model_module": "@jupyter-widgets/base",
      "model_module_version": "1.2.0",
      "model_name": "LayoutModel",
      "state": {
       "_model_module": "@jupyter-widgets/base",
       "_model_module_version": "1.2.0",
       "_model_name": "LayoutModel",
       "_view_count": null,
       "_view_module": "@jupyter-widgets/base",
       "_view_module_version": "1.2.0",
       "_view_name": "LayoutView",
       "align_content": null,
       "align_items": null,
       "align_self": null,
       "border": null,
       "bottom": null,
       "display": null,
       "flex": null,
       "flex_flow": null,
       "grid_area": null,
       "grid_auto_columns": null,
       "grid_auto_flow": null,
       "grid_auto_rows": null,
       "grid_column": null,
       "grid_gap": null,
       "grid_row": null,
       "grid_template_areas": null,
       "grid_template_columns": null,
       "grid_template_rows": null,
       "height": null,
       "justify_content": null,
       "justify_items": null,
       "left": null,
       "margin": null,
       "max_height": null,
       "max_width": null,
       "min_height": null,
       "min_width": null,
       "object_fit": null,
       "object_position": null,
       "order": null,
       "overflow": null,
       "overflow_x": null,
       "overflow_y": null,
       "padding": null,
       "right": null,
       "top": null,
       "visibility": null,
       "width": null
      }
     },
     "35f30d3e5aab4e4995d27242684d0fb1": {
      "model_module": "@jupyter-widgets/controls",
      "model_module_version": "1.5.0",
      "model_name": "DescriptionStyleModel",
      "state": {
       "_model_module": "@jupyter-widgets/controls",
       "_model_module_version": "1.5.0",
       "_model_name": "DescriptionStyleModel",
       "_view_count": null,
       "_view_module": "@jupyter-widgets/base",
       "_view_module_version": "1.2.0",
       "_view_name": "StyleView",
       "description_width": ""
      }
     },
     "3b7e97180e864c90937334e68826a5eb": {
      "model_module": "@jupyter-widgets/controls",
      "model_module_version": "1.5.0",
      "model_name": "HTMLModel",
      "state": {
       "_dom_classes": [],
       "_model_module": "@jupyter-widgets/controls",
       "_model_module_version": "1.5.0",
       "_model_name": "HTMLModel",
       "_view_count": null,
       "_view_module": "@jupyter-widgets/controls",
       "_view_module_version": "1.5.0",
       "_view_name": "HTMLView",
       "description": "",
       "description_tooltip": null,
       "layout": "IPY_MODEL_519a2c40341a4a34a441ea7e7379334f",
       "placeholder": "​",
       "style": "IPY_MODEL_81195fd1dd354658b67f9311236ae4ea",
       "value": " 383/383 [00:00&lt;00:00, 25.5kB/s]"
      }
     },
     "4124f4d372d54fee95636323c3e3dbcc": {
      "model_module": "@jupyter-widgets/base",
      "model_module_version": "1.2.0",
      "model_name": "LayoutModel",
      "state": {
       "_model_module": "@jupyter-widgets/base",
       "_model_module_version": "1.2.0",
       "_model_name": "LayoutModel",
       "_view_count": null,
       "_view_module": "@jupyter-widgets/base",
       "_view_module_version": "1.2.0",
       "_view_name": "LayoutView",
       "align_content": null,
       "align_items": null,
       "align_self": null,
       "border": null,
       "bottom": null,
       "display": null,
       "flex": null,
       "flex_flow": null,
       "grid_area": null,
       "grid_auto_columns": null,
       "grid_auto_flow": null,
       "grid_auto_rows": null,
       "grid_column": null,
       "grid_gap": null,
       "grid_row": null,
       "grid_template_areas": null,
       "grid_template_columns": null,
       "grid_template_rows": null,
       "height": null,
       "justify_content": null,
       "justify_items": null,
       "left": null,
       "margin": null,
       "max_height": null,
       "max_width": null,
       "min_height": null,
       "min_width": null,
       "object_fit": null,
       "object_position": null,
       "order": null,
       "overflow": null,
       "overflow_x": null,
       "overflow_y": null,
       "padding": null,
       "right": null,
       "top": null,
       "visibility": null,
       "width": null
      }
     },
     "428b8bb2fb524794987bc2307f969504": {
      "model_module": "@jupyter-widgets/controls",
      "model_module_version": "1.5.0",
      "model_name": "DescriptionStyleModel",
      "state": {
       "_model_module": "@jupyter-widgets/controls",
       "_model_module_version": "1.5.0",
       "_model_name": "DescriptionStyleModel",
       "_view_count": null,
       "_view_module": "@jupyter-widgets/base",
       "_view_module_version": "1.2.0",
       "_view_name": "StyleView",
       "description_width": ""
      }
     },
     "519a2c40341a4a34a441ea7e7379334f": {
      "model_module": "@jupyter-widgets/base",
      "model_module_version": "1.2.0",
      "model_name": "LayoutModel",
      "state": {
       "_model_module": "@jupyter-widgets/base",
       "_model_module_version": "1.2.0",
       "_model_name": "LayoutModel",
       "_view_count": null,
       "_view_module": "@jupyter-widgets/base",
       "_view_module_version": "1.2.0",
       "_view_name": "LayoutView",
       "align_content": null,
       "align_items": null,
       "align_self": null,
       "border": null,
       "bottom": null,
       "display": null,
       "flex": null,
       "flex_flow": null,
       "grid_area": null,
       "grid_auto_columns": null,
       "grid_auto_flow": null,
       "grid_auto_rows": null,
       "grid_column": null,
       "grid_gap": null,
       "grid_row": null,
       "grid_template_areas": null,
       "grid_template_columns": null,
       "grid_template_rows": null,
       "height": null,
       "justify_content": null,
       "justify_items": null,
       "left": null,
       "margin": null,
       "max_height": null,
       "max_width": null,
       "min_height": null,
       "min_width": null,
       "object_fit": null,
       "object_position": null,
       "order": null,
       "overflow": null,
       "overflow_x": null,
       "overflow_y": null,
       "padding": null,
       "right": null,
       "top": null,
       "visibility": null,
       "width": null
      }
     },
     "592e89dedbc04c2c834f680061d54dfe": {
      "model_module": "@jupyter-widgets/controls",
      "model_module_version": "1.5.0",
      "model_name": "HTMLModel",
      "state": {
       "_dom_classes": [],
       "_model_module": "@jupyter-widgets/controls",
       "_model_module_version": "1.5.0",
       "_model_name": "HTMLModel",
       "_view_count": null,
       "_view_module": "@jupyter-widgets/controls",
       "_view_module_version": "1.5.0",
       "_view_name": "HTMLView",
       "description": "",
       "description_tooltip": null,
       "layout": "IPY_MODEL_73551e158b794f08b33ef1490dfd2f5a",
       "placeholder": "​",
       "style": "IPY_MODEL_8c685cc5facf41c38e58ddffd3bba371",
       "value": "Downloading (…)lve/main/config.json: 100%"
      }
     },
     "6523c9a2db3b41d689ffb6e6b1910e12": {
      "model_module": "@jupyter-widgets/controls",
      "model_module_version": "1.5.0",
      "model_name": "FloatProgressModel",
      "state": {
       "_dom_classes": [],
       "_model_module": "@jupyter-widgets/controls",
       "_model_module_version": "1.5.0",
       "_model_name": "FloatProgressModel",
       "_view_count": null,
       "_view_module": "@jupyter-widgets/controls",
       "_view_module_version": "1.5.0",
       "_view_name": "ProgressView",
       "bar_style": "success",
       "description": "",
       "description_tooltip": null,
       "layout": "IPY_MODEL_f768de8f80dc4bc4b0256298b91b7ef5",
       "max": 4309802.0,
       "min": 0.0,
       "orientation": "horizontal",
       "style": "IPY_MODEL_d9005c1bb6d0444d9672a8170f70e41d",
       "value": 4309802.0
      }
     },
     "6caa5fec0d174c11b6c5189d1cd7d734": {
      "model_module": "@jupyter-widgets/base",
      "model_module_version": "1.2.0",
      "model_name": "LayoutModel",
      "state": {
       "_model_module": "@jupyter-widgets/base",
       "_model_module_version": "1.2.0",
       "_model_name": "LayoutModel",
       "_view_count": null,
       "_view_module": "@jupyter-widgets/base",
       "_view_module_version": "1.2.0",
       "_view_name": "LayoutView",
       "align_content": null,
       "align_items": null,
       "align_self": null,
       "border": null,
       "bottom": null,
       "display": null,
       "flex": null,
       "flex_flow": null,
       "grid_area": null,
       "grid_auto_columns": null,
       "grid_auto_flow": null,
       "grid_auto_rows": null,
       "grid_column": null,
       "grid_gap": null,
       "grid_row": null,
       "grid_template_areas": null,
       "grid_template_columns": null,
       "grid_template_rows": null,
       "height": null,
       "justify_content": null,
       "justify_items": null,
       "left": null,
       "margin": null,
       "max_height": null,
       "max_width": null,
       "min_height": null,
       "min_width": null,
       "object_fit": null,
       "object_position": null,
       "order": null,
       "overflow": null,
       "overflow_x": null,
       "overflow_y": null,
       "padding": null,
       "right": null,
       "top": null,
       "visibility": null,
       "width": null
      }
     },
     "73551e158b794f08b33ef1490dfd2f5a": {
      "model_module": "@jupyter-widgets/base",
      "model_module_version": "1.2.0",
      "model_name": "LayoutModel",
      "state": {
       "_model_module": "@jupyter-widgets/base",
       "_model_module_version": "1.2.0",
       "_model_name": "LayoutModel",
       "_view_count": null,
       "_view_module": "@jupyter-widgets/base",
       "_view_module_version": "1.2.0",
       "_view_name": "LayoutView",
       "align_content": null,
       "align_items": null,
       "align_self": null,
       "border": null,
       "bottom": null,
       "display": null,
       "flex": null,
       "flex_flow": null,
       "grid_area": null,
       "grid_auto_columns": null,
       "grid_auto_flow": null,
       "grid_auto_rows": null,
       "grid_column": null,
       "grid_gap": null,
       "grid_row": null,
       "grid_template_areas": null,
       "grid_template_columns": null,
       "grid_template_rows": null,
       "height": null,
       "justify_content": null,
       "justify_items": null,
       "left": null,
       "margin": null,
       "max_height": null,
       "max_width": null,
       "min_height": null,
       "min_width": null,
       "object_fit": null,
       "object_position": null,
       "order": null,
       "overflow": null,
       "overflow_x": null,
       "overflow_y": null,
       "padding": null,
       "right": null,
       "top": null,
       "visibility": null,
       "width": null
      }
     },
     "76f0a73c52d14e8dbea3c30d2fae4e50": {
      "model_module": "@jupyter-widgets/controls",
      "model_module_version": "1.5.0",
      "model_name": "HBoxModel",
      "state": {
       "_dom_classes": [],
       "_model_module": "@jupyter-widgets/controls",
       "_model_module_version": "1.5.0",
       "_model_name": "HBoxModel",
       "_view_count": null,
       "_view_module": "@jupyter-widgets/controls",
       "_view_module_version": "1.5.0",
       "_view_name": "HBoxView",
       "box_style": "",
       "children": [
        "IPY_MODEL_d1424738df7746b38bfc4f9694f28191",
        "IPY_MODEL_28746eeb50194a1fbe874219a1ac930e",
        "IPY_MODEL_25d515885e7843d3b4255cf3f252c975"
       ],
       "layout": "IPY_MODEL_7ab16bec51c94bf2bceb6b5a87608550"
      }
     },
     "77e58f230d66403e9362b161a25466d1": {
      "model_module": "@jupyter-widgets/base",
      "model_module_version": "1.2.0",
      "model_name": "LayoutModel",
      "state": {
       "_model_module": "@jupyter-widgets/base",
       "_model_module_version": "1.2.0",
       "_model_name": "LayoutModel",
       "_view_count": null,
       "_view_module": "@jupyter-widgets/base",
       "_view_module_version": "1.2.0",
       "_view_name": "LayoutView",
       "align_content": null,
       "align_items": null,
       "align_self": null,
       "border": null,
       "bottom": null,
       "display": null,
       "flex": null,
       "flex_flow": null,
       "grid_area": null,
       "grid_auto_columns": null,
       "grid_auto_flow": null,
       "grid_auto_rows": null,
       "grid_column": null,
       "grid_gap": null,
       "grid_row": null,
       "grid_template_areas": null,
       "grid_template_columns": null,
       "grid_template_rows": null,
       "height": null,
       "justify_content": null,
       "justify_items": null,
       "left": null,
       "margin": null,
       "max_height": null,
       "max_width": null,
       "min_height": null,
       "min_width": null,
       "object_fit": null,
       "object_position": null,
       "order": null,
       "overflow": null,
       "overflow_x": null,
       "overflow_y": null,
       "padding": null,
       "right": null,
       "top": null,
       "visibility": null,
       "width": null
      }
     },
     "7ab16bec51c94bf2bceb6b5a87608550": {
      "model_module": "@jupyter-widgets/base",
      "model_module_version": "1.2.0",
      "model_name": "LayoutModel",
      "state": {
       "_model_module": "@jupyter-widgets/base",
       "_model_module_version": "1.2.0",
       "_model_name": "LayoutModel",
       "_view_count": null,
       "_view_module": "@jupyter-widgets/base",
       "_view_module_version": "1.2.0",
       "_view_name": "LayoutView",
       "align_content": null,
       "align_items": null,
       "align_self": null,
       "border": null,
       "bottom": null,
       "display": null,
       "flex": null,
       "flex_flow": null,
       "grid_area": null,
       "grid_auto_columns": null,
       "grid_auto_flow": null,
       "grid_auto_rows": null,
       "grid_column": null,
       "grid_gap": null,
       "grid_row": null,
       "grid_template_areas": null,
       "grid_template_columns": null,
       "grid_template_rows": null,
       "height": null,
       "justify_content": null,
       "justify_items": null,
       "left": null,
       "margin": null,
       "max_height": null,
       "max_width": null,
       "min_height": null,
       "min_width": null,
       "object_fit": null,
       "object_position": null,
       "order": null,
       "overflow": null,
       "overflow_x": null,
       "overflow_y": null,
       "padding": null,
       "right": null,
       "top": null,
       "visibility": null,
       "width": null
      }
     },
     "7b621d909b6e4cf990c6ac407a005ecd": {
      "model_module": "@jupyter-widgets/base",
      "model_module_version": "1.2.0",
      "model_name": "LayoutModel",
      "state": {
       "_model_module": "@jupyter-widgets/base",
       "_model_module_version": "1.2.0",
       "_model_name": "LayoutModel",
       "_view_count": null,
       "_view_module": "@jupyter-widgets/base",
       "_view_module_version": "1.2.0",
       "_view_name": "LayoutView",
       "align_content": null,
       "align_items": null,
       "align_self": null,
       "border": null,
       "bottom": null,
       "display": null,
       "flex": null,
       "flex_flow": null,
       "grid_area": null,
       "grid_auto_columns": null,
       "grid_auto_flow": null,
       "grid_auto_rows": null,
       "grid_column": null,
       "grid_gap": null,
       "grid_row": null,
       "grid_template_areas": null,
       "grid_template_columns": null,
       "grid_template_rows": null,
       "height": null,
       "justify_content": null,
       "justify_items": null,
       "left": null,
       "margin": null,
       "max_height": null,
       "max_width": null,
       "min_height": null,
       "min_width": null,
       "object_fit": null,
       "object_position": null,
       "order": null,
       "overflow": null,
       "overflow_x": null,
       "overflow_y": null,
       "padding": null,
       "right": null,
       "top": null,
       "visibility": null,
       "width": null
      }
     },
     "81195fd1dd354658b67f9311236ae4ea": {
      "model_module": "@jupyter-widgets/controls",
      "model_module_version": "1.5.0",
      "model_name": "DescriptionStyleModel",
      "state": {
       "_model_module": "@jupyter-widgets/controls",
       "_model_module_version": "1.5.0",
       "_model_name": "DescriptionStyleModel",
       "_view_count": null,
       "_view_module": "@jupyter-widgets/base",
       "_view_module_version": "1.2.0",
       "_view_name": "StyleView",
       "description_width": ""
      }
     },
     "8a5b53c0dc9f432cb7af75ce1930edd0": {
      "model_module": "@jupyter-widgets/controls",
      "model_module_version": "1.5.0",
      "model_name": "DescriptionStyleModel",
      "state": {
       "_model_module": "@jupyter-widgets/controls",
       "_model_module_version": "1.5.0",
       "_model_name": "DescriptionStyleModel",
       "_view_count": null,
       "_view_module": "@jupyter-widgets/base",
       "_view_module_version": "1.2.0",
       "_view_name": "StyleView",
       "description_width": ""
      }
     },
     "8c685cc5facf41c38e58ddffd3bba371": {
      "model_module": "@jupyter-widgets/controls",
      "model_module_version": "1.5.0",
      "model_name": "DescriptionStyleModel",
      "state": {
       "_model_module": "@jupyter-widgets/controls",
       "_model_module_version": "1.5.0",
       "_model_name": "DescriptionStyleModel",
       "_view_count": null,
       "_view_module": "@jupyter-widgets/base",
       "_view_module_version": "1.2.0",
       "_view_name": "StyleView",
       "description_width": ""
      }
     },
     "90cb4be3b84140bd8f52b799311a189e": {
      "model_module": "@jupyter-widgets/controls",
      "model_module_version": "1.5.0",
      "model_name": "HTMLModel",
      "state": {
       "_dom_classes": [],
       "_model_module": "@jupyter-widgets/controls",
       "_model_module_version": "1.5.0",
       "_model_name": "HTMLModel",
       "_view_count": null,
       "_view_module": "@jupyter-widgets/controls",
       "_view_module_version": "1.5.0",
       "_view_name": "HTMLView",
       "description": "",
       "description_tooltip": null,
       "layout": "IPY_MODEL_7b621d909b6e4cf990c6ac407a005ecd",
       "placeholder": "​",
       "style": "IPY_MODEL_f2ba1d7153454958855acdf3bb80aa31",
       "value": " 609/609 [00:00&lt;00:00, 41.9kB/s]"
      }
     },
     "91f404e58de14f6080bd8278c7dc64f8": {
      "model_module": "@jupyter-widgets/controls",
      "model_module_version": "1.5.0",
      "model_name": "HBoxModel",
      "state": {
       "_dom_classes": [],
       "_model_module": "@jupyter-widgets/controls",
       "_model_module_version": "1.5.0",
       "_model_name": "HBoxModel",
       "_view_count": null,
       "_view_module": "@jupyter-widgets/controls",
       "_view_module_version": "1.5.0",
       "_view_name": "HBoxView",
       "box_style": "",
       "children": [
        "IPY_MODEL_2aab06a59e434c209a32f45e93241e20",
        "IPY_MODEL_ba989245663742839b97eee7fe494185",
        "IPY_MODEL_b88051a8a776477481c42372a431297c"
       ],
       "layout": "IPY_MODEL_9dc0591218d24b2a888e6f028c813fc1"
      }
     },
     "99276888fbfd4f8fa40cae64cc381ad1": {
      "model_module": "@jupyter-widgets/base",
      "model_module_version": "1.2.0",
      "model_name": "LayoutModel",
      "state": {
       "_model_module": "@jupyter-widgets/base",
       "_model_module_version": "1.2.0",
       "_model_name": "LayoutModel",
       "_view_count": null,
       "_view_module": "@jupyter-widgets/base",
       "_view_module_version": "1.2.0",
       "_view_name": "LayoutView",
       "align_content": null,
       "align_items": null,
       "align_self": null,
       "border": null,
       "bottom": null,
       "display": null,
       "flex": null,
       "flex_flow": null,
       "grid_area": null,
       "grid_auto_columns": null,
       "grid_auto_flow": null,
       "grid_auto_rows": null,
       "grid_column": null,
       "grid_gap": null,
       "grid_row": null,
       "grid_template_areas": null,
       "grid_template_columns": null,
       "grid_template_rows": null,
       "height": null,
       "justify_content": null,
       "justify_items": null,
       "left": null,
       "margin": null,
       "max_height": null,
       "max_width": null,
       "min_height": null,
       "min_width": null,
       "object_fit": null,
       "object_position": null,
       "order": null,
       "overflow": null,
       "overflow_x": null,
       "overflow_y": null,
       "padding": null,
       "right": null,
       "top": null,
       "visibility": null,
       "width": null
      }
     },
     "9dc0591218d24b2a888e6f028c813fc1": {
      "model_module": "@jupyter-widgets/base",
      "model_module_version": "1.2.0",
      "model_name": "LayoutModel",
      "state": {
       "_model_module": "@jupyter-widgets/base",
       "_model_module_version": "1.2.0",
       "_model_name": "LayoutModel",
       "_view_count": null,
       "_view_module": "@jupyter-widgets/base",
       "_view_module_version": "1.2.0",
       "_view_name": "LayoutView",
       "align_content": null,
       "align_items": null,
       "align_self": null,
       "border": null,
       "bottom": null,
       "display": null,
       "flex": null,
       "flex_flow": null,
       "grid_area": null,
       "grid_auto_columns": null,
       "grid_auto_flow": null,
       "grid_auto_rows": null,
       "grid_column": null,
       "grid_gap": null,
       "grid_row": null,
       "grid_template_areas": null,
       "grid_template_columns": null,
       "grid_template_rows": null,
       "height": null,
       "justify_content": null,
       "justify_items": null,
       "left": null,
       "margin": null,
       "max_height": null,
       "max_width": null,
       "min_height": null,
       "min_width": null,
       "object_fit": null,
       "object_position": null,
       "order": null,
       "overflow": null,
       "overflow_x": null,
       "overflow_y": null,
       "padding": null,
       "right": null,
       "top": null,
       "visibility": null,
       "width": null
      }
     },
     "a0e338f524b745c99f815d5f505081da": {
      "model_module": "@jupyter-widgets/controls",
      "model_module_version": "1.5.0",
      "model_name": "ProgressStyleModel",
      "state": {
       "_model_module": "@jupyter-widgets/controls",
       "_model_module_version": "1.5.0",
       "_model_name": "ProgressStyleModel",
       "_view_count": null,
       "_view_module": "@jupyter-widgets/base",
       "_view_module_version": "1.2.0",
       "_view_name": "StyleView",
       "bar_color": null,
       "description_width": ""
      }
     },
     "aaf5f431e9a84b0ebd977ba47b041b97": {
      "model_module": "@jupyter-widgets/base",
      "model_module_version": "1.2.0",
      "model_name": "LayoutModel",
      "state": {
       "_model_module": "@jupyter-widgets/base",
       "_model_module_version": "1.2.0",
       "_model_name": "LayoutModel",
       "_view_count": null,
       "_view_module": "@jupyter-widgets/base",
       "_view_module_version": "1.2.0",
       "_view_name": "LayoutView",
       "align_content": null,
       "align_items": null,
       "align_self": null,
       "border": null,
       "bottom": null,
       "display": null,
       "flex": null,
       "flex_flow": null,
       "grid_area": null,
       "grid_auto_columns": null,
       "grid_auto_flow": null,
       "grid_auto_rows": null,
       "grid_column": null,
       "grid_gap": null,
       "grid_row": null,
       "grid_template_areas": null,
       "grid_template_columns": null,
       "grid_template_rows": null,
       "height": null,
       "justify_content": null,
       "justify_items": null,
       "left": null,
       "margin": null,
       "max_height": null,
       "max_width": null,
       "min_height": null,
       "min_width": null,
       "object_fit": null,
       "object_position": null,
       "order": null,
       "overflow": null,
       "overflow_x": null,
       "overflow_y": null,
       "padding": null,
       "right": null,
       "top": null,
       "visibility": null,
       "width": null
      }
     },
     "b085b5eb9bee4bf6bd4852a0a3ffede1": {
      "model_module": "@jupyter-widgets/controls",
      "model_module_version": "1.5.0",
      "model_name": "ProgressStyleModel",
      "state": {
       "_model_module": "@jupyter-widgets/controls",
       "_model_module_version": "1.5.0",
       "_model_name": "ProgressStyleModel",
       "_view_count": null,
       "_view_module": "@jupyter-widgets/base",
       "_view_module_version": "1.2.0",
       "_view_name": "StyleView",
       "bar_color": null,
       "description_width": ""
      }
     },
     "b1ccaaea437f4e35bbc35a5421de3948": {
      "model_module": "@jupyter-widgets/controls",
      "model_module_version": "1.5.0",
      "model_name": "HBoxModel",
      "state": {
       "_dom_classes": [],
       "_model_module": "@jupyter-widgets/controls",
       "_model_module_version": "1.5.0",
       "_model_name": "HBoxModel",
       "_view_count": null,
       "_view_module": "@jupyter-widgets/controls",
       "_view_module_version": "1.5.0",
       "_view_name": "HBoxView",
       "box_style": "",
       "children": [
        "IPY_MODEL_e59b978a4d01464b94960ba9f3bb47de",
        "IPY_MODEL_c7f9faa4560c4277997442800502bcee",
        "IPY_MODEL_3b7e97180e864c90937334e68826a5eb"
       ],
       "layout": "IPY_MODEL_3107a490e22946599323cf44ec053bf1"
      }
     },
     "b2ff080f1c2844a5a4aa4790dca9f059": {
      "model_module": "@jupyter-widgets/controls",
      "model_module_version": "1.5.0",
      "model_name": "HBoxModel",
      "state": {
       "_dom_classes": [],
       "_model_module": "@jupyter-widgets/controls",
       "_model_module_version": "1.5.0",
       "_model_name": "HBoxModel",
       "_view_count": null,
       "_view_module": "@jupyter-widgets/controls",
       "_view_module_version": "1.5.0",
       "_view_name": "HBoxView",
       "box_style": "",
       "children": [
        "IPY_MODEL_592e89dedbc04c2c834f680061d54dfe",
        "IPY_MODEL_b4fa3d40fedb4b929830a386b7de5733",
        "IPY_MODEL_90cb4be3b84140bd8f52b799311a189e"
       ],
       "layout": "IPY_MODEL_6caa5fec0d174c11b6c5189d1cd7d734"
      }
     },
     "b4671f8d8e1b4738b5cce7bccf311649": {
      "model_module": "@jupyter-widgets/controls",
      "model_module_version": "1.5.0",
      "model_name": "ProgressStyleModel",
      "state": {
       "_model_module": "@jupyter-widgets/controls",
       "_model_module_version": "1.5.0",
       "_model_name": "ProgressStyleModel",
       "_view_count": null,
       "_view_module": "@jupyter-widgets/base",
       "_view_module_version": "1.2.0",
       "_view_name": "StyleView",
       "bar_color": null,
       "description_width": ""
      }
     },
     "b4fa3d40fedb4b929830a386b7de5733": {
      "model_module": "@jupyter-widgets/controls",
      "model_module_version": "1.5.0",
      "model_name": "FloatProgressModel",
      "state": {
       "_dom_classes": [],
       "_model_module": "@jupyter-widgets/controls",
       "_model_module_version": "1.5.0",
       "_model_name": "FloatProgressModel",
       "_view_count": null,
       "_view_module": "@jupyter-widgets/controls",
       "_view_module_version": "1.5.0",
       "_view_name": "ProgressView",
       "bar_style": "success",
       "description": "",
       "description_tooltip": null,
       "layout": "IPY_MODEL_0f67a848fae44d9db898176583f6df18",
       "max": 609.0,
       "min": 0.0,
       "orientation": "horizontal",
       "style": "IPY_MODEL_a0e338f524b745c99f815d5f505081da",
       "value": 609.0
      }
     },
     "b7cb225ebc3b4060a1f248bf484862c1": {
      "model_module": "@jupyter-widgets/base",
      "model_module_version": "1.2.0",
      "model_name": "LayoutModel",
      "state": {
       "_model_module": "@jupyter-widgets/base",
       "_model_module_version": "1.2.0",
       "_model_name": "LayoutModel",
       "_view_count": null,
       "_view_module": "@jupyter-widgets/base",
       "_view_module_version": "1.2.0",
       "_view_name": "LayoutView",
       "align_content": null,
       "align_items": null,
       "align_self": null,
       "border": null,
       "bottom": null,
       "display": null,
       "flex": null,
       "flex_flow": null,
       "grid_area": null,
       "grid_auto_columns": null,
       "grid_auto_flow": null,
       "grid_auto_rows": null,
       "grid_column": null,
       "grid_gap": null,
       "grid_row": null,
       "grid_template_areas": null,
       "grid_template_columns": null,
       "grid_template_rows": null,
       "height": null,
       "justify_content": null,
       "justify_items": null,
       "left": null,
       "margin": null,
       "max_height": null,
       "max_width": null,
       "min_height": null,
       "min_width": null,
       "object_fit": null,
       "object_position": null,
       "order": null,
       "overflow": null,
       "overflow_x": null,
       "overflow_y": null,
       "padding": null,
       "right": null,
       "top": null,
       "visibility": null,
       "width": null
      }
     },
     "b88051a8a776477481c42372a431297c": {
      "model_module": "@jupyter-widgets/controls",
      "model_module_version": "1.5.0",
      "model_name": "HTMLModel",
      "state": {
       "_dom_classes": [],
       "_model_module": "@jupyter-widgets/controls",
       "_model_module_version": "1.5.0",
       "_model_name": "HTMLModel",
       "_view_count": null,
       "_view_module": "@jupyter-widgets/controls",
       "_view_module_version": "1.5.0",
       "_view_name": "HTMLView",
       "description": "",
       "description_tooltip": null,
       "layout": "IPY_MODEL_fa4ef649641843e3aac23129a5c8db31",
       "placeholder": "​",
       "style": "IPY_MODEL_d4b4a1b6eb9d48e6b7bdf253b50cb948",
       "value": " 1.20G/1.20G [00:05&lt;00:00, 287MB/s]"
      }
     },
     "ba989245663742839b97eee7fe494185": {
      "model_module": "@jupyter-widgets/controls",
      "model_module_version": "1.5.0",
      "model_name": "FloatProgressModel",
      "state": {
       "_dom_classes": [],
       "_model_module": "@jupyter-widgets/controls",
       "_model_module_version": "1.5.0",
       "_model_name": "FloatProgressModel",
       "_view_count": null,
       "_view_module": "@jupyter-widgets/controls",
       "_view_module_version": "1.5.0",
       "_view_name": "ProgressView",
       "bar_style": "success",
       "description": "",
       "description_tooltip": null,
       "layout": "IPY_MODEL_2e69339a666f4e10b81650b8f668a4db",
       "max": 1200773595.0,
       "min": 0.0,
       "orientation": "horizontal",
       "style": "IPY_MODEL_b4671f8d8e1b4738b5cce7bccf311649",
       "value": 1200773595.0
      }
     },
     "c0e3604201bc4524aacbded8bc8ae9cc": {
      "model_module": "@jupyter-widgets/base",
      "model_module_version": "1.2.0",
      "model_name": "LayoutModel",
      "state": {
       "_model_module": "@jupyter-widgets/base",
       "_model_module_version": "1.2.0",
       "_model_name": "LayoutModel",
       "_view_count": null,
       "_view_module": "@jupyter-widgets/base",
       "_view_module_version": "1.2.0",
       "_view_name": "LayoutView",
       "align_content": null,
       "align_items": null,
       "align_self": null,
       "border": null,
       "bottom": null,
       "display": null,
       "flex": null,
       "flex_flow": null,
       "grid_area": null,
       "grid_auto_columns": null,
       "grid_auto_flow": null,
       "grid_auto_rows": null,
       "grid_column": null,
       "grid_gap": null,
       "grid_row": null,
       "grid_template_areas": null,
       "grid_template_columns": null,
       "grid_template_rows": null,
       "height": null,
       "justify_content": null,
       "justify_items": null,
       "left": null,
       "margin": null,
       "max_height": null,
       "max_width": null,
       "min_height": null,
       "min_width": null,
       "object_fit": null,
       "object_position": null,
       "order": null,
       "overflow": null,
       "overflow_x": null,
       "overflow_y": null,
       "padding": null,
       "right": null,
       "top": null,
       "visibility": null,
       "width": null
      }
     },
     "c635681e972c4f0f9157e5d2e4f26718": {
      "model_module": "@jupyter-widgets/controls",
      "model_module_version": "1.5.0",
      "model_name": "ProgressStyleModel",
      "state": {
       "_model_module": "@jupyter-widgets/controls",
       "_model_module_version": "1.5.0",
       "_model_name": "ProgressStyleModel",
       "_view_count": null,
       "_view_module": "@jupyter-widgets/base",
       "_view_module_version": "1.2.0",
       "_view_name": "StyleView",
       "bar_color": null,
       "description_width": ""
      }
     },
     "c7f9faa4560c4277997442800502bcee": {
      "model_module": "@jupyter-widgets/controls",
      "model_module_version": "1.5.0",
      "model_name": "FloatProgressModel",
      "state": {
       "_dom_classes": [],
       "_model_module": "@jupyter-widgets/controls",
       "_model_module_version": "1.5.0",
       "_model_name": "FloatProgressModel",
       "_view_count": null,
       "_view_module": "@jupyter-widgets/controls",
       "_view_module_version": "1.5.0",
       "_view_name": "ProgressView",
       "bar_style": "success",
       "description": "",
       "description_tooltip": null,
       "layout": "IPY_MODEL_4124f4d372d54fee95636323c3e3dbcc",
       "max": 383.0,
       "min": 0.0,
       "orientation": "horizontal",
       "style": "IPY_MODEL_c635681e972c4f0f9157e5d2e4f26718",
       "value": 383.0
      }
     },
     "d1424738df7746b38bfc4f9694f28191": {
      "model_module": "@jupyter-widgets/controls",
      "model_module_version": "1.5.0",
      "model_name": "HTMLModel",
      "state": {
       "_dom_classes": [],
       "_model_module": "@jupyter-widgets/controls",
       "_model_module_version": "1.5.0",
       "_model_name": "HTMLModel",
       "_view_count": null,
       "_view_module": "@jupyter-widgets/controls",
       "_view_module_version": "1.5.0",
       "_view_name": "HTMLView",
       "description": "",
       "description_tooltip": null,
       "layout": "IPY_MODEL_b7cb225ebc3b4060a1f248bf484862c1",
       "placeholder": "​",
       "style": "IPY_MODEL_17ff4765b6de4db3bc19b04156994b04",
       "value": "Downloading (…)cial_tokens_map.json: 100%"
      }
     },
     "d4b4a1b6eb9d48e6b7bdf253b50cb948": {
      "model_module": "@jupyter-widgets/controls",
      "model_module_version": "1.5.0",
      "model_name": "DescriptionStyleModel",
      "state": {
       "_model_module": "@jupyter-widgets/controls",
       "_model_module_version": "1.5.0",
       "_model_name": "DescriptionStyleModel",
       "_view_count": null,
       "_view_module": "@jupyter-widgets/base",
       "_view_module_version": "1.2.0",
       "_view_name": "StyleView",
       "description_width": ""
      }
     },
     "d9005c1bb6d0444d9672a8170f70e41d": {
      "model_module": "@jupyter-widgets/controls",
      "model_module_version": "1.5.0",
      "model_name": "ProgressStyleModel",
      "state": {
       "_model_module": "@jupyter-widgets/controls",
       "_model_module_version": "1.5.0",
       "_model_name": "ProgressStyleModel",
       "_view_count": null,
       "_view_module": "@jupyter-widgets/base",
       "_view_module_version": "1.2.0",
       "_view_name": "StyleView",
       "bar_color": null,
       "description_width": ""
      }
     },
     "dea99a81c45840a7952ebfb1acf92e42": {
      "model_module": "@jupyter-widgets/controls",
      "model_module_version": "1.5.0",
      "model_name": "DescriptionStyleModel",
      "state": {
       "_model_module": "@jupyter-widgets/controls",
       "_model_module_version": "1.5.0",
       "_model_name": "DescriptionStyleModel",
       "_view_count": null,
       "_view_module": "@jupyter-widgets/base",
       "_view_module_version": "1.2.0",
       "_view_name": "StyleView",
       "description_width": ""
      }
     },
     "e59b978a4d01464b94960ba9f3bb47de": {
      "model_module": "@jupyter-widgets/controls",
      "model_module_version": "1.5.0",
      "model_name": "HTMLModel",
      "state": {
       "_dom_classes": [],
       "_model_module": "@jupyter-widgets/controls",
       "_model_module_version": "1.5.0",
       "_model_name": "HTMLModel",
       "_view_count": null,
       "_view_module": "@jupyter-widgets/controls",
       "_view_module_version": "1.5.0",
       "_view_name": "HTMLView",
       "description": "",
       "description_tooltip": null,
       "layout": "IPY_MODEL_99276888fbfd4f8fa40cae64cc381ad1",
       "placeholder": "​",
       "style": "IPY_MODEL_428b8bb2fb524794987bc2307f969504",
       "value": "Downloading (…)okenizer_config.json: 100%"
      }
     },
     "e6ba6f9b21dc4dcea834542ff1c12ac7": {
      "model_module": "@jupyter-widgets/controls",
      "model_module_version": "1.5.0",
      "model_name": "HTMLModel",
      "state": {
       "_dom_classes": [],
       "_model_module": "@jupyter-widgets/controls",
       "_model_module_version": "1.5.0",
       "_model_name": "HTMLModel",
       "_view_count": null,
       "_view_module": "@jupyter-widgets/controls",
       "_view_module_version": "1.5.0",
       "_view_name": "HTMLView",
       "description": "",
       "description_tooltip": null,
       "layout": "IPY_MODEL_aaf5f431e9a84b0ebd977ba47b041b97",
       "placeholder": "​",
       "style": "IPY_MODEL_dea99a81c45840a7952ebfb1acf92e42",
       "value": " 4.31M/4.31M [00:00&lt;00:00, 68.0MB/s]"
      }
     },
     "eddfc840ecf045519ae4d6e830f9fa97": {
      "model_module": "@jupyter-widgets/base",
      "model_module_version": "1.2.0",
      "model_name": "LayoutModel",
      "state": {
       "_model_module": "@jupyter-widgets/base",
       "_model_module_version": "1.2.0",
       "_model_name": "LayoutModel",
       "_view_count": null,
       "_view_module": "@jupyter-widgets/base",
       "_view_module_version": "1.2.0",
       "_view_name": "LayoutView",
       "align_content": null,
       "align_items": null,
       "align_self": null,
       "border": null,
       "bottom": null,
       "display": null,
       "flex": null,
       "flex_flow": null,
       "grid_area": null,
       "grid_auto_columns": null,
       "grid_auto_flow": null,
       "grid_auto_rows": null,
       "grid_column": null,
       "grid_gap": null,
       "grid_row": null,
       "grid_template_areas": null,
       "grid_template_columns": null,
       "grid_template_rows": null,
       "height": null,
       "justify_content": null,
       "justify_items": null,
       "left": null,
       "margin": null,
       "max_height": null,
       "max_width": null,
       "min_height": null,
       "min_width": null,
       "object_fit": null,
       "object_position": null,
       "order": null,
       "overflow": null,
       "overflow_x": null,
       "overflow_y": null,
       "padding": null,
       "right": null,
       "top": null,
       "visibility": null,
       "width": null
      }
     },
     "f2ba1d7153454958855acdf3bb80aa31": {
      "model_module": "@jupyter-widgets/controls",
      "model_module_version": "1.5.0",
      "model_name": "DescriptionStyleModel",
      "state": {
       "_model_module": "@jupyter-widgets/controls",
       "_model_module_version": "1.5.0",
       "_model_name": "DescriptionStyleModel",
       "_view_count": null,
       "_view_module": "@jupyter-widgets/base",
       "_view_module_version": "1.2.0",
       "_view_name": "StyleView",
       "description_width": ""
      }
     },
     "f768de8f80dc4bc4b0256298b91b7ef5": {
      "model_module": "@jupyter-widgets/base",
      "model_module_version": "1.2.0",
      "model_name": "LayoutModel",
      "state": {
       "_model_module": "@jupyter-widgets/base",
       "_model_module_version": "1.2.0",
       "_model_name": "LayoutModel",
       "_view_count": null,
       "_view_module": "@jupyter-widgets/base",
       "_view_module_version": "1.2.0",
       "_view_name": "LayoutView",
       "align_content": null,
       "align_items": null,
       "align_self": null,
       "border": null,
       "bottom": null,
       "display": null,
       "flex": null,
       "flex_flow": null,
       "grid_area": null,
       "grid_auto_columns": null,
       "grid_auto_flow": null,
       "grid_auto_rows": null,
       "grid_column": null,
       "grid_gap": null,
       "grid_row": null,
       "grid_template_areas": null,
       "grid_template_columns": null,
       "grid_template_rows": null,
       "height": null,
       "justify_content": null,
       "justify_items": null,
       "left": null,
       "margin": null,
       "max_height": null,
       "max_width": null,
       "min_height": null,
       "min_width": null,
       "object_fit": null,
       "object_position": null,
       "order": null,
       "overflow": null,
       "overflow_x": null,
       "overflow_y": null,
       "padding": null,
       "right": null,
       "top": null,
       "visibility": null,
       "width": null
      }
     },
     "fa4ef649641843e3aac23129a5c8db31": {
      "model_module": "@jupyter-widgets/base",
      "model_module_version": "1.2.0",
      "model_name": "LayoutModel",
      "state": {
       "_model_module": "@jupyter-widgets/base",
       "_model_module_version": "1.2.0",
       "_model_name": "LayoutModel",
       "_view_count": null,
       "_view_module": "@jupyter-widgets/base",
       "_view_module_version": "1.2.0",
       "_view_name": "LayoutView",
       "align_content": null,
       "align_items": null,
       "align_self": null,
       "border": null,
       "bottom": null,
       "display": null,
       "flex": null,
       "flex_flow": null,
       "grid_area": null,
       "grid_auto_columns": null,
       "grid_auto_flow": null,
       "grid_auto_rows": null,
       "grid_column": null,
       "grid_gap": null,
       "grid_row": null,
       "grid_template_areas": null,
       "grid_template_columns": null,
       "grid_template_rows": null,
       "height": null,
       "justify_content": null,
       "justify_items": null,
       "left": null,
       "margin": null,
       "max_height": null,
       "max_width": null,
       "min_height": null,
       "min_width": null,
       "object_fit": null,
       "object_position": null,
       "order": null,
       "overflow": null,
       "overflow_x": null,
       "overflow_y": null,
       "padding": null,
       "right": null,
       "top": null,
       "visibility": null,
       "width": null
      }
     }
    },
    "version_major": 2,
    "version_minor": 0
   }
  }
 },
 "nbformat": 4,
 "nbformat_minor": 5
}
