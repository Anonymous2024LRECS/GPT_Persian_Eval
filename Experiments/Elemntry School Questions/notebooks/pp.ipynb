{
  "nbformat": 4,
  "nbformat_minor": 0,
  "metadata": {
    "colab": {
      "provenance": []
    },
    "kernelspec": {
      "name": "python3",
      "display_name": "Python 3"
    },
    "language_info": {
      "name": "python"
    }
  },
  "cells": [
    {
      "cell_type": "code",
      "execution_count": 79,
      "metadata": {
        "id": "0mnSjlunWTLX"
      },
      "outputs": [],
      "source": [
        "import pandas as pd\n",
        "df = pd.read_csv(\"/content/elem_q_res.csv\")"
      ]
    },
    {
      "cell_type": "code",
      "source": [
        "answer_list_pp = {}\n",
        "accuracy = {}\n",
        "a = list()\n",
        "for i in range(len(df)):\n",
        "  a.append(0)\n",
        "for i in range(len(df.columns[3:])):\n",
        "  answer_list_pp[df.columns[i+3]] = a"
      ],
      "metadata": {
        "id": "Bl7jEufGb9op"
      },
      "execution_count": 80,
      "outputs": []
    },
    {
      "cell_type": "code",
      "source": [
        "for i in range(len(df.columns[3:])):\n",
        "  c = 0\n",
        "\n",
        "  for j in range(len(df)):\n",
        "    answer_list_pp[df.columns[i+3]][j] = df[df.columns[i+3]][j]\n",
        "    if df[\"correct_ans\"][j] in df[df.columns[i+3]][j][:1]:\n",
        "      answer_list_pp[df.columns[i+3]][j] = df.correct_ans[j]\n",
        "      c += 1\n",
        "    else:\n",
        "      answer_list_pp[df.columns[i+3]][j] = answer_list_pp[df.columns[i+3]][j][:1]\n",
        "  accuracy[df.columns[i+3]] = c/len(df)"
      ],
      "metadata": {
        "id": "7nqhTTeqWsAl"
      },
      "execution_count": 84,
      "outputs": []
    },
    {
      "cell_type": "code",
      "source": [
        "for i,j in enumerate(answer_list_pp.keys()):\n",
        "  df[df.columns[i+3] + \"_post_process\"] = answer_list_pp[j]"
      ],
      "metadata": {
        "id": "4ex10RaNW1zL"
      },
      "execution_count": 89,
      "outputs": []
    },
    {
      "cell_type": "code",
      "source": [
        "df.to_csv(\"result_elem_q_pp.csv\")"
      ],
      "metadata": {
        "id": "D4snjrdFW19V"
      },
      "execution_count": 91,
      "outputs": []
    },
    {
      "cell_type": "code",
      "source": [
        "accuracy"
      ],
      "metadata": {
        "colab": {
          "base_uri": "https://localhost:8080/"
        },
        "id": "WWAVaI5qW2Dk",
        "outputId": "cf25019b-6ce7-4d40-c852-b85ced6e4691"
      },
      "execution_count": 92,
      "outputs": [
        {
          "output_type": "execute_result",
          "data": {
            "text/plain": [
              "{'model_ans': 0.62,\n",
              " 'model_ans_one_shot': 0.54,\n",
              " 'model_ans_three_shot': 0.52,\n",
              " 'model_ans_farsiprompt_zero': 0.54,\n",
              " 'model_ans_farsiprompt_one': 0.38,\n",
              " 'model_ans_farsiprompt_three': 0.54}"
            ]
          },
          "metadata": {},
          "execution_count": 92
        }
      ]
    },
    {
      "cell_type": "code",
      "source": [],
      "metadata": {
        "id": "XX19SmWzW2Gt"
      },
      "execution_count": null,
      "outputs": []
    },
    {
      "cell_type": "code",
      "source": [],
      "metadata": {
        "id": "pUTE8PeXW2J0"
      },
      "execution_count": null,
      "outputs": []
    }
  ]
}